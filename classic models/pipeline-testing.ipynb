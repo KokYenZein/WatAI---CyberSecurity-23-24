{
 "cells": [
  {
   "cell_type": "code",
   "execution_count": 1,
   "id": "bbf04ead",
   "metadata": {
    "_cell_guid": "b1076dfc-b9ad-4769-8c92-a6c4dae69d19",
    "_uuid": "8f2839f25d086af736a60e9eeb907d3b93b6e0e5",
    "execution": {
     "iopub.execute_input": "2023-11-18T05:56:17.310281Z",
     "iopub.status.busy": "2023-11-18T05:56:17.309385Z",
     "iopub.status.idle": "2023-11-18T05:56:20.321734Z",
     "shell.execute_reply": "2023-11-18T05:56:20.320512Z"
    },
    "papermill": {
     "duration": 3.041231,
     "end_time": "2023-11-18T05:56:20.324605",
     "exception": false,
     "start_time": "2023-11-18T05:56:17.283374",
     "status": "completed"
    },
    "tags": []
   },
   "outputs": [],
   "source": [
    "import numpy as np\n",
    "import pandas as pd\n",
    "import matplotlib.pyplot as plt\n",
    "import seaborn as sns\n",
    "from sklearn.preprocessing import StandardScaler, LabelEncoder\n",
    "from sklearn.model_selection import GridSearchCV, train_test_split\n",
    "from sklearn.metrics import confusion_matrix, classification_report, ConfusionMatrixDisplay\n",
    "from sklearn.ensemble import RandomForestClassifier\n",
    "import xgboost as xgb\n",
    "from imblearn.ensemble import BalancedRandomForestClassifier"
   ]
  },
  {
   "cell_type": "code",
   "execution_count": 2,
   "id": "7fbf0c89",
   "metadata": {
    "execution": {
     "iopub.execute_input": "2023-11-18T05:56:20.367100Z",
     "iopub.status.busy": "2023-11-18T05:56:20.366559Z",
     "iopub.status.idle": "2023-11-18T05:58:31.507875Z",
     "shell.execute_reply": "2023-11-18T05:58:31.506548Z"
    },
    "papermill": {
     "duration": 131.165646,
     "end_time": "2023-11-18T05:58:31.510706",
     "exception": false,
     "start_time": "2023-11-18T05:56:20.345060",
     "status": "completed"
    },
    "tags": []
   },
   "outputs": [],
   "source": [
    "# loading the dataset and 21 features\n",
    "df2 = pd.read_csv(\"/kaggle/input/creating-a-smaller-dataset-for-ciciot2023/0.1percent_2classes.csv\")[[\"duration\", \"srate\", \"drate\", \"syn_flag_number\", \"psh_flag_number\", \"ack_flag_number\", \"ack_count\", \"syn_count\", \"rst_count\", \n",
    "                \"header_length\", \"https\", \"ssh\", \"flow_duration\", \"avg\", \"max\", \"tot_sum\", \"min\", \"iat\", \"magnitude\", \"radius\", \"variance\", \"benign\"]]\n",
    "df8 = pd.read_csv(\"/kaggle/input/creating-a-smaller-dataset-for-ciciot2023/0.1percent_8classes.csv\")[[\"duration\", \"srate\", \"drate\", \"syn_flag_number\", \"psh_flag_number\", \"ack_flag_number\", \"ack_count\", \"syn_count\", \"rst_count\", \n",
    "                \"header_length\", \"https\", \"ssh\", \"flow_duration\", \"avg\", \"max\", \"tot_sum\", \"min\", \"iat\", \"magnitude\", \"radius\", \"variance\", \"label\"]]\n",
    "df34 = pd.read_csv(\"/kaggle/input/creating-a-smaller-dataset-for-ciciot2023/0.1percent_34classes.csv\")[[\"duration\", \"srate\", \"drate\", \"syn_flag_number\", \"psh_flag_number\", \"ack_flag_number\", \"ack_count\", \"syn_count\", \"rst_count\", \n",
    "                \"header_length\", \"https\", \"ssh\", \"flow_duration\", \"avg\", \"max\", \"tot_sum\", \"min\", \"iat\", \"magnitude\", \"radius\", \"variance\", \"label\"]]"
   ]
  },
  {
   "cell_type": "markdown",
   "id": "8a393ee2",
   "metadata": {
    "papermill": {
     "duration": 0.019709,
     "end_time": "2023-11-18T05:58:31.550971",
     "exception": false,
     "start_time": "2023-11-18T05:58:31.531262",
     "status": "completed"
    },
    "tags": []
   },
   "source": [
    "# Thought Process for Pipeline"
   ]
  },
  {
   "cell_type": "markdown",
   "id": "5ac5f58e",
   "metadata": {
    "papermill": {
     "duration": 0.019667,
     "end_time": "2023-11-18T05:58:31.591723",
     "exception": false,
     "start_time": "2023-11-18T05:58:31.572056",
     "status": "completed"
    },
    "tags": []
   },
   "source": [
    "# Pipeline 1\n",
    "1. `Benign` vs `Attack`   \n",
    "    1.1 Branch off to `Attack` \n",
    "\n",
    "2. `DDoS` vs `DoS` vs `Mirai` vs `Pooled1`  \n",
    "    2.1 The 3 attacks were chosen due to the ratio of data available compared to the labels in `Pooled1`  \n",
    "    2.2 `Pooled1` contains labels:`Spoofing`, `Recon`, `Web`, `BruteForce`  \n",
    "    2.3 Branch off to `Pooled1`\n",
    "\n",
    "3. `Spoofing` vs `Recon` vs `Pooled2`  \n",
    "    3.1 The 2 attacks were chosen due to the ratio of data available compared to the labels in `Pooled2`  \n",
    "    3.2 `Pooled2` contains labels: `Web`, `BruteForce`  \n",
    "    3.3 Branch off to `Pooled2`\n",
    "    \n",
    "4. `Web` vs `BruteForce`\n",
    "\n",
    "5. After classifying each Attack, we branch off to the attacks independently:  \n",
    "    5.1 `DDoS:` 'DDoS-RSTFINFlood', 'DDoS-PSHACK_Flood', 'DDoS-SYN_Flood', 'DDoS-UDP_Flood', 'DDoS-TCP_Flood', 'DDoS-ICMP_Flood', \n",
    "    'DDoS-SynonymousIP_Flood', 'DDoS-ACK_Fragmentation', 'DDoS-UDP_Fragmentation', 'DDoS-ICMP_Fragmentation', 'DDoS-SlowLoris', 'DDoS-HTTP_Flood'  \n",
    "    5.2 `DoS`: 'DoS-UDP_Flood', 'DoS-SYN_Flood', 'DoS-TCP_Flood', 'DoS-HTTP_Flood'  \n",
    "    5.3 `Mirai`: 'Mirai-greeth_flood', 'Mirai-greip_flood', 'Mirai-udpplain'  \n",
    "    5.4 `Spoofing`: 'MITM-ArpSpoofing', 'DNS_Spoofing'  \n",
    "    5.5 `Recon`: 'Recon-PingSweep', 'Recon-OSScan', 'Recon-PortScan', 'VulnerabilityScan', 'Recon-HostDiscovery'  \n",
    "    5.6 `Web`: 'BrowserHijacking', 'Backdoor_Malware', 'XSS', 'Uploading_Attack', 'SqlInjection', 'CommandInjection'  \n",
    "    5.7 `BruteForce`\n",
    "\n",
    "![Pipeline 1](https://github.com/KokYenZein/WatAI---CyberSecurity-23-24/blob/main/Pipelines/Pipeline1.png?raw=true)"
   ]
  },
  {
   "cell_type": "markdown",
   "id": "8b304f70",
   "metadata": {
    "papermill": {
     "duration": 0.020857,
     "end_time": "2023-11-18T05:58:31.632600",
     "exception": false,
     "start_time": "2023-11-18T05:58:31.611743",
     "status": "completed"
    },
    "tags": []
   },
   "source": [
    "# Pipeline 2\n",
    "..."
   ]
  },
  {
   "cell_type": "markdown",
   "id": "7e0b5d12",
   "metadata": {
    "papermill": {
     "duration": 0.019651,
     "end_time": "2023-11-18T05:58:31.673069",
     "exception": false,
     "start_time": "2023-11-18T05:58:31.653418",
     "status": "completed"
    },
    "tags": []
   },
   "source": [
    "# Creating DataFrames"
   ]
  },
  {
   "cell_type": "code",
   "execution_count": 3,
   "id": "d6bfe55b",
   "metadata": {
    "execution": {
     "iopub.execute_input": "2023-11-18T05:58:31.715655Z",
     "iopub.status.busy": "2023-11-18T05:58:31.714879Z",
     "iopub.status.idle": "2023-11-18T05:58:32.106596Z",
     "shell.execute_reply": "2023-11-18T05:58:32.105218Z"
    },
    "papermill": {
     "duration": 0.416374,
     "end_time": "2023-11-18T05:58:32.109424",
     "exception": false,
     "start_time": "2023-11-18T05:58:31.693050",
     "status": "completed"
    },
    "tags": []
   },
   "outputs": [],
   "source": [
    "# Benign vs Attack dataframe\n",
    "# `benign` column: True: Benign, False: Attack\n",
    "df_BeAt = df2.copy()"
   ]
  },
  {
   "cell_type": "code",
   "execution_count": 4,
   "id": "99ba00b5",
   "metadata": {
    "execution": {
     "iopub.execute_input": "2023-11-18T05:58:32.151327Z",
     "iopub.status.busy": "2023-11-18T05:58:32.150888Z",
     "iopub.status.idle": "2023-11-18T05:58:35.547085Z",
     "shell.execute_reply": "2023-11-18T05:58:35.545937Z"
    },
    "papermill": {
     "duration": 3.420241,
     "end_time": "2023-11-18T05:58:35.550207",
     "exception": false,
     "start_time": "2023-11-18T05:58:32.129966",
     "status": "completed"
    },
    "tags": []
   },
   "outputs": [],
   "source": [
    "# DDoS vs DoS vs Mirai vs Pooled1\n",
    "remap_labels = {\"Spoofing\": \"pooled1\", \"Recon\": \"pooled1\", \"Web\": \"pooled1\", \"BruteForce\": \"pooled1\"}\n",
    "\n",
    "\n",
    "df_DoDoMi = df8.copy()\n",
    "df_DoDoMi[\"label\"] = df_DoDoMi[\"label\"].apply(lambda x: remap_labels.get(x, x))\n",
    "df_DoDoMi = df_DoDoMi[df_DoDoMi['label'].isin([\"DDoS\", \"DoS\", \"Mirai\", \"pooled1\"])]\n",
    "\n",
    "df_pooled1 = df8[df8[\"label\"].isin([\"Spoofing\", \"Recon\", \"Web\", \"BruteForce\"])]"
   ]
  },
  {
   "cell_type": "code",
   "execution_count": 5,
   "id": "bb2118d2",
   "metadata": {
    "execution": {
     "iopub.execute_input": "2023-11-18T05:58:35.592589Z",
     "iopub.status.busy": "2023-11-18T05:58:35.591791Z",
     "iopub.status.idle": "2023-11-18T05:58:35.651272Z",
     "shell.execute_reply": "2023-11-18T05:58:35.649696Z"
    },
    "papermill": {
     "duration": 0.083617,
     "end_time": "2023-11-18T05:58:35.654146",
     "exception": false,
     "start_time": "2023-11-18T05:58:35.570529",
     "status": "completed"
    },
    "tags": []
   },
   "outputs": [],
   "source": [
    "# Spoofing vs Recon vs Pooled2\n",
    "remap_labels = {\"Web\": \"pooled2\", \"BruteForce\": \"pooled2\"}\n",
    "\n",
    "df_SpRe = df_pooled1.copy()\n",
    "df_SpRe[\"label\"] = df_SpRe[\"label\"].apply(lambda x: remap_labels.get(x, x))\n",
    "df_SpRe = df_SpRe[df_SpRe['label'].isin([\"Spoofing\", \"Recon\", \"pooled2\"])]\n",
    "\n",
    "df_WeBr = df_pooled1[df_pooled1[\"label\"].isin([\"Web\", \"BruteForce\"])]"
   ]
  },
  {
   "cell_type": "code",
   "execution_count": 6,
   "id": "36eaeeb4",
   "metadata": {
    "execution": {
     "iopub.execute_input": "2023-11-18T05:58:35.760685Z",
     "iopub.status.busy": "2023-11-18T05:58:35.760275Z",
     "iopub.status.idle": "2023-11-18T05:58:38.654351Z",
     "shell.execute_reply": "2023-11-18T05:58:38.653381Z"
    },
    "papermill": {
     "duration": 2.982199,
     "end_time": "2023-11-18T05:58:38.657027",
     "exception": false,
     "start_time": "2023-11-18T05:58:35.674828",
     "status": "completed"
    },
    "tags": []
   },
   "outputs": [],
   "source": [
    "df_DDoS = df34[df34[\"label\"].isin(['DDoS-RSTFINFlood', 'DDoS-PSHACK_Flood', 'DDoS-SYN_Flood', 'DDoS-UDP_Flood', 'DDoS-TCP_Flood', 'DDoS-ICMP_Flood', \n",
    "                                   'DDoS-SynonymousIP_Flood', 'DDoS-ACK_Fragmentation', 'DDoS-UDP_Fragmentation', 'DDoS-ICMP_Fragmentation', 'DDoS-SlowLoris', \n",
    "                                   'DDoS-HTTP_Flood'])]\n",
    "df_DoS = df34[df34[\"label\"].isin(['DoS-UDP_Flood', 'DoS-SYN_Flood', 'DoS-TCP_Flood', 'DoS-HTTP_Flood'])]\n",
    "df_Mirai = df34[df34[\"label\"].isin(['Mirai-greeth_flood', 'Mirai-greip_flood', 'Mirai-udpplain'])]\n",
    "df_Spoofing = df34[df34[\"label\"].isin(['MITM-ArpSpoofing', 'DNS_Spoofing'])]\n",
    "df_Recon = df34[df34[\"label\"].isin(['Recon-PingSweep', 'Recon-OSScan', 'Recon-PortScan', 'VulnerabilityScan', 'Recon-HostDiscovery'])]\n",
    "df_Web = df34[df34[\"label\"].isin(['BrowserHijacking', 'Backdoor_Malware', 'XSS', 'Uploading_Attack', 'SqlInjection', 'CommandInjection'])]"
   ]
  },
  {
   "cell_type": "code",
   "execution_count": 7,
   "id": "ede115f5",
   "metadata": {
    "execution": {
     "iopub.execute_input": "2023-11-18T05:58:38.700973Z",
     "iopub.status.busy": "2023-11-18T05:58:38.700081Z",
     "iopub.status.idle": "2023-11-18T05:58:39.506785Z",
     "shell.execute_reply": "2023-11-18T05:58:39.505644Z"
    },
    "papermill": {
     "duration": 0.831046,
     "end_time": "2023-11-18T05:58:39.509134",
     "exception": false,
     "start_time": "2023-11-18T05:58:38.678088",
     "status": "completed"
    },
    "tags": []
   },
   "outputs": [
    {
     "data": {
      "text/plain": [
       "label\n",
       "DDoS          3398438\n",
       "DoS            809091\n",
       "Mirai          263398\n",
       "Benign         109824\n",
       "Spoofing        48659\n",
       "Recon           35453\n",
       "Web              2487\n",
       "BruteForce       1303\n",
       "Name: count, dtype: int64"
      ]
     },
     "execution_count": 7,
     "metadata": {},
     "output_type": "execute_result"
    }
   ],
   "source": [
    "df8[\"label\"].value_counts()"
   ]
  },
  {
   "cell_type": "code",
   "execution_count": 8,
   "id": "f0fec254",
   "metadata": {
    "execution": {
     "iopub.execute_input": "2023-11-18T05:58:39.551996Z",
     "iopub.status.busy": "2023-11-18T05:58:39.551351Z",
     "iopub.status.idle": "2023-11-18T05:58:40.374547Z",
     "shell.execute_reply": "2023-11-18T05:58:40.373318Z"
    },
    "papermill": {
     "duration": 0.847348,
     "end_time": "2023-11-18T05:58:40.376926",
     "exception": false,
     "start_time": "2023-11-18T05:58:39.529578",
     "status": "completed"
    },
    "tags": []
   },
   "outputs": [
    {
     "data": {
      "text/plain": [
       "[label\n",
       " DDoS       3398438\n",
       " DoS         809091\n",
       " Mirai       263398\n",
       " pooled1      87902\n",
       " Name: count, dtype: int64,\n",
       " label\n",
       " Spoofing      48659\n",
       " Recon         35453\n",
       " Web            2487\n",
       " BruteForce     1303\n",
       " Name: count, dtype: int64,\n",
       " label\n",
       " Spoofing    48659\n",
       " Recon       35453\n",
       " pooled2      3790\n",
       " Name: count, dtype: int64,\n",
       " label\n",
       " Web           2487\n",
       " BruteForce    1303\n",
       " Name: count, dtype: int64]"
      ]
     },
     "execution_count": 8,
     "metadata": {},
     "output_type": "execute_result"
    }
   ],
   "source": [
    "# Validation check\n",
    "[df_DoDoMi[\"label\"].value_counts(), df_pooled1[\"label\"].value_counts(), df_SpRe[\"label\"].value_counts(), df_WeBr[\"label\"].value_counts()]"
   ]
  },
  {
   "cell_type": "markdown",
   "id": "1b55abb7",
   "metadata": {
    "papermill": {
     "duration": 0.019746,
     "end_time": "2023-11-18T05:58:40.417097",
     "exception": false,
     "start_time": "2023-11-18T05:58:40.397351",
     "status": "completed"
    },
    "tags": []
   },
   "source": [
    "# Pipeline 1 Testing"
   ]
  },
  {
   "cell_type": "markdown",
   "id": "e429b9f8",
   "metadata": {
    "papermill": {
     "duration": 0.020064,
     "end_time": "2023-11-18T05:58:40.457508",
     "exception": false,
     "start_time": "2023-11-18T05:58:40.437444",
     "status": "completed"
    },
    "tags": []
   },
   "source": [
    "# Benign vs Attack"
   ]
  },
  {
   "cell_type": "code",
   "execution_count": 9,
   "id": "664fcadf",
   "metadata": {
    "execution": {
     "iopub.execute_input": "2023-11-18T05:58:40.500230Z",
     "iopub.status.busy": "2023-11-18T05:58:40.499542Z",
     "iopub.status.idle": "2023-11-18T05:58:40.533174Z",
     "shell.execute_reply": "2023-11-18T05:58:40.532033Z"
    },
    "papermill": {
     "duration": 0.057745,
     "end_time": "2023-11-18T05:58:40.535700",
     "exception": false,
     "start_time": "2023-11-18T05:58:40.477955",
     "status": "completed"
    },
    "tags": []
   },
   "outputs": [
    {
     "data": {
      "text/html": [
       "<div>\n",
       "<style scoped>\n",
       "    .dataframe tbody tr th:only-of-type {\n",
       "        vertical-align: middle;\n",
       "    }\n",
       "\n",
       "    .dataframe tbody tr th {\n",
       "        vertical-align: top;\n",
       "    }\n",
       "\n",
       "    .dataframe thead th {\n",
       "        text-align: right;\n",
       "    }\n",
       "</style>\n",
       "<table border=\"1\" class=\"dataframe\">\n",
       "  <thead>\n",
       "    <tr style=\"text-align: right;\">\n",
       "      <th></th>\n",
       "      <th>duration</th>\n",
       "      <th>srate</th>\n",
       "      <th>drate</th>\n",
       "      <th>syn_flag_number</th>\n",
       "      <th>psh_flag_number</th>\n",
       "      <th>ack_flag_number</th>\n",
       "      <th>ack_count</th>\n",
       "      <th>syn_count</th>\n",
       "      <th>rst_count</th>\n",
       "      <th>header_length</th>\n",
       "      <th>...</th>\n",
       "      <th>flow_duration</th>\n",
       "      <th>avg</th>\n",
       "      <th>max</th>\n",
       "      <th>tot_sum</th>\n",
       "      <th>min</th>\n",
       "      <th>iat</th>\n",
       "      <th>magnitude</th>\n",
       "      <th>radius</th>\n",
       "      <th>variance</th>\n",
       "      <th>benign</th>\n",
       "    </tr>\n",
       "  </thead>\n",
       "  <tbody>\n",
       "    <tr>\n",
       "      <th>0</th>\n",
       "      <td>64.00</td>\n",
       "      <td>48</td>\n",
       "      <td>0.0</td>\n",
       "      <td>False</td>\n",
       "      <td>False</td>\n",
       "      <td>False</td>\n",
       "      <td>1.0</td>\n",
       "      <td>0.00</td>\n",
       "      <td>0</td>\n",
       "      <td>54</td>\n",
       "      <td>...</td>\n",
       "      <td>0.000000</td>\n",
       "      <td>54.000000</td>\n",
       "      <td>54.00</td>\n",
       "      <td>567.00</td>\n",
       "      <td>54.0</td>\n",
       "      <td>83345000.0</td>\n",
       "      <td>10.392304</td>\n",
       "      <td>0.000000</td>\n",
       "      <td>0.00</td>\n",
       "      <td>False</td>\n",
       "    </tr>\n",
       "    <tr>\n",
       "      <th>1</th>\n",
       "      <td>65.91</td>\n",
       "      <td>29</td>\n",
       "      <td>0.0</td>\n",
       "      <td>True</td>\n",
       "      <td>False</td>\n",
       "      <td>False</td>\n",
       "      <td>0.0</td>\n",
       "      <td>0.99</td>\n",
       "      <td>0</td>\n",
       "      <td>55</td>\n",
       "      <td>...</td>\n",
       "      <td>0.000000</td>\n",
       "      <td>54.253098</td>\n",
       "      <td>58.80</td>\n",
       "      <td>571.80</td>\n",
       "      <td>54.0</td>\n",
       "      <td>82985560.0</td>\n",
       "      <td>10.416152</td>\n",
       "      <td>1.528833</td>\n",
       "      <td>0.03</td>\n",
       "      <td>False</td>\n",
       "    </tr>\n",
       "    <tr>\n",
       "      <th>2</th>\n",
       "      <td>64.00</td>\n",
       "      <td>24362</td>\n",
       "      <td>0.0</td>\n",
       "      <td>False</td>\n",
       "      <td>False</td>\n",
       "      <td>False</td>\n",
       "      <td>0.0</td>\n",
       "      <td>0.00</td>\n",
       "      <td>0</td>\n",
       "      <td>17230</td>\n",
       "      <td>...</td>\n",
       "      <td>0.035177</td>\n",
       "      <td>50.000000</td>\n",
       "      <td>50.00</td>\n",
       "      <td>525.00</td>\n",
       "      <td>50.0</td>\n",
       "      <td>83102410.0</td>\n",
       "      <td>10.000000</td>\n",
       "      <td>0.000000</td>\n",
       "      <td>0.00</td>\n",
       "      <td>False</td>\n",
       "    </tr>\n",
       "    <tr>\n",
       "      <th>3</th>\n",
       "      <td>109.80</td>\n",
       "      <td>85</td>\n",
       "      <td>0.0</td>\n",
       "      <td>False</td>\n",
       "      <td>False</td>\n",
       "      <td>True</td>\n",
       "      <td>0.0</td>\n",
       "      <td>0.00</td>\n",
       "      <td>361</td>\n",
       "      <td>389809</td>\n",
       "      <td>...</td>\n",
       "      <td>3.932406</td>\n",
       "      <td>1178.800400</td>\n",
       "      <td>2962.00</td>\n",
       "      <td>18079.40</td>\n",
       "      <td>66.0</td>\n",
       "      <td>166521020.0</td>\n",
       "      <td>48.637638</td>\n",
       "      <td>1128.301500</td>\n",
       "      <td>1.00</td>\n",
       "      <td>True</td>\n",
       "    </tr>\n",
       "    <tr>\n",
       "      <th>4</th>\n",
       "      <td>68.40</td>\n",
       "      <td>7890</td>\n",
       "      <td>0.0</td>\n",
       "      <td>False</td>\n",
       "      <td>False</td>\n",
       "      <td>False</td>\n",
       "      <td>0.0</td>\n",
       "      <td>0.00</td>\n",
       "      <td>0</td>\n",
       "      <td>11323</td>\n",
       "      <td>...</td>\n",
       "      <td>0.069597</td>\n",
       "      <td>53.363760</td>\n",
       "      <td>93.99</td>\n",
       "      <td>571.87</td>\n",
       "      <td>50.0</td>\n",
       "      <td>83487416.0</td>\n",
       "      <td>10.310076</td>\n",
       "      <td>15.865254</td>\n",
       "      <td>0.26</td>\n",
       "      <td>False</td>\n",
       "    </tr>\n",
       "  </tbody>\n",
       "</table>\n",
       "<p>5 rows × 22 columns</p>\n",
       "</div>"
      ],
      "text/plain": [
       "   duration  srate  drate  syn_flag_number  psh_flag_number  ack_flag_number  \\\n",
       "0     64.00     48    0.0            False            False            False   \n",
       "1     65.91     29    0.0             True            False            False   \n",
       "2     64.00  24362    0.0            False            False            False   \n",
       "3    109.80     85    0.0            False            False             True   \n",
       "4     68.40   7890    0.0            False            False            False   \n",
       "\n",
       "   ack_count  syn_count  rst_count  header_length  ...  flow_duration  \\\n",
       "0        1.0       0.00          0             54  ...       0.000000   \n",
       "1        0.0       0.99          0             55  ...       0.000000   \n",
       "2        0.0       0.00          0          17230  ...       0.035177   \n",
       "3        0.0       0.00        361         389809  ...       3.932406   \n",
       "4        0.0       0.00          0          11323  ...       0.069597   \n",
       "\n",
       "           avg      max   tot_sum   min          iat  magnitude       radius  \\\n",
       "0    54.000000    54.00    567.00  54.0   83345000.0  10.392304     0.000000   \n",
       "1    54.253098    58.80    571.80  54.0   82985560.0  10.416152     1.528833   \n",
       "2    50.000000    50.00    525.00  50.0   83102410.0  10.000000     0.000000   \n",
       "3  1178.800400  2962.00  18079.40  66.0  166521020.0  48.637638  1128.301500   \n",
       "4    53.363760    93.99    571.87  50.0   83487416.0  10.310076    15.865254   \n",
       "\n",
       "   variance  benign  \n",
       "0      0.00   False  \n",
       "1      0.03   False  \n",
       "2      0.00   False  \n",
       "3      1.00    True  \n",
       "4      0.26   False  \n",
       "\n",
       "[5 rows x 22 columns]"
      ]
     },
     "execution_count": 9,
     "metadata": {},
     "output_type": "execute_result"
    }
   ],
   "source": [
    "# dataset used is df_BeAt\n",
    "df_BeAt.head()"
   ]
  },
  {
   "cell_type": "code",
   "execution_count": 10,
   "id": "1d512afb",
   "metadata": {
    "execution": {
     "iopub.execute_input": "2023-11-18T05:58:40.581068Z",
     "iopub.status.busy": "2023-11-18T05:58:40.580206Z",
     "iopub.status.idle": "2023-11-18T05:58:40.628573Z",
     "shell.execute_reply": "2023-11-18T05:58:40.627468Z"
    },
    "papermill": {
     "duration": 0.073745,
     "end_time": "2023-11-18T05:58:40.630947",
     "exception": false,
     "start_time": "2023-11-18T05:58:40.557202",
     "status": "completed"
    },
    "tags": []
   },
   "outputs": [
    {
     "data": {
      "text/plain": [
       "benign\n",
       "False    4558829\n",
       "True      109824\n",
       "Name: count, dtype: int64"
      ]
     },
     "execution_count": 10,
     "metadata": {},
     "output_type": "execute_result"
    }
   ],
   "source": [
    "df_BeAt[\"benign\"].value_counts()"
   ]
  },
  {
   "cell_type": "code",
   "execution_count": 11,
   "id": "b07d3fb4",
   "metadata": {
    "execution": {
     "iopub.execute_input": "2023-11-18T05:58:40.676540Z",
     "iopub.status.busy": "2023-11-18T05:58:40.676133Z",
     "iopub.status.idle": "2023-11-18T05:58:56.921190Z",
     "shell.execute_reply": "2023-11-18T05:58:56.919716Z"
    },
    "papermill": {
     "duration": 16.271829,
     "end_time": "2023-11-18T05:58:56.924174",
     "exception": false,
     "start_time": "2023-11-18T05:58:40.652345",
     "status": "completed"
    },
    "tags": []
   },
   "outputs": [],
   "source": [
    "# Preprocessing\n",
    "X = df_BeAt.drop(\"benign\", axis=1)\n",
    "y = df_BeAt[\"benign\"]\n",
    "\n",
    "# splitting out dataset to train and test\n",
    "X_train, X_test, y_train, y_test = train_test_split(X, y, test_size=0.2, stratify=y)\n",
    "\n",
    "# scaling features\n",
    "scaler = StandardScaler()\n",
    "scaled_X_train = scaler.fit_transform(X_train)\n",
    "scaled_X_test = scaler.fit_transform(X_test)\n",
    "\n",
    "# hot code \"label\" since xgboost only accepts number types\n",
    "label = LabelEncoder()\n",
    "encoded_y_train = label.fit_transform(y_train)\n",
    "encoded_y_test = label.fit_transform(y_test)"
   ]
  },
  {
   "cell_type": "code",
   "execution_count": 12,
   "id": "10214f80",
   "metadata": {
    "execution": {
     "iopub.execute_input": "2023-11-18T05:58:56.968335Z",
     "iopub.status.busy": "2023-11-18T05:58:56.967544Z",
     "iopub.status.idle": "2023-11-18T05:59:40.927221Z",
     "shell.execute_reply": "2023-11-18T05:59:40.925691Z"
    },
    "papermill": {
     "duration": 44.005657,
     "end_time": "2023-11-18T05:59:40.950887",
     "exception": false,
     "start_time": "2023-11-18T05:58:56.945230",
     "status": "completed"
    },
    "tags": []
   },
   "outputs": [
    {
     "name": "stderr",
     "output_type": "stream",
     "text": [
      "/opt/conda/lib/python3.10/site-packages/xgboost/core.py:160: UserWarning: [05:59:02] WARNING: /workspace/src/learner.cc:742: \n",
      "Parameters: { \"max_samples\" } are not used.\n",
      "\n",
      "  warnings.warn(smsg, UserWarning)\n"
     ]
    },
    {
     "data": {
      "text/html": [
       "<style>#sk-container-id-1 {color: black;background-color: white;}#sk-container-id-1 pre{padding: 0;}#sk-container-id-1 div.sk-toggleable {background-color: white;}#sk-container-id-1 label.sk-toggleable__label {cursor: pointer;display: block;width: 100%;margin-bottom: 0;padding: 0.3em;box-sizing: border-box;text-align: center;}#sk-container-id-1 label.sk-toggleable__label-arrow:before {content: \"▸\";float: left;margin-right: 0.25em;color: #696969;}#sk-container-id-1 label.sk-toggleable__label-arrow:hover:before {color: black;}#sk-container-id-1 div.sk-estimator:hover label.sk-toggleable__label-arrow:before {color: black;}#sk-container-id-1 div.sk-toggleable__content {max-height: 0;max-width: 0;overflow: hidden;text-align: left;background-color: #f0f8ff;}#sk-container-id-1 div.sk-toggleable__content pre {margin: 0.2em;color: black;border-radius: 0.25em;background-color: #f0f8ff;}#sk-container-id-1 input.sk-toggleable__control:checked~div.sk-toggleable__content {max-height: 200px;max-width: 100%;overflow: auto;}#sk-container-id-1 input.sk-toggleable__control:checked~label.sk-toggleable__label-arrow:before {content: \"▾\";}#sk-container-id-1 div.sk-estimator input.sk-toggleable__control:checked~label.sk-toggleable__label {background-color: #d4ebff;}#sk-container-id-1 div.sk-label input.sk-toggleable__control:checked~label.sk-toggleable__label {background-color: #d4ebff;}#sk-container-id-1 input.sk-hidden--visually {border: 0;clip: rect(1px 1px 1px 1px);clip: rect(1px, 1px, 1px, 1px);height: 1px;margin: -1px;overflow: hidden;padding: 0;position: absolute;width: 1px;}#sk-container-id-1 div.sk-estimator {font-family: monospace;background-color: #f0f8ff;border: 1px dotted black;border-radius: 0.25em;box-sizing: border-box;margin-bottom: 0.5em;}#sk-container-id-1 div.sk-estimator:hover {background-color: #d4ebff;}#sk-container-id-1 div.sk-parallel-item::after {content: \"\";width: 100%;border-bottom: 1px solid gray;flex-grow: 1;}#sk-container-id-1 div.sk-label:hover label.sk-toggleable__label {background-color: #d4ebff;}#sk-container-id-1 div.sk-serial::before {content: \"\";position: absolute;border-left: 1px solid gray;box-sizing: border-box;top: 0;bottom: 0;left: 50%;z-index: 0;}#sk-container-id-1 div.sk-serial {display: flex;flex-direction: column;align-items: center;background-color: white;padding-right: 0.2em;padding-left: 0.2em;position: relative;}#sk-container-id-1 div.sk-item {position: relative;z-index: 1;}#sk-container-id-1 div.sk-parallel {display: flex;align-items: stretch;justify-content: center;background-color: white;position: relative;}#sk-container-id-1 div.sk-item::before, #sk-container-id-1 div.sk-parallel-item::before {content: \"\";position: absolute;border-left: 1px solid gray;box-sizing: border-box;top: 0;bottom: 0;left: 50%;z-index: -1;}#sk-container-id-1 div.sk-parallel-item {display: flex;flex-direction: column;z-index: 1;position: relative;background-color: white;}#sk-container-id-1 div.sk-parallel-item:first-child::after {align-self: flex-end;width: 50%;}#sk-container-id-1 div.sk-parallel-item:last-child::after {align-self: flex-start;width: 50%;}#sk-container-id-1 div.sk-parallel-item:only-child::after {width: 0;}#sk-container-id-1 div.sk-dashed-wrapped {border: 1px dashed gray;margin: 0 0.4em 0.5em 0.4em;box-sizing: border-box;padding-bottom: 0.4em;background-color: white;}#sk-container-id-1 div.sk-label label {font-family: monospace;font-weight: bold;display: inline-block;line-height: 1.2em;}#sk-container-id-1 div.sk-label-container {text-align: center;}#sk-container-id-1 div.sk-container {/* jupyter's `normalize.less` sets `[hidden] { display: none; }` but bootstrap.min.css set `[hidden] { display: none !important; }` so we also need the `!important` here to be able to override the default hidden behavior on the sphinx rendered scikit-learn.org. See: https://github.com/scikit-learn/scikit-learn/issues/21755 */display: inline-block !important;position: relative;}#sk-container-id-1 div.sk-text-repr-fallback {display: none;}</style><div id=\"sk-container-id-1\" class=\"sk-top-container\"><div class=\"sk-text-repr-fallback\"><pre>XGBClassifier(base_score=None, booster=&#x27;gbtree&#x27;, callbacks=None,\n",
       "              colsample_bylevel=None, colsample_bynode=None,\n",
       "              colsample_bytree=None, device=None, early_stopping_rounds=None,\n",
       "              enable_categorical=False, eval_metric=None, feature_types=None,\n",
       "              gamma=None, grow_policy=None, importance_type=None,\n",
       "              interaction_constraints=None, learning_rate=None, max_bin=None,\n",
       "              max_cat_threshold=None, max_cat_to_onehot=None,\n",
       "              max_delta_step=None, max_depth=13, max_leaves=None,\n",
       "              max_samples=0.9, min_child_weight=None, missing=nan,\n",
       "              monotone_constraints=None, multi_strategy=None, n_estimators=100,\n",
       "              n_jobs=None, num_parallel_tree=None, ...)</pre><b>In a Jupyter environment, please rerun this cell to show the HTML representation or trust the notebook. <br />On GitHub, the HTML representation is unable to render, please try loading this page with nbviewer.org.</b></div><div class=\"sk-container\" hidden><div class=\"sk-item\"><div class=\"sk-estimator sk-toggleable\"><input class=\"sk-toggleable__control sk-hidden--visually\" id=\"sk-estimator-id-1\" type=\"checkbox\" checked><label for=\"sk-estimator-id-1\" class=\"sk-toggleable__label sk-toggleable__label-arrow\">XGBClassifier</label><div class=\"sk-toggleable__content\"><pre>XGBClassifier(base_score=None, booster=&#x27;gbtree&#x27;, callbacks=None,\n",
       "              colsample_bylevel=None, colsample_bynode=None,\n",
       "              colsample_bytree=None, device=None, early_stopping_rounds=None,\n",
       "              enable_categorical=False, eval_metric=None, feature_types=None,\n",
       "              gamma=None, grow_policy=None, importance_type=None,\n",
       "              interaction_constraints=None, learning_rate=None, max_bin=None,\n",
       "              max_cat_threshold=None, max_cat_to_onehot=None,\n",
       "              max_delta_step=None, max_depth=13, max_leaves=None,\n",
       "              max_samples=0.9, min_child_weight=None, missing=nan,\n",
       "              monotone_constraints=None, multi_strategy=None, n_estimators=100,\n",
       "              n_jobs=None, num_parallel_tree=None, ...)</pre></div></div></div></div></div>"
      ],
      "text/plain": [
       "XGBClassifier(base_score=None, booster='gbtree', callbacks=None,\n",
       "              colsample_bylevel=None, colsample_bynode=None,\n",
       "              colsample_bytree=None, device=None, early_stopping_rounds=None,\n",
       "              enable_categorical=False, eval_metric=None, feature_types=None,\n",
       "              gamma=None, grow_policy=None, importance_type=None,\n",
       "              interaction_constraints=None, learning_rate=None, max_bin=None,\n",
       "              max_cat_threshold=None, max_cat_to_onehot=None,\n",
       "              max_delta_step=None, max_depth=13, max_leaves=None,\n",
       "              max_samples=0.9, min_child_weight=None, missing=nan,\n",
       "              monotone_constraints=None, multi_strategy=None, n_estimators=100,\n",
       "              n_jobs=None, num_parallel_tree=None, ...)"
      ]
     },
     "execution_count": 12,
     "metadata": {},
     "output_type": "execute_result"
    }
   ],
   "source": [
    "# xgboost classifier\n",
    "xgc = xgb.XGBClassifier(n_estimators = 100, booster = \"gbtree\", random_state = 42,\n",
    "                       max_depth = 13, max_samples = 0.9)\n",
    "xgc.fit(scaled_X_train, encoded_y_train)"
   ]
  },
  {
   "cell_type": "code",
   "execution_count": 13,
   "id": "ddec4468",
   "metadata": {
    "execution": {
     "iopub.execute_input": "2023-11-18T05:59:40.996224Z",
     "iopub.status.busy": "2023-11-18T05:59:40.995808Z",
     "iopub.status.idle": "2023-11-18T05:59:44.648514Z",
     "shell.execute_reply": "2023-11-18T05:59:44.647286Z"
    },
    "papermill": {
     "duration": 3.678577,
     "end_time": "2023-11-18T05:59:44.651108",
     "exception": false,
     "start_time": "2023-11-18T05:59:40.972531",
     "status": "completed"
    },
    "tags": []
   },
   "outputs": [
    {
     "name": "stdout",
     "output_type": "stream",
     "text": [
      "              precision    recall  f1-score   support\n",
      "\n",
      "      Attack      0.997     0.998     0.998    911766\n",
      "      Benign      0.926     0.889     0.907     21965\n",
      "\n",
      "    accuracy                          0.996    933731\n",
      "   macro avg      0.962     0.943     0.952    933731\n",
      "weighted avg      0.996     0.996     0.996    933731\n",
      "\n"
     ]
    },
    {
     "data": {
      "text/plain": [
       "<Figure size 1000x500 with 0 Axes>"
      ]
     },
     "metadata": {},
     "output_type": "display_data"
    },
    {
     "data": {
      "image/png": "[encoded data removed]",
      "text/plain": [
       "<Figure size 640x480 with 2 Axes>"
      ]
     },
     "metadata": {},
     "output_type": "display_data"
    }
   ],
   "source": [
    "pred = xgc.predict(scaled_X_test)\n",
    "print(classification_report(encoded_y_test, pred, target_names = [\"Attack\", \"Benign\"], digits = 3))\n",
    "\n",
    "plt.figure(figsize = (4, 2), dpi=250)\n",
    "ConfusionMatrixDisplay(np.round(confusion_matrix(encoded_y_test, pred, normalize=\"true\"), 3), \n",
    "                       display_labels = [\"Attack\", \"Benign\"]).plot()\n",
    "plt.xticks(rotation=90);"
   ]
  },
  {
   "cell_type": "code",
   "execution_count": 14,
   "id": "6a3b01e6",
   "metadata": {
    "execution": {
     "iopub.execute_input": "2023-11-18T05:59:44.698312Z",
     "iopub.status.busy": "2023-11-18T05:59:44.697667Z",
     "iopub.status.idle": "2023-11-18T06:26:22.309992Z",
     "shell.execute_reply": "2023-11-18T06:26:22.305493Z"
    },
    "papermill": {
     "duration": 1597.69783,
     "end_time": "2023-11-18T06:26:22.371466",
     "exception": false,
     "start_time": "2023-11-18T05:59:44.673636",
     "status": "completed"
    },
    "tags": []
   },
   "outputs": [
    {
     "data": {
      "text/html": [
       "<style>#sk-container-id-2 {color: black;background-color: white;}#sk-container-id-2 pre{padding: 0;}#sk-container-id-2 div.sk-toggleable {background-color: white;}#sk-container-id-2 label.sk-toggleable__label {cursor: pointer;display: block;width: 100%;margin-bottom: 0;padding: 0.3em;box-sizing: border-box;text-align: center;}#sk-container-id-2 label.sk-toggleable__label-arrow:before {content: \"▸\";float: left;margin-right: 0.25em;color: #696969;}#sk-container-id-2 label.sk-toggleable__label-arrow:hover:before {color: black;}#sk-container-id-2 div.sk-estimator:hover label.sk-toggleable__label-arrow:before {color: black;}#sk-container-id-2 div.sk-toggleable__content {max-height: 0;max-width: 0;overflow: hidden;text-align: left;background-color: #f0f8ff;}#sk-container-id-2 div.sk-toggleable__content pre {margin: 0.2em;color: black;border-radius: 0.25em;background-color: #f0f8ff;}#sk-container-id-2 input.sk-toggleable__control:checked~div.sk-toggleable__content {max-height: 200px;max-width: 100%;overflow: auto;}#sk-container-id-2 input.sk-toggleable__control:checked~label.sk-toggleable__label-arrow:before {content: \"▾\";}#sk-container-id-2 div.sk-estimator input.sk-toggleable__control:checked~label.sk-toggleable__label {background-color: #d4ebff;}#sk-container-id-2 div.sk-label input.sk-toggleable__control:checked~label.sk-toggleable__label {background-color: #d4ebff;}#sk-container-id-2 input.sk-hidden--visually {border: 0;clip: rect(1px 1px 1px 1px);clip: rect(1px, 1px, 1px, 1px);height: 1px;margin: -1px;overflow: hidden;padding: 0;position: absolute;width: 1px;}#sk-container-id-2 div.sk-estimator {font-family: monospace;background-color: #f0f8ff;border: 1px dotted black;border-radius: 0.25em;box-sizing: border-box;margin-bottom: 0.5em;}#sk-container-id-2 div.sk-estimator:hover {background-color: #d4ebff;}#sk-container-id-2 div.sk-parallel-item::after {content: \"\";width: 100%;border-bottom: 1px solid gray;flex-grow: 1;}#sk-container-id-2 div.sk-label:hover label.sk-toggleable__label {background-color: #d4ebff;}#sk-container-id-2 div.sk-serial::before {content: \"\";position: absolute;border-left: 1px solid gray;box-sizing: border-box;top: 0;bottom: 0;left: 50%;z-index: 0;}#sk-container-id-2 div.sk-serial {display: flex;flex-direction: column;align-items: center;background-color: white;padding-right: 0.2em;padding-left: 0.2em;position: relative;}#sk-container-id-2 div.sk-item {position: relative;z-index: 1;}#sk-container-id-2 div.sk-parallel {display: flex;align-items: stretch;justify-content: center;background-color: white;position: relative;}#sk-container-id-2 div.sk-item::before, #sk-container-id-2 div.sk-parallel-item::before {content: \"\";position: absolute;border-left: 1px solid gray;box-sizing: border-box;top: 0;bottom: 0;left: 50%;z-index: -1;}#sk-container-id-2 div.sk-parallel-item {display: flex;flex-direction: column;z-index: 1;position: relative;background-color: white;}#sk-container-id-2 div.sk-parallel-item:first-child::after {align-self: flex-end;width: 50%;}#sk-container-id-2 div.sk-parallel-item:last-child::after {align-self: flex-start;width: 50%;}#sk-container-id-2 div.sk-parallel-item:only-child::after {width: 0;}#sk-container-id-2 div.sk-dashed-wrapped {border: 1px dashed gray;margin: 0 0.4em 0.5em 0.4em;box-sizing: border-box;padding-bottom: 0.4em;background-color: white;}#sk-container-id-2 div.sk-label label {font-family: monospace;font-weight: bold;display: inline-block;line-height: 1.2em;}#sk-container-id-2 div.sk-label-container {text-align: center;}#sk-container-id-2 div.sk-container {/* jupyter's `normalize.less` sets `[hidden] { display: none; }` but bootstrap.min.css set `[hidden] { display: none !important; }` so we also need the `!important` here to be able to override the default hidden behavior on the sphinx rendered scikit-learn.org. See: https://github.com/scikit-learn/scikit-learn/issues/21755 */display: inline-block !important;position: relative;}#sk-container-id-2 div.sk-text-repr-fallback {display: none;}</style><div id=\"sk-container-id-2\" class=\"sk-top-container\"><div class=\"sk-text-repr-fallback\"><pre>RandomForestClassifier(class_weight=&#x27;balanced&#x27;, max_depth=13, max_samples=0.9,\n",
       "                       n_estimators=200, oob_score=True, random_state=42)</pre><b>In a Jupyter environment, please rerun this cell to show the HTML representation or trust the notebook. <br />On GitHub, the HTML representation is unable to render, please try loading this page with nbviewer.org.</b></div><div class=\"sk-container\" hidden><div class=\"sk-item\"><div class=\"sk-estimator sk-toggleable\"><input class=\"sk-toggleable__control sk-hidden--visually\" id=\"sk-estimator-id-2\" type=\"checkbox\" checked><label for=\"sk-estimator-id-2\" class=\"sk-toggleable__label sk-toggleable__label-arrow\">RandomForestClassifier</label><div class=\"sk-toggleable__content\"><pre>RandomForestClassifier(class_weight=&#x27;balanced&#x27;, max_depth=13, max_samples=0.9,\n",
       "                       n_estimators=200, oob_score=True, random_state=42)</pre></div></div></div></div></div>"
      ],
      "text/plain": [
       "RandomForestClassifier(class_weight='balanced', max_depth=13, max_samples=0.9,\n",
       "                       n_estimators=200, oob_score=True, random_state=42)"
      ]
     },
     "execution_count": 14,
     "metadata": {},
     "output_type": "execute_result"
    }
   ],
   "source": [
    "# traditional balanced random forest classifier\n",
    "tbrfc = RandomForestClassifier(n_estimators = 200, bootstrap = True, oob_score = True, \n",
    "                               max_features = \"sqrt\", class_weight = \"balanced\",\n",
    "                               max_depth = 13, max_samples = 0.9,\n",
    "                               random_state = 42)\n",
    "tbrfc.fit(scaled_X_train, y_train)"
   ]
  },
  {
   "cell_type": "code",
   "execution_count": 15,
   "id": "3f94fd1d",
   "metadata": {
    "execution": {
     "iopub.execute_input": "2023-11-18T06:26:22.424232Z",
     "iopub.status.busy": "2023-11-18T06:26:22.423383Z",
     "iopub.status.idle": "2023-11-18T06:26:36.555942Z",
     "shell.execute_reply": "2023-11-18T06:26:36.554753Z"
    },
    "papermill": {
     "duration": 14.163714,
     "end_time": "2023-11-18T06:26:36.558541",
     "exception": false,
     "start_time": "2023-11-18T06:26:22.394827",
     "status": "completed"
    },
    "tags": []
   },
   "outputs": [
    {
     "name": "stdout",
     "output_type": "stream",
     "text": [
      "              precision    recall  f1-score   support\n",
      "\n",
      "      Attack      0.996     0.993     0.994    911766\n",
      "      Benign      0.737     0.822     0.777     21965\n",
      "\n",
      "    accuracy                          0.989    933731\n",
      "   macro avg      0.867     0.907     0.886    933731\n",
      "weighted avg      0.990     0.989     0.989    933731\n",
      "\n"
     ]
    },
    {
     "data": {
      "text/plain": [
       "<Figure size 1000x500 with 0 Axes>"
      ]
     },
     "metadata": {},
     "output_type": "display_data"
    },
    {
     "data": {
      "image/png": "[encoded data removed]",
      "text/plain": [
       "<Figure size 640x480 with 2 Axes>"
      ]
     },
     "metadata": {},
     "output_type": "display_data"
    }
   ],
   "source": [
    "pred = tbrfc.predict(scaled_X_test)\n",
    "print(classification_report(y_test, pred, target_names = [\"Attack\", \"Benign\"], digits = 3))\n",
    "\n",
    "plt.figure(figsize = (4, 2), dpi=250)\n",
    "ConfusionMatrixDisplay(np.round(confusion_matrix(y_test, pred, normalize=\"true\"), 3), \n",
    "                       display_labels = [\"Attack\", \"Benign\"]).plot()\n",
    "plt.xticks(rotation=90);"
   ]
  },
  {
   "cell_type": "code",
   "execution_count": 16,
   "id": "8f3caba5",
   "metadata": {
    "execution": {
     "iopub.execute_input": "2023-11-18T06:26:36.609255Z",
     "iopub.status.busy": "2023-11-18T06:26:36.608482Z",
     "iopub.status.idle": "2023-11-18T06:26:36.660206Z",
     "shell.execute_reply": "2023-11-18T06:26:36.659094Z"
    },
    "papermill": {
     "duration": 0.079362,
     "end_time": "2023-11-18T06:26:36.662743",
     "exception": false,
     "start_time": "2023-11-18T06:26:36.583381",
     "status": "completed"
    },
    "tags": []
   },
   "outputs": [
    {
     "data": {
      "text/plain": [
       "{False: 1.0, True: 41.51040872306767}"
      ]
     },
     "execution_count": 16,
     "metadata": {},
     "output_type": "execute_result"
    }
   ],
   "source": [
    "# inspired from Zach\n",
    "# Have to play around with\n",
    "import math\n",
    "\n",
    "# Get counts in log10\n",
    "y_train_count = y_train.value_counts()\n",
    "y_log = y_train_count.apply(lambda x: math.log10(x))\n",
    "\n",
    "# Find the factor needed to bring minority classes to majority\n",
    "y_log_max = y_log.max()\n",
    "y_log = y_log.apply(lambda x: math.pow(10,y_log_max - x))\n",
    "\n",
    "weight_dict = y_log.to_dict()\n",
    "weight_dict"
   ]
  },
  {
   "cell_type": "code",
   "execution_count": 17,
   "id": "49d5a552",
   "metadata": {
    "execution": {
     "iopub.execute_input": "2023-11-18T06:26:36.711585Z",
     "iopub.status.busy": "2023-11-18T06:26:36.711189Z",
     "iopub.status.idle": "2023-11-18T06:55:33.404556Z",
     "shell.execute_reply": "2023-11-18T06:55:33.403376Z"
    },
    "papermill": {
     "duration": 1736.745044,
     "end_time": "2023-11-18T06:55:33.431439",
     "exception": false,
     "start_time": "2023-11-18T06:26:36.686395",
     "status": "completed"
    },
    "tags": []
   },
   "outputs": [
    {
     "data": {
      "text/html": [
       "<style>#sk-container-id-3 {color: black;background-color: white;}#sk-container-id-3 pre{padding: 0;}#sk-container-id-3 div.sk-toggleable {background-color: white;}#sk-container-id-3 label.sk-toggleable__label {cursor: pointer;display: block;width: 100%;margin-bottom: 0;padding: 0.3em;box-sizing: border-box;text-align: center;}#sk-container-id-3 label.sk-toggleable__label-arrow:before {content: \"▸\";float: left;margin-right: 0.25em;color: #696969;}#sk-container-id-3 label.sk-toggleable__label-arrow:hover:before {color: black;}#sk-container-id-3 div.sk-estimator:hover label.sk-toggleable__label-arrow:before {color: black;}#sk-container-id-3 div.sk-toggleable__content {max-height: 0;max-width: 0;overflow: hidden;text-align: left;background-color: #f0f8ff;}#sk-container-id-3 div.sk-toggleable__content pre {margin: 0.2em;color: black;border-radius: 0.25em;background-color: #f0f8ff;}#sk-container-id-3 input.sk-toggleable__control:checked~div.sk-toggleable__content {max-height: 200px;max-width: 100%;overflow: auto;}#sk-container-id-3 input.sk-toggleable__control:checked~label.sk-toggleable__label-arrow:before {content: \"▾\";}#sk-container-id-3 div.sk-estimator input.sk-toggleable__control:checked~label.sk-toggleable__label {background-color: #d4ebff;}#sk-container-id-3 div.sk-label input.sk-toggleable__control:checked~label.sk-toggleable__label {background-color: #d4ebff;}#sk-container-id-3 input.sk-hidden--visually {border: 0;clip: rect(1px 1px 1px 1px);clip: rect(1px, 1px, 1px, 1px);height: 1px;margin: -1px;overflow: hidden;padding: 0;position: absolute;width: 1px;}#sk-container-id-3 div.sk-estimator {font-family: monospace;background-color: #f0f8ff;border: 1px dotted black;border-radius: 0.25em;box-sizing: border-box;margin-bottom: 0.5em;}#sk-container-id-3 div.sk-estimator:hover {background-color: #d4ebff;}#sk-container-id-3 div.sk-parallel-item::after {content: \"\";width: 100%;border-bottom: 1px solid gray;flex-grow: 1;}#sk-container-id-3 div.sk-label:hover label.sk-toggleable__label {background-color: #d4ebff;}#sk-container-id-3 div.sk-serial::before {content: \"\";position: absolute;border-left: 1px solid gray;box-sizing: border-box;top: 0;bottom: 0;left: 50%;z-index: 0;}#sk-container-id-3 div.sk-serial {display: flex;flex-direction: column;align-items: center;background-color: white;padding-right: 0.2em;padding-left: 0.2em;position: relative;}#sk-container-id-3 div.sk-item {position: relative;z-index: 1;}#sk-container-id-3 div.sk-parallel {display: flex;align-items: stretch;justify-content: center;background-color: white;position: relative;}#sk-container-id-3 div.sk-item::before, #sk-container-id-3 div.sk-parallel-item::before {content: \"\";position: absolute;border-left: 1px solid gray;box-sizing: border-box;top: 0;bottom: 0;left: 50%;z-index: -1;}#sk-container-id-3 div.sk-parallel-item {display: flex;flex-direction: column;z-index: 1;position: relative;background-color: white;}#sk-container-id-3 div.sk-parallel-item:first-child::after {align-self: flex-end;width: 50%;}#sk-container-id-3 div.sk-parallel-item:last-child::after {align-self: flex-start;width: 50%;}#sk-container-id-3 div.sk-parallel-item:only-child::after {width: 0;}#sk-container-id-3 div.sk-dashed-wrapped {border: 1px dashed gray;margin: 0 0.4em 0.5em 0.4em;box-sizing: border-box;padding-bottom: 0.4em;background-color: white;}#sk-container-id-3 div.sk-label label {font-family: monospace;font-weight: bold;display: inline-block;line-height: 1.2em;}#sk-container-id-3 div.sk-label-container {text-align: center;}#sk-container-id-3 div.sk-container {/* jupyter's `normalize.less` sets `[hidden] { display: none; }` but bootstrap.min.css set `[hidden] { display: none !important; }` so we also need the `!important` here to be able to override the default hidden behavior on the sphinx rendered scikit-learn.org. See: https://github.com/scikit-learn/scikit-learn/issues/21755 */display: inline-block !important;position: relative;}#sk-container-id-3 div.sk-text-repr-fallback {display: none;}</style><div id=\"sk-container-id-3\" class=\"sk-top-container\"><div class=\"sk-text-repr-fallback\"><pre>RandomForestClassifier(class_weight={False: 1.0, True: 41.51040872306767},\n",
       "                       max_depth=13, max_samples=0.9, n_estimators=200,\n",
       "                       oob_score=True, random_state=42)</pre><b>In a Jupyter environment, please rerun this cell to show the HTML representation or trust the notebook. <br />On GitHub, the HTML representation is unable to render, please try loading this page with nbviewer.org.</b></div><div class=\"sk-container\" hidden><div class=\"sk-item\"><div class=\"sk-estimator sk-toggleable\"><input class=\"sk-toggleable__control sk-hidden--visually\" id=\"sk-estimator-id-3\" type=\"checkbox\" checked><label for=\"sk-estimator-id-3\" class=\"sk-toggleable__label sk-toggleable__label-arrow\">RandomForestClassifier</label><div class=\"sk-toggleable__content\"><pre>RandomForestClassifier(class_weight={False: 1.0, True: 41.51040872306767},\n",
       "                       max_depth=13, max_samples=0.9, n_estimators=200,\n",
       "                       oob_score=True, random_state=42)</pre></div></div></div></div></div>"
      ],
      "text/plain": [
       "RandomForestClassifier(class_weight={False: 1.0, True: 41.51040872306767},\n",
       "                       max_depth=13, max_samples=0.9, n_estimators=200,\n",
       "                       oob_score=True, random_state=42)"
      ]
     },
     "execution_count": 17,
     "metadata": {},
     "output_type": "execute_result"
    }
   ],
   "source": [
    "# weighted random forest classifier\n",
    "wrfc = RandomForestClassifier(n_estimators = 200, bootstrap = True, oob_score = True, \n",
    "                              max_features = \"sqrt\", class_weight = weight_dict, \n",
    "                              max_depth = 13, max_samples = 0.9, \n",
    "                              random_state = 42)\n",
    "wrfc.fit(scaled_X_train, y_train)"
   ]
  },
  {
   "cell_type": "code",
   "execution_count": 18,
   "id": "0ebb9c0d",
   "metadata": {
    "execution": {
     "iopub.execute_input": "2023-11-18T06:55:33.482083Z",
     "iopub.status.busy": "2023-11-18T06:55:33.481663Z",
     "iopub.status.idle": "2023-11-18T06:55:47.618256Z",
     "shell.execute_reply": "2023-11-18T06:55:47.617010Z"
    },
    "papermill": {
     "duration": 14.164945,
     "end_time": "2023-11-18T06:55:47.620810",
     "exception": false,
     "start_time": "2023-11-18T06:55:33.455865",
     "status": "completed"
    },
    "tags": []
   },
   "outputs": [
    {
     "name": "stdout",
     "output_type": "stream",
     "text": [
      "              precision    recall  f1-score   support\n",
      "\n",
      "      Attack      0.998     0.992     0.995    911766\n",
      "      Benign      0.741     0.921     0.821     21965\n",
      "\n",
      "    accuracy                          0.991    933731\n",
      "   macro avg      0.870     0.956     0.908    933731\n",
      "weighted avg      0.992     0.991     0.991    933731\n",
      "\n"
     ]
    },
    {
     "data": {
      "text/plain": [
       "<Figure size 1000x500 with 0 Axes>"
      ]
     },
     "metadata": {},
     "output_type": "display_data"
    },
    {
     "data": {
      "image/png": "[encoded data removed]",
      "text/plain": [
       "<Figure size 640x480 with 2 Axes>"
      ]
     },
     "metadata": {},
     "output_type": "display_data"
    }
   ],
   "source": [
    "pred = wrfc.predict(scaled_X_test)\n",
    "print(classification_report(y_test, pred, target_names = [\"Attack\", \"Benign\"], digits = 3))\n",
    "\n",
    "plt.figure(figsize = (4, 2), dpi=250)\n",
    "ConfusionMatrixDisplay(np.round(confusion_matrix(y_test, pred, normalize=\"true\"), 3), \n",
    "                       display_labels = [\"Attack\", \"Benign\"]).plot()\n",
    "plt.xticks(rotation=90);"
   ]
  },
  {
   "cell_type": "code",
   "execution_count": 19,
   "id": "ca6805f2",
   "metadata": {
    "execution": {
     "iopub.execute_input": "2023-11-18T06:55:47.674928Z",
     "iopub.status.busy": "2023-11-18T06:55:47.674478Z",
     "iopub.status.idle": "2023-11-18T07:01:20.855736Z",
     "shell.execute_reply": "2023-11-18T07:01:20.854405Z"
    },
    "papermill": {
     "duration": 333.210962,
     "end_time": "2023-11-18T07:01:20.858639",
     "exception": false,
     "start_time": "2023-11-18T06:55:47.647677",
     "status": "completed"
    },
    "tags": []
   },
   "outputs": [
    {
     "name": "stderr",
     "output_type": "stream",
     "text": [
      "/opt/conda/lib/python3.10/site-packages/imblearn/ensemble/_forest.py:813: UserWarning: Some inputs do not have OOB scores. This probably means too few trees were used to compute any reliable OOB estimates.\n",
      "  warn(\n"
     ]
    },
    {
     "data": {
      "text/html": [
       "<style>#sk-container-id-4 {color: black;background-color: white;}#sk-container-id-4 pre{padding: 0;}#sk-container-id-4 div.sk-toggleable {background-color: white;}#sk-container-id-4 label.sk-toggleable__label {cursor: pointer;display: block;width: 100%;margin-bottom: 0;padding: 0.3em;box-sizing: border-box;text-align: center;}#sk-container-id-4 label.sk-toggleable__label-arrow:before {content: \"▸\";float: left;margin-right: 0.25em;color: #696969;}#sk-container-id-4 label.sk-toggleable__label-arrow:hover:before {color: black;}#sk-container-id-4 div.sk-estimator:hover label.sk-toggleable__label-arrow:before {color: black;}#sk-container-id-4 div.sk-toggleable__content {max-height: 0;max-width: 0;overflow: hidden;text-align: left;background-color: #f0f8ff;}#sk-container-id-4 div.sk-toggleable__content pre {margin: 0.2em;color: black;border-radius: 0.25em;background-color: #f0f8ff;}#sk-container-id-4 input.sk-toggleable__control:checked~div.sk-toggleable__content {max-height: 200px;max-width: 100%;overflow: auto;}#sk-container-id-4 input.sk-toggleable__control:checked~label.sk-toggleable__label-arrow:before {content: \"▾\";}#sk-container-id-4 div.sk-estimator input.sk-toggleable__control:checked~label.sk-toggleable__label {background-color: #d4ebff;}#sk-container-id-4 div.sk-label input.sk-toggleable__control:checked~label.sk-toggleable__label {background-color: #d4ebff;}#sk-container-id-4 input.sk-hidden--visually {border: 0;clip: rect(1px 1px 1px 1px);clip: rect(1px, 1px, 1px, 1px);height: 1px;margin: -1px;overflow: hidden;padding: 0;position: absolute;width: 1px;}#sk-container-id-4 div.sk-estimator {font-family: monospace;background-color: #f0f8ff;border: 1px dotted black;border-radius: 0.25em;box-sizing: border-box;margin-bottom: 0.5em;}#sk-container-id-4 div.sk-estimator:hover {background-color: #d4ebff;}#sk-container-id-4 div.sk-parallel-item::after {content: \"\";width: 100%;border-bottom: 1px solid gray;flex-grow: 1;}#sk-container-id-4 div.sk-label:hover label.sk-toggleable__label {background-color: #d4ebff;}#sk-container-id-4 div.sk-serial::before {content: \"\";position: absolute;border-left: 1px solid gray;box-sizing: border-box;top: 0;bottom: 0;left: 50%;z-index: 0;}#sk-container-id-4 div.sk-serial {display: flex;flex-direction: column;align-items: center;background-color: white;padding-right: 0.2em;padding-left: 0.2em;position: relative;}#sk-container-id-4 div.sk-item {position: relative;z-index: 1;}#sk-container-id-4 div.sk-parallel {display: flex;align-items: stretch;justify-content: center;background-color: white;position: relative;}#sk-container-id-4 div.sk-item::before, #sk-container-id-4 div.sk-parallel-item::before {content: \"\";position: absolute;border-left: 1px solid gray;box-sizing: border-box;top: 0;bottom: 0;left: 50%;z-index: -1;}#sk-container-id-4 div.sk-parallel-item {display: flex;flex-direction: column;z-index: 1;position: relative;background-color: white;}#sk-container-id-4 div.sk-parallel-item:first-child::after {align-self: flex-end;width: 50%;}#sk-container-id-4 div.sk-parallel-item:last-child::after {align-self: flex-start;width: 50%;}#sk-container-id-4 div.sk-parallel-item:only-child::after {width: 0;}#sk-container-id-4 div.sk-dashed-wrapped {border: 1px dashed gray;margin: 0 0.4em 0.5em 0.4em;box-sizing: border-box;padding-bottom: 0.4em;background-color: white;}#sk-container-id-4 div.sk-label label {font-family: monospace;font-weight: bold;display: inline-block;line-height: 1.2em;}#sk-container-id-4 div.sk-label-container {text-align: center;}#sk-container-id-4 div.sk-container {/* jupyter's `normalize.less` sets `[hidden] { display: none; }` but bootstrap.min.css set `[hidden] { display: none !important; }` so we also need the `!important` here to be able to override the default hidden behavior on the sphinx rendered scikit-learn.org. See: https://github.com/scikit-learn/scikit-learn/issues/21755 */display: inline-block !important;position: relative;}#sk-container-id-4 div.sk-text-repr-fallback {display: none;}</style><div id=\"sk-container-id-4\" class=\"sk-top-container\"><div class=\"sk-text-repr-fallback\"><pre>BalancedRandomForestClassifier(max_depth=13, max_samples=0.9, n_estimators=200,\n",
       "                               oob_score=True, random_state=42,\n",
       "                               replacement=True, sampling_strategy=&#x27;all&#x27;)</pre><b>In a Jupyter environment, please rerun this cell to show the HTML representation or trust the notebook. <br />On GitHub, the HTML representation is unable to render, please try loading this page with nbviewer.org.</b></div><div class=\"sk-container\" hidden><div class=\"sk-item\"><div class=\"sk-estimator sk-toggleable\"><input class=\"sk-toggleable__control sk-hidden--visually\" id=\"sk-estimator-id-4\" type=\"checkbox\" checked><label for=\"sk-estimator-id-4\" class=\"sk-toggleable__label sk-toggleable__label-arrow\">BalancedRandomForestClassifier</label><div class=\"sk-toggleable__content\"><pre>BalancedRandomForestClassifier(max_depth=13, max_samples=0.9, n_estimators=200,\n",
       "                               oob_score=True, random_state=42,\n",
       "                               replacement=True, sampling_strategy=&#x27;all&#x27;)</pre></div></div></div></div></div>"
      ],
      "text/plain": [
       "BalancedRandomForestClassifier(max_depth=13, max_samples=0.9, n_estimators=200,\n",
       "                               oob_score=True, random_state=42,\n",
       "                               replacement=True, sampling_strategy='all')"
      ]
     },
     "execution_count": 19,
     "metadata": {},
     "output_type": "execute_result"
    }
   ],
   "source": [
    "# balanced random forest classifier\n",
    "brfc = BalancedRandomForestClassifier(n_estimators = 200, bootstrap = True, oob_score = True, \n",
    "                                      max_features = \"sqrt\", sampling_strategy=\"all\", \n",
    "                                      max_depth = 13, max_samples = 0.9,\n",
    "                                      replacement=True, random_state = 42)\n",
    "brfc.fit(scaled_X_train, y_train)"
   ]
  },
  {
   "cell_type": "code",
   "execution_count": 20,
   "id": "01956cba",
   "metadata": {
    "execution": {
     "iopub.execute_input": "2023-11-18T07:01:20.912682Z",
     "iopub.status.busy": "2023-11-18T07:01:20.911818Z",
     "iopub.status.idle": "2023-11-18T07:01:34.865883Z",
     "shell.execute_reply": "2023-11-18T07:01:34.864822Z"
    },
    "papermill": {
     "duration": 13.983751,
     "end_time": "2023-11-18T07:01:34.868541",
     "exception": false,
     "start_time": "2023-11-18T07:01:20.884790",
     "status": "completed"
    },
    "tags": []
   },
   "outputs": [
    {
     "name": "stdout",
     "output_type": "stream",
     "text": [
      "              precision    recall  f1-score   support\n",
      "\n",
      "      Attack      1.000     0.990     0.995    911766\n",
      "      Benign      0.701     0.998     0.823     21965\n",
      "\n",
      "    accuracy                          0.990    933731\n",
      "   macro avg      0.850     0.994     0.909    933731\n",
      "weighted avg      0.993     0.990     0.991    933731\n",
      "\n"
     ]
    },
    {
     "data": {
      "text/plain": [
       "<Figure size 1000x500 with 0 Axes>"
      ]
     },
     "metadata": {},
     "output_type": "display_data"
    },
    {
     "data": {
      "image/png": "[encoded data removed]",
      "text/plain": [
       "<Figure size 640x480 with 2 Axes>"
      ]
     },
     "metadata": {},
     "output_type": "display_data"
    }
   ],
   "source": [
    "pred = brfc.predict(scaled_X_test)\n",
    "print(classification_report(y_test, pred, target_names = [\"Attack\", \"Benign\"], digits = 3))\n",
    "\n",
    "plt.figure(figsize = (4, 2), dpi=250)\n",
    "ConfusionMatrixDisplay(np.round(confusion_matrix(y_test, pred, normalize=\"true\"), 3), \n",
    "                       display_labels = [\"Attack\", \"Benign\"]).plot();\n",
    "plt.xticks(rotation=90);"
   ]
  },
  {
   "cell_type": "markdown",
   "id": "8b673ec0",
   "metadata": {
    "papermill": {
     "duration": 0.025211,
     "end_time": "2023-11-18T07:01:34.920957",
     "exception": false,
     "start_time": "2023-11-18T07:01:34.895746",
     "status": "completed"
    },
    "tags": []
   },
   "source": [
    "# DDoS vs DoS vs Mirai vs pooled1\n",
    "pooled1: Spoofing, Recon, Web, BruteForce"
   ]
  },
  {
   "cell_type": "code",
   "execution_count": 21,
   "id": "6e49e22a",
   "metadata": {
    "execution": {
     "iopub.execute_input": "2023-11-18T07:01:34.974483Z",
     "iopub.status.busy": "2023-11-18T07:01:34.974035Z",
     "iopub.status.idle": "2023-11-18T07:01:35.012995Z",
     "shell.execute_reply": "2023-11-18T07:01:35.012041Z"
    },
    "papermill": {
     "duration": 0.068364,
     "end_time": "2023-11-18T07:01:35.015169",
     "exception": false,
     "start_time": "2023-11-18T07:01:34.946805",
     "status": "completed"
    },
    "tags": []
   },
   "outputs": [
    {
     "data": {
      "text/html": [
       "<div>\n",
       "<style scoped>\n",
       "    .dataframe tbody tr th:only-of-type {\n",
       "        vertical-align: middle;\n",
       "    }\n",
       "\n",
       "    .dataframe tbody tr th {\n",
       "        vertical-align: top;\n",
       "    }\n",
       "\n",
       "    .dataframe thead th {\n",
       "        text-align: right;\n",
       "    }\n",
       "</style>\n",
       "<table border=\"1\" class=\"dataframe\">\n",
       "  <thead>\n",
       "    <tr style=\"text-align: right;\">\n",
       "      <th></th>\n",
       "      <th>duration</th>\n",
       "      <th>srate</th>\n",
       "      <th>drate</th>\n",
       "      <th>syn_flag_number</th>\n",
       "      <th>psh_flag_number</th>\n",
       "      <th>ack_flag_number</th>\n",
       "      <th>ack_count</th>\n",
       "      <th>syn_count</th>\n",
       "      <th>rst_count</th>\n",
       "      <th>header_length</th>\n",
       "      <th>...</th>\n",
       "      <th>flow_duration</th>\n",
       "      <th>avg</th>\n",
       "      <th>max</th>\n",
       "      <th>tot_sum</th>\n",
       "      <th>min</th>\n",
       "      <th>iat</th>\n",
       "      <th>magnitude</th>\n",
       "      <th>radius</th>\n",
       "      <th>variance</th>\n",
       "      <th>label</th>\n",
       "    </tr>\n",
       "  </thead>\n",
       "  <tbody>\n",
       "    <tr>\n",
       "      <th>0</th>\n",
       "      <td>64.00</td>\n",
       "      <td>48</td>\n",
       "      <td>0.0</td>\n",
       "      <td>False</td>\n",
       "      <td>False</td>\n",
       "      <td>False</td>\n",
       "      <td>1.0</td>\n",
       "      <td>0.00</td>\n",
       "      <td>0</td>\n",
       "      <td>54</td>\n",
       "      <td>...</td>\n",
       "      <td>0.000000</td>\n",
       "      <td>54.000000</td>\n",
       "      <td>54.00</td>\n",
       "      <td>567.00</td>\n",
       "      <td>54.0</td>\n",
       "      <td>83345000.0</td>\n",
       "      <td>10.392304</td>\n",
       "      <td>0.000000</td>\n",
       "      <td>0.00</td>\n",
       "      <td>DDoS</td>\n",
       "    </tr>\n",
       "    <tr>\n",
       "      <th>1</th>\n",
       "      <td>65.91</td>\n",
       "      <td>29</td>\n",
       "      <td>0.0</td>\n",
       "      <td>True</td>\n",
       "      <td>False</td>\n",
       "      <td>False</td>\n",
       "      <td>0.0</td>\n",
       "      <td>0.99</td>\n",
       "      <td>0</td>\n",
       "      <td>55</td>\n",
       "      <td>...</td>\n",
       "      <td>0.000000</td>\n",
       "      <td>54.253098</td>\n",
       "      <td>58.80</td>\n",
       "      <td>571.80</td>\n",
       "      <td>54.0</td>\n",
       "      <td>82985560.0</td>\n",
       "      <td>10.416152</td>\n",
       "      <td>1.528833</td>\n",
       "      <td>0.03</td>\n",
       "      <td>DoS</td>\n",
       "    </tr>\n",
       "    <tr>\n",
       "      <th>2</th>\n",
       "      <td>64.00</td>\n",
       "      <td>24362</td>\n",
       "      <td>0.0</td>\n",
       "      <td>False</td>\n",
       "      <td>False</td>\n",
       "      <td>False</td>\n",
       "      <td>0.0</td>\n",
       "      <td>0.00</td>\n",
       "      <td>0</td>\n",
       "      <td>17230</td>\n",
       "      <td>...</td>\n",
       "      <td>0.035177</td>\n",
       "      <td>50.000000</td>\n",
       "      <td>50.00</td>\n",
       "      <td>525.00</td>\n",
       "      <td>50.0</td>\n",
       "      <td>83102410.0</td>\n",
       "      <td>10.000000</td>\n",
       "      <td>0.000000</td>\n",
       "      <td>0.00</td>\n",
       "      <td>DDoS</td>\n",
       "    </tr>\n",
       "    <tr>\n",
       "      <th>4</th>\n",
       "      <td>68.40</td>\n",
       "      <td>7890</td>\n",
       "      <td>0.0</td>\n",
       "      <td>False</td>\n",
       "      <td>False</td>\n",
       "      <td>False</td>\n",
       "      <td>0.0</td>\n",
       "      <td>0.00</td>\n",
       "      <td>0</td>\n",
       "      <td>11323</td>\n",
       "      <td>...</td>\n",
       "      <td>0.069597</td>\n",
       "      <td>53.363760</td>\n",
       "      <td>93.99</td>\n",
       "      <td>571.87</td>\n",
       "      <td>50.0</td>\n",
       "      <td>83487416.0</td>\n",
       "      <td>10.310076</td>\n",
       "      <td>15.865254</td>\n",
       "      <td>0.26</td>\n",
       "      <td>DDoS</td>\n",
       "    </tr>\n",
       "    <tr>\n",
       "      <th>5</th>\n",
       "      <td>64.00</td>\n",
       "      <td>15</td>\n",
       "      <td>0.0</td>\n",
       "      <td>True</td>\n",
       "      <td>False</td>\n",
       "      <td>False</td>\n",
       "      <td>0.0</td>\n",
       "      <td>1.00</td>\n",
       "      <td>0</td>\n",
       "      <td>54</td>\n",
       "      <td>...</td>\n",
       "      <td>0.000000</td>\n",
       "      <td>54.000000</td>\n",
       "      <td>54.00</td>\n",
       "      <td>567.00</td>\n",
       "      <td>54.0</td>\n",
       "      <td>83093270.0</td>\n",
       "      <td>10.392304</td>\n",
       "      <td>0.000000</td>\n",
       "      <td>0.00</td>\n",
       "      <td>DDoS</td>\n",
       "    </tr>\n",
       "  </tbody>\n",
       "</table>\n",
       "<p>5 rows × 22 columns</p>\n",
       "</div>"
      ],
      "text/plain": [
       "   duration  srate  drate  syn_flag_number  psh_flag_number  ack_flag_number  \\\n",
       "0     64.00     48    0.0            False            False            False   \n",
       "1     65.91     29    0.0             True            False            False   \n",
       "2     64.00  24362    0.0            False            False            False   \n",
       "4     68.40   7890    0.0            False            False            False   \n",
       "5     64.00     15    0.0             True            False            False   \n",
       "\n",
       "   ack_count  syn_count  rst_count  header_length  ...  flow_duration  \\\n",
       "0        1.0       0.00          0             54  ...       0.000000   \n",
       "1        0.0       0.99          0             55  ...       0.000000   \n",
       "2        0.0       0.00          0          17230  ...       0.035177   \n",
       "4        0.0       0.00          0          11323  ...       0.069597   \n",
       "5        0.0       1.00          0             54  ...       0.000000   \n",
       "\n",
       "         avg    max  tot_sum   min         iat  magnitude     radius  \\\n",
       "0  54.000000  54.00   567.00  54.0  83345000.0  10.392304   0.000000   \n",
       "1  54.253098  58.80   571.80  54.0  82985560.0  10.416152   1.528833   \n",
       "2  50.000000  50.00   525.00  50.0  83102410.0  10.000000   0.000000   \n",
       "4  53.363760  93.99   571.87  50.0  83487416.0  10.310076  15.865254   \n",
       "5  54.000000  54.00   567.00  54.0  83093270.0  10.392304   0.000000   \n",
       "\n",
       "   variance  label  \n",
       "0      0.00   DDoS  \n",
       "1      0.03    DoS  \n",
       "2      0.00   DDoS  \n",
       "4      0.26   DDoS  \n",
       "5      0.00   DDoS  \n",
       "\n",
       "[5 rows x 22 columns]"
      ]
     },
     "execution_count": 21,
     "metadata": {},
     "output_type": "execute_result"
    }
   ],
   "source": [
    "# dataset used is df_DoDoMi\n",
    "df_DoDoMi.head()"
   ]
  },
  {
   "cell_type": "code",
   "execution_count": 22,
   "id": "b84ad7cf",
   "metadata": {
    "execution": {
     "iopub.execute_input": "2023-11-18T07:01:35.070428Z",
     "iopub.status.busy": "2023-11-18T07:01:35.069885Z",
     "iopub.status.idle": "2023-11-18T07:01:35.956622Z",
     "shell.execute_reply": "2023-11-18T07:01:35.955439Z"
    },
    "papermill": {
     "duration": 0.917426,
     "end_time": "2023-11-18T07:01:35.959082",
     "exception": false,
     "start_time": "2023-11-18T07:01:35.041656",
     "status": "completed"
    },
    "tags": []
   },
   "outputs": [
    {
     "data": {
      "text/plain": [
       "label\n",
       "DDoS       3398438\n",
       "DoS         809091\n",
       "Mirai       263398\n",
       "pooled1      87902\n",
       "Name: count, dtype: int64"
      ]
     },
     "execution_count": 22,
     "metadata": {},
     "output_type": "execute_result"
    }
   ],
   "source": [
    "df_DoDoMi[\"label\"].value_counts()"
   ]
  },
  {
   "cell_type": "code",
   "execution_count": 23,
   "id": "e122134a",
   "metadata": {
    "execution": {
     "iopub.execute_input": "2023-11-18T07:01:36.016513Z",
     "iopub.status.busy": "2023-11-18T07:01:36.015994Z",
     "iopub.status.idle": "2023-11-18T07:02:05.235463Z",
     "shell.execute_reply": "2023-11-18T07:02:05.234239Z"
    },
    "papermill": {
     "duration": 29.250866,
     "end_time": "2023-11-18T07:02:05.238352",
     "exception": false,
     "start_time": "2023-11-18T07:01:35.987486",
     "status": "completed"
    },
    "tags": []
   },
   "outputs": [],
   "source": [
    "# Preprocessing\n",
    "X = df_DoDoMi.drop(\"label\", axis=1)\n",
    "y = df_DoDoMi[\"label\"]\n",
    "\n",
    "# splitting out dataset to train and test\n",
    "X_train, X_test, y_train, y_test = train_test_split(X, y, test_size=0.2, stratify=y)\n",
    "\n",
    "# scaling features\n",
    "scaler = StandardScaler()\n",
    "scaled_X_train = scaler.fit_transform(X_train)\n",
    "scaled_X_test = scaler.fit_transform(X_test)\n",
    "\n",
    "# hot code \"label\" since xgboost only accepts number types\n",
    "label = LabelEncoder()\n",
    "encoded_y_train = label.fit_transform(y_train)\n",
    "encoded_y_test = label.fit_transform(y_test)"
   ]
  },
  {
   "cell_type": "code",
   "execution_count": 24,
   "id": "6da60e44",
   "metadata": {
    "execution": {
     "iopub.execute_input": "2023-11-18T07:02:05.293841Z",
     "iopub.status.busy": "2023-11-18T07:02:05.293454Z",
     "iopub.status.idle": "2023-11-18T07:02:05.298665Z",
     "shell.execute_reply": "2023-11-18T07:02:05.297202Z"
    },
    "papermill": {
     "duration": 0.035541,
     "end_time": "2023-11-18T07:02:05.300881",
     "exception": false,
     "start_time": "2023-11-18T07:02:05.265340",
     "status": "completed"
    },
    "tags": []
   },
   "outputs": [],
   "source": [
    "target_names = [\"DDoS\", \"DoS\", \"Mirai\", \"pooled1\"]"
   ]
  },
  {
   "cell_type": "code",
   "execution_count": 25,
   "id": "0274f5d7",
   "metadata": {
    "execution": {
     "iopub.execute_input": "2023-11-18T07:02:05.355503Z",
     "iopub.status.busy": "2023-11-18T07:02:05.355062Z",
     "iopub.status.idle": "2023-11-18T07:06:29.940089Z",
     "shell.execute_reply": "2023-11-18T07:06:29.938947Z"
    },
    "papermill": {
     "duration": 264.644396,
     "end_time": "2023-11-18T07:06:29.971452",
     "exception": false,
     "start_time": "2023-11-18T07:02:05.327056",
     "status": "completed"
    },
    "tags": []
   },
   "outputs": [
    {
     "name": "stderr",
     "output_type": "stream",
     "text": [
      "/opt/conda/lib/python3.10/site-packages/xgboost/core.py:160: UserWarning: [07:02:10] WARNING: /workspace/src/learner.cc:742: \n",
      "Parameters: { \"max_samples\" } are not used.\n",
      "\n",
      "  warnings.warn(smsg, UserWarning)\n"
     ]
    },
    {
     "data": {
      "text/html": [
       "<style>#sk-container-id-5 {color: black;background-color: white;}#sk-container-id-5 pre{padding: 0;}#sk-container-id-5 div.sk-toggleable {background-color: white;}#sk-container-id-5 label.sk-toggleable__label {cursor: pointer;display: block;width: 100%;margin-bottom: 0;padding: 0.3em;box-sizing: border-box;text-align: center;}#sk-container-id-5 label.sk-toggleable__label-arrow:before {content: \"▸\";float: left;margin-right: 0.25em;color: #696969;}#sk-container-id-5 label.sk-toggleable__label-arrow:hover:before {color: black;}#sk-container-id-5 div.sk-estimator:hover label.sk-toggleable__label-arrow:before {color: black;}#sk-container-id-5 div.sk-toggleable__content {max-height: 0;max-width: 0;overflow: hidden;text-align: left;background-color: #f0f8ff;}#sk-container-id-5 div.sk-toggleable__content pre {margin: 0.2em;color: black;border-radius: 0.25em;background-color: #f0f8ff;}#sk-container-id-5 input.sk-toggleable__control:checked~div.sk-toggleable__content {max-height: 200px;max-width: 100%;overflow: auto;}#sk-container-id-5 input.sk-toggleable__control:checked~label.sk-toggleable__label-arrow:before {content: \"▾\";}#sk-container-id-5 div.sk-estimator input.sk-toggleable__control:checked~label.sk-toggleable__label {background-color: #d4ebff;}#sk-container-id-5 div.sk-label input.sk-toggleable__control:checked~label.sk-toggleable__label {background-color: #d4ebff;}#sk-container-id-5 input.sk-hidden--visually {border: 0;clip: rect(1px 1px 1px 1px);clip: rect(1px, 1px, 1px, 1px);height: 1px;margin: -1px;overflow: hidden;padding: 0;position: absolute;width: 1px;}#sk-container-id-5 div.sk-estimator {font-family: monospace;background-color: #f0f8ff;border: 1px dotted black;border-radius: 0.25em;box-sizing: border-box;margin-bottom: 0.5em;}#sk-container-id-5 div.sk-estimator:hover {background-color: #d4ebff;}#sk-container-id-5 div.sk-parallel-item::after {content: \"\";width: 100%;border-bottom: 1px solid gray;flex-grow: 1;}#sk-container-id-5 div.sk-label:hover label.sk-toggleable__label {background-color: #d4ebff;}#sk-container-id-5 div.sk-serial::before {content: \"\";position: absolute;border-left: 1px solid gray;box-sizing: border-box;top: 0;bottom: 0;left: 50%;z-index: 0;}#sk-container-id-5 div.sk-serial {display: flex;flex-direction: column;align-items: center;background-color: white;padding-right: 0.2em;padding-left: 0.2em;position: relative;}#sk-container-id-5 div.sk-item {position: relative;z-index: 1;}#sk-container-id-5 div.sk-parallel {display: flex;align-items: stretch;justify-content: center;background-color: white;position: relative;}#sk-container-id-5 div.sk-item::before, #sk-container-id-5 div.sk-parallel-item::before {content: \"\";position: absolute;border-left: 1px solid gray;box-sizing: border-box;top: 0;bottom: 0;left: 50%;z-index: -1;}#sk-container-id-5 div.sk-parallel-item {display: flex;flex-direction: column;z-index: 1;position: relative;background-color: white;}#sk-container-id-5 div.sk-parallel-item:first-child::after {align-self: flex-end;width: 50%;}#sk-container-id-5 div.sk-parallel-item:last-child::after {align-self: flex-start;width: 50%;}#sk-container-id-5 div.sk-parallel-item:only-child::after {width: 0;}#sk-container-id-5 div.sk-dashed-wrapped {border: 1px dashed gray;margin: 0 0.4em 0.5em 0.4em;box-sizing: border-box;padding-bottom: 0.4em;background-color: white;}#sk-container-id-5 div.sk-label label {font-family: monospace;font-weight: bold;display: inline-block;line-height: 1.2em;}#sk-container-id-5 div.sk-label-container {text-align: center;}#sk-container-id-5 div.sk-container {/* jupyter's `normalize.less` sets `[hidden] { display: none; }` but bootstrap.min.css set `[hidden] { display: none !important; }` so we also need the `!important` here to be able to override the default hidden behavior on the sphinx rendered scikit-learn.org. See: https://github.com/scikit-learn/scikit-learn/issues/21755 */display: inline-block !important;position: relative;}#sk-container-id-5 div.sk-text-repr-fallback {display: none;}</style><div id=\"sk-container-id-5\" class=\"sk-top-container\"><div class=\"sk-text-repr-fallback\"><pre>XGBClassifier(base_score=None, booster=&#x27;gbtree&#x27;, callbacks=None,\n",
       "              colsample_bylevel=None, colsample_bynode=None,\n",
       "              colsample_bytree=None, device=None, early_stopping_rounds=None,\n",
       "              enable_categorical=False, eval_metric=None, feature_types=None,\n",
       "              gamma=None, grow_policy=None, importance_type=None,\n",
       "              interaction_constraints=None, learning_rate=None, max_bin=None,\n",
       "              max_cat_threshold=None, max_cat_to_onehot=None,\n",
       "              max_delta_step=None, max_depth=13, max_leaves=None,\n",
       "              max_samples=0.9, min_child_weight=None, missing=nan,\n",
       "              monotone_constraints=None, multi_strategy=None, n_estimators=200,\n",
       "              n_jobs=None, num_parallel_tree=None, ...)</pre><b>In a Jupyter environment, please rerun this cell to show the HTML representation or trust the notebook. <br />On GitHub, the HTML representation is unable to render, please try loading this page with nbviewer.org.</b></div><div class=\"sk-container\" hidden><div class=\"sk-item\"><div class=\"sk-estimator sk-toggleable\"><input class=\"sk-toggleable__control sk-hidden--visually\" id=\"sk-estimator-id-5\" type=\"checkbox\" checked><label for=\"sk-estimator-id-5\" class=\"sk-toggleable__label sk-toggleable__label-arrow\">XGBClassifier</label><div class=\"sk-toggleable__content\"><pre>XGBClassifier(base_score=None, booster=&#x27;gbtree&#x27;, callbacks=None,\n",
       "              colsample_bylevel=None, colsample_bynode=None,\n",
       "              colsample_bytree=None, device=None, early_stopping_rounds=None,\n",
       "              enable_categorical=False, eval_metric=None, feature_types=None,\n",
       "              gamma=None, grow_policy=None, importance_type=None,\n",
       "              interaction_constraints=None, learning_rate=None, max_bin=None,\n",
       "              max_cat_threshold=None, max_cat_to_onehot=None,\n",
       "              max_delta_step=None, max_depth=13, max_leaves=None,\n",
       "              max_samples=0.9, min_child_weight=None, missing=nan,\n",
       "              monotone_constraints=None, multi_strategy=None, n_estimators=200,\n",
       "              n_jobs=None, num_parallel_tree=None, ...)</pre></div></div></div></div></div>"
      ],
      "text/plain": [
       "XGBClassifier(base_score=None, booster='gbtree', callbacks=None,\n",
       "              colsample_bylevel=None, colsample_bynode=None,\n",
       "              colsample_bytree=None, device=None, early_stopping_rounds=None,\n",
       "              enable_categorical=False, eval_metric=None, feature_types=None,\n",
       "              gamma=None, grow_policy=None, importance_type=None,\n",
       "              interaction_constraints=None, learning_rate=None, max_bin=None,\n",
       "              max_cat_threshold=None, max_cat_to_onehot=None,\n",
       "              max_delta_step=None, max_depth=13, max_leaves=None,\n",
       "              max_samples=0.9, min_child_weight=None, missing=nan,\n",
       "              monotone_constraints=None, multi_strategy=None, n_estimators=200,\n",
       "              n_jobs=None, num_parallel_tree=None, ...)"
      ]
     },
     "execution_count": 25,
     "metadata": {},
     "output_type": "execute_result"
    }
   ],
   "source": [
    "# xgboost classifier\n",
    "xgc = xgb.XGBClassifier(n_estimators = 200, booster = \"gbtree\", random_state = 42,\n",
    "                       max_depth = 13, max_samples = 0.9)\n",
    "xgc.fit(scaled_X_train, encoded_y_train)"
   ]
  },
  {
   "cell_type": "code",
   "execution_count": 26,
   "id": "3e998b36",
   "metadata": {
    "execution": {
     "iopub.execute_input": "2023-11-18T07:06:30.026767Z",
     "iopub.status.busy": "2023-11-18T07:06:30.026354Z",
     "iopub.status.idle": "2023-11-18T07:06:41.157475Z",
     "shell.execute_reply": "2023-11-18T07:06:41.156366Z"
    },
    "papermill": {
     "duration": 11.161823,
     "end_time": "2023-11-18T07:06:41.159932",
     "exception": false,
     "start_time": "2023-11-18T07:06:29.998109",
     "status": "completed"
    },
    "tags": []
   },
   "outputs": [
    {
     "name": "stdout",
     "output_type": "stream",
     "text": [
      "              precision    recall  f1-score   support\n",
      "\n",
      "        DDoS      0.999     0.966     0.982    679688\n",
      "         DoS      0.875     0.998     0.932    161818\n",
      "       Mirai      0.999     1.000     1.000     52680\n",
      "     pooled1      0.991     0.988     0.990     17580\n",
      "\n",
      "    accuracy                          0.974    911766\n",
      "   macro avg      0.966     0.988     0.976    911766\n",
      "weighted avg      0.977     0.974     0.974    911766\n",
      "\n"
     ]
    },
    {
     "data": {
      "text/plain": [
       "<Figure size 1000x500 with 0 Axes>"
      ]
     },
     "metadata": {},
     "output_type": "display_data"
    },
    {
     "data": {
      "image/png": "[encoded data removed]",
      "text/plain": [
       "<Figure size 640x480 with 2 Axes>"
      ]
     },
     "metadata": {},
     "output_type": "display_data"
    }
   ],
   "source": [
    "pred = xgc.predict(scaled_X_test)\n",
    "print(classification_report(encoded_y_test, pred, target_names = target_names, digits = 3))\n",
    "\n",
    "plt.figure(figsize = (4, 2), dpi=250)\n",
    "ConfusionMatrixDisplay(np.round(confusion_matrix(encoded_y_test, pred, normalize=\"true\"), 3), \n",
    "                       display_labels = target_names).plot()\n",
    "plt.xticks(rotation=90);"
   ]
  },
  {
   "cell_type": "code",
   "execution_count": 27,
   "id": "5303683e",
   "metadata": {
    "execution": {
     "iopub.execute_input": "2023-11-18T07:06:41.235151Z",
     "iopub.status.busy": "2023-11-18T07:06:41.234272Z",
     "iopub.status.idle": "2023-11-18T07:42:37.056557Z",
     "shell.execute_reply": "2023-11-18T07:42:37.055588Z"
    },
    "papermill": {
     "duration": 2155.892078,
     "end_time": "2023-11-18T07:42:37.088803",
     "exception": false,
     "start_time": "2023-11-18T07:06:41.196725",
     "status": "completed"
    },
    "tags": []
   },
   "outputs": [
    {
     "data": {
      "text/html": [
       "<style>#sk-container-id-6 {color: black;background-color: white;}#sk-container-id-6 pre{padding: 0;}#sk-container-id-6 div.sk-toggleable {background-color: white;}#sk-container-id-6 label.sk-toggleable__label {cursor: pointer;display: block;width: 100%;margin-bottom: 0;padding: 0.3em;box-sizing: border-box;text-align: center;}#sk-container-id-6 label.sk-toggleable__label-arrow:before {content: \"▸\";float: left;margin-right: 0.25em;color: #696969;}#sk-container-id-6 label.sk-toggleable__label-arrow:hover:before {color: black;}#sk-container-id-6 div.sk-estimator:hover label.sk-toggleable__label-arrow:before {color: black;}#sk-container-id-6 div.sk-toggleable__content {max-height: 0;max-width: 0;overflow: hidden;text-align: left;background-color: #f0f8ff;}#sk-container-id-6 div.sk-toggleable__content pre {margin: 0.2em;color: black;border-radius: 0.25em;background-color: #f0f8ff;}#sk-container-id-6 input.sk-toggleable__control:checked~div.sk-toggleable__content {max-height: 200px;max-width: 100%;overflow: auto;}#sk-container-id-6 input.sk-toggleable__control:checked~label.sk-toggleable__label-arrow:before {content: \"▾\";}#sk-container-id-6 div.sk-estimator input.sk-toggleable__control:checked~label.sk-toggleable__label {background-color: #d4ebff;}#sk-container-id-6 div.sk-label input.sk-toggleable__control:checked~label.sk-toggleable__label {background-color: #d4ebff;}#sk-container-id-6 input.sk-hidden--visually {border: 0;clip: rect(1px 1px 1px 1px);clip: rect(1px, 1px, 1px, 1px);height: 1px;margin: -1px;overflow: hidden;padding: 0;position: absolute;width: 1px;}#sk-container-id-6 div.sk-estimator {font-family: monospace;background-color: #f0f8ff;border: 1px dotted black;border-radius: 0.25em;box-sizing: border-box;margin-bottom: 0.5em;}#sk-container-id-6 div.sk-estimator:hover {background-color: #d4ebff;}#sk-container-id-6 div.sk-parallel-item::after {content: \"\";width: 100%;border-bottom: 1px solid gray;flex-grow: 1;}#sk-container-id-6 div.sk-label:hover label.sk-toggleable__label {background-color: #d4ebff;}#sk-container-id-6 div.sk-serial::before {content: \"\";position: absolute;border-left: 1px solid gray;box-sizing: border-box;top: 0;bottom: 0;left: 50%;z-index: 0;}#sk-container-id-6 div.sk-serial {display: flex;flex-direction: column;align-items: center;background-color: white;padding-right: 0.2em;padding-left: 0.2em;position: relative;}#sk-container-id-6 div.sk-item {position: relative;z-index: 1;}#sk-container-id-6 div.sk-parallel {display: flex;align-items: stretch;justify-content: center;background-color: white;position: relative;}#sk-container-id-6 div.sk-item::before, #sk-container-id-6 div.sk-parallel-item::before {content: \"\";position: absolute;border-left: 1px solid gray;box-sizing: border-box;top: 0;bottom: 0;left: 50%;z-index: -1;}#sk-container-id-6 div.sk-parallel-item {display: flex;flex-direction: column;z-index: 1;position: relative;background-color: white;}#sk-container-id-6 div.sk-parallel-item:first-child::after {align-self: flex-end;width: 50%;}#sk-container-id-6 div.sk-parallel-item:last-child::after {align-self: flex-start;width: 50%;}#sk-container-id-6 div.sk-parallel-item:only-child::after {width: 0;}#sk-container-id-6 div.sk-dashed-wrapped {border: 1px dashed gray;margin: 0 0.4em 0.5em 0.4em;box-sizing: border-box;padding-bottom: 0.4em;background-color: white;}#sk-container-id-6 div.sk-label label {font-family: monospace;font-weight: bold;display: inline-block;line-height: 1.2em;}#sk-container-id-6 div.sk-label-container {text-align: center;}#sk-container-id-6 div.sk-container {/* jupyter's `normalize.less` sets `[hidden] { display: none; }` but bootstrap.min.css set `[hidden] { display: none !important; }` so we also need the `!important` here to be able to override the default hidden behavior on the sphinx rendered scikit-learn.org. See: https://github.com/scikit-learn/scikit-learn/issues/21755 */display: inline-block !important;position: relative;}#sk-container-id-6 div.sk-text-repr-fallback {display: none;}</style><div id=\"sk-container-id-6\" class=\"sk-top-container\"><div class=\"sk-text-repr-fallback\"><pre>RandomForestClassifier(class_weight=&#x27;balanced&#x27;, max_depth=13, max_samples=0.9,\n",
       "                       n_estimators=200, oob_score=True, random_state=42)</pre><b>In a Jupyter environment, please rerun this cell to show the HTML representation or trust the notebook. <br />On GitHub, the HTML representation is unable to render, please try loading this page with nbviewer.org.</b></div><div class=\"sk-container\" hidden><div class=\"sk-item\"><div class=\"sk-estimator sk-toggleable\"><input class=\"sk-toggleable__control sk-hidden--visually\" id=\"sk-estimator-id-6\" type=\"checkbox\" checked><label for=\"sk-estimator-id-6\" class=\"sk-toggleable__label sk-toggleable__label-arrow\">RandomForestClassifier</label><div class=\"sk-toggleable__content\"><pre>RandomForestClassifier(class_weight=&#x27;balanced&#x27;, max_depth=13, max_samples=0.9,\n",
       "                       n_estimators=200, oob_score=True, random_state=42)</pre></div></div></div></div></div>"
      ],
      "text/plain": [
       "RandomForestClassifier(class_weight='balanced', max_depth=13, max_samples=0.9,\n",
       "                       n_estimators=200, oob_score=True, random_state=42)"
      ]
     },
     "execution_count": 27,
     "metadata": {},
     "output_type": "execute_result"
    }
   ],
   "source": [
    "# traditional balanced random forest classifier\n",
    "tbrfc = RandomForestClassifier(n_estimators = 200, bootstrap = True, oob_score = True, \n",
    "                               max_features = \"sqrt\", class_weight = \"balanced\",\n",
    "                               max_depth = 13, max_samples = 0.9,\n",
    "                               random_state = 42)\n",
    "tbrfc.fit(scaled_X_train, y_train)"
   ]
  },
  {
   "cell_type": "code",
   "execution_count": 28,
   "id": "ba717bec",
   "metadata": {
    "execution": {
     "iopub.execute_input": "2023-11-18T07:42:37.147648Z",
     "iopub.status.busy": "2023-11-18T07:42:37.146581Z",
     "iopub.status.idle": "2023-11-18T07:44:33.261220Z",
     "shell.execute_reply": "2023-11-18T07:44:33.260093Z"
    },
    "papermill": {
     "duration": 116.146571,
     "end_time": "2023-11-18T07:44:33.263895",
     "exception": false,
     "start_time": "2023-11-18T07:42:37.117324",
     "status": "completed"
    },
    "tags": []
   },
   "outputs": [
    {
     "name": "stdout",
     "output_type": "stream",
     "text": [
      "              precision    recall  f1-score   support\n",
      "\n",
      "        DDoS      0.997     0.965     0.981    679688\n",
      "         DoS      0.873     0.988     0.927    161818\n",
      "       Mirai      1.000     1.000     1.000     52680\n",
      "     pooled1      0.959     1.000     0.979     17580\n",
      "\n",
      "    accuracy                          0.972    911766\n",
      "   macro avg      0.957     0.988     0.972    911766\n",
      "weighted avg      0.975     0.972     0.972    911766\n",
      "\n"
     ]
    },
    {
     "data": {
      "text/plain": [
       "<Figure size 1000x500 with 0 Axes>"
      ]
     },
     "metadata": {},
     "output_type": "display_data"
    },
    {
     "data": {
      "image/png": "[encoded data removed]",
      "text/plain": [
       "<Figure size 640x480 with 2 Axes>"
      ]
     },
     "metadata": {},
     "output_type": "display_data"
    }
   ],
   "source": [
    "pred = tbrfc.predict(scaled_X_test)\n",
    "print(classification_report(y_test, pred, target_names = target_names, digits = 3))\n",
    "\n",
    "plt.figure(figsize = (4, 2), dpi=250)\n",
    "ConfusionMatrixDisplay(np.round(confusion_matrix(y_test, pred, normalize=\"true\"), 3), \n",
    "                       display_labels = target_names).plot()\n",
    "plt.xticks(rotation=90);"
   ]
  },
  {
   "cell_type": "code",
   "execution_count": 29,
   "id": "c8cb89da",
   "metadata": {
    "execution": {
     "iopub.execute_input": "2023-11-18T07:44:33.326106Z",
     "iopub.status.busy": "2023-11-18T07:44:33.325711Z",
     "iopub.status.idle": "2023-11-18T07:44:33.976549Z",
     "shell.execute_reply": "2023-11-18T07:44:33.975321Z"
    },
    "papermill": {
     "duration": 0.683898,
     "end_time": "2023-11-18T07:44:33.979322",
     "exception": false,
     "start_time": "2023-11-18T07:44:33.295424",
     "status": "completed"
    },
    "tags": []
   },
   "outputs": [
    {
     "data": {
      "text/plain": [
       "{'DDoS': 1.0,\n",
       " 'DoS': 4.200314241440627,\n",
       " 'Mirai': 12.902314942245097,\n",
       " 'pooled1': 38.66144307613552}"
      ]
     },
     "execution_count": 29,
     "metadata": {},
     "output_type": "execute_result"
    }
   ],
   "source": [
    "# inspired from Zach\n",
    "# Have to play around with\n",
    "import math\n",
    "\n",
    "# Get counts in log10\n",
    "y_train_count = y_train.value_counts()\n",
    "y_log = y_train_count.apply(lambda x: math.log10(x))\n",
    "\n",
    "# Find the factor needed to bring minority classes to majority\n",
    "y_log_max = y_log.max()\n",
    "y_log = y_log.apply(lambda x: math.pow(10,y_log_max - x))\n",
    "\n",
    "weight_dict = y_log.to_dict()\n",
    "weight_dict"
   ]
  },
  {
   "cell_type": "code",
   "execution_count": 30,
   "id": "cae355fe",
   "metadata": {
    "execution": {
     "iopub.execute_input": "2023-11-18T07:44:34.041029Z",
     "iopub.status.busy": "2023-11-18T07:44:34.040640Z",
     "iopub.status.idle": "2023-11-18T08:20:59.723707Z",
     "shell.execute_reply": "2023-11-18T08:20:59.722386Z"
    },
    "papermill": {
     "duration": 2185.744624,
     "end_time": "2023-11-18T08:20:59.754794",
     "exception": false,
     "start_time": "2023-11-18T07:44:34.010170",
     "status": "completed"
    },
    "tags": []
   },
   "outputs": [
    {
     "data": {
      "text/html": [
       "<style>#sk-container-id-7 {color: black;background-color: white;}#sk-container-id-7 pre{padding: 0;}#sk-container-id-7 div.sk-toggleable {background-color: white;}#sk-container-id-7 label.sk-toggleable__label {cursor: pointer;display: block;width: 100%;margin-bottom: 0;padding: 0.3em;box-sizing: border-box;text-align: center;}#sk-container-id-7 label.sk-toggleable__label-arrow:before {content: \"▸\";float: left;margin-right: 0.25em;color: #696969;}#sk-container-id-7 label.sk-toggleable__label-arrow:hover:before {color: black;}#sk-container-id-7 div.sk-estimator:hover label.sk-toggleable__label-arrow:before {color: black;}#sk-container-id-7 div.sk-toggleable__content {max-height: 0;max-width: 0;overflow: hidden;text-align: left;background-color: #f0f8ff;}#sk-container-id-7 div.sk-toggleable__content pre {margin: 0.2em;color: black;border-radius: 0.25em;background-color: #f0f8ff;}#sk-container-id-7 input.sk-toggleable__control:checked~div.sk-toggleable__content {max-height: 200px;max-width: 100%;overflow: auto;}#sk-container-id-7 input.sk-toggleable__control:checked~label.sk-toggleable__label-arrow:before {content: \"▾\";}#sk-container-id-7 div.sk-estimator input.sk-toggleable__control:checked~label.sk-toggleable__label {background-color: #d4ebff;}#sk-container-id-7 div.sk-label input.sk-toggleable__control:checked~label.sk-toggleable__label {background-color: #d4ebff;}#sk-container-id-7 input.sk-hidden--visually {border: 0;clip: rect(1px 1px 1px 1px);clip: rect(1px, 1px, 1px, 1px);height: 1px;margin: -1px;overflow: hidden;padding: 0;position: absolute;width: 1px;}#sk-container-id-7 div.sk-estimator {font-family: monospace;background-color: #f0f8ff;border: 1px dotted black;border-radius: 0.25em;box-sizing: border-box;margin-bottom: 0.5em;}#sk-container-id-7 div.sk-estimator:hover {background-color: #d4ebff;}#sk-container-id-7 div.sk-parallel-item::after {content: \"\";width: 100%;border-bottom: 1px solid gray;flex-grow: 1;}#sk-container-id-7 div.sk-label:hover label.sk-toggleable__label {background-color: #d4ebff;}#sk-container-id-7 div.sk-serial::before {content: \"\";position: absolute;border-left: 1px solid gray;box-sizing: border-box;top: 0;bottom: 0;left: 50%;z-index: 0;}#sk-container-id-7 div.sk-serial {display: flex;flex-direction: column;align-items: center;background-color: white;padding-right: 0.2em;padding-left: 0.2em;position: relative;}#sk-container-id-7 div.sk-item {position: relative;z-index: 1;}#sk-container-id-7 div.sk-parallel {display: flex;align-items: stretch;justify-content: center;background-color: white;position: relative;}#sk-container-id-7 div.sk-item::before, #sk-container-id-7 div.sk-parallel-item::before {content: \"\";position: absolute;border-left: 1px solid gray;box-sizing: border-box;top: 0;bottom: 0;left: 50%;z-index: -1;}#sk-container-id-7 div.sk-parallel-item {display: flex;flex-direction: column;z-index: 1;position: relative;background-color: white;}#sk-container-id-7 div.sk-parallel-item:first-child::after {align-self: flex-end;width: 50%;}#sk-container-id-7 div.sk-parallel-item:last-child::after {align-self: flex-start;width: 50%;}#sk-container-id-7 div.sk-parallel-item:only-child::after {width: 0;}#sk-container-id-7 div.sk-dashed-wrapped {border: 1px dashed gray;margin: 0 0.4em 0.5em 0.4em;box-sizing: border-box;padding-bottom: 0.4em;background-color: white;}#sk-container-id-7 div.sk-label label {font-family: monospace;font-weight: bold;display: inline-block;line-height: 1.2em;}#sk-container-id-7 div.sk-label-container {text-align: center;}#sk-container-id-7 div.sk-container {/* jupyter's `normalize.less` sets `[hidden] { display: none; }` but bootstrap.min.css set `[hidden] { display: none !important; }` so we also need the `!important` here to be able to override the default hidden behavior on the sphinx rendered scikit-learn.org. See: https://github.com/scikit-learn/scikit-learn/issues/21755 */display: inline-block !important;position: relative;}#sk-container-id-7 div.sk-text-repr-fallback {display: none;}</style><div id=\"sk-container-id-7\" class=\"sk-top-container\"><div class=\"sk-text-repr-fallback\"><pre>RandomForestClassifier(class_weight={&#x27;DDoS&#x27;: 1.0, &#x27;DoS&#x27;: 4.200314241440627,\n",
       "                                     &#x27;Mirai&#x27;: 12.902314942245097,\n",
       "                                     &#x27;pooled1&#x27;: 38.66144307613552},\n",
       "                       max_depth=13, max_samples=0.9, n_estimators=200,\n",
       "                       oob_score=True, random_state=42)</pre><b>In a Jupyter environment, please rerun this cell to show the HTML representation or trust the notebook. <br />On GitHub, the HTML representation is unable to render, please try loading this page with nbviewer.org.</b></div><div class=\"sk-container\" hidden><div class=\"sk-item\"><div class=\"sk-estimator sk-toggleable\"><input class=\"sk-toggleable__control sk-hidden--visually\" id=\"sk-estimator-id-7\" type=\"checkbox\" checked><label for=\"sk-estimator-id-7\" class=\"sk-toggleable__label sk-toggleable__label-arrow\">RandomForestClassifier</label><div class=\"sk-toggleable__content\"><pre>RandomForestClassifier(class_weight={&#x27;DDoS&#x27;: 1.0, &#x27;DoS&#x27;: 4.200314241440627,\n",
       "                                     &#x27;Mirai&#x27;: 12.902314942245097,\n",
       "                                     &#x27;pooled1&#x27;: 38.66144307613552},\n",
       "                       max_depth=13, max_samples=0.9, n_estimators=200,\n",
       "                       oob_score=True, random_state=42)</pre></div></div></div></div></div>"
      ],
      "text/plain": [
       "RandomForestClassifier(class_weight={'DDoS': 1.0, 'DoS': 4.200314241440627,\n",
       "                                     'Mirai': 12.902314942245097,\n",
       "                                     'pooled1': 38.66144307613552},\n",
       "                       max_depth=13, max_samples=0.9, n_estimators=200,\n",
       "                       oob_score=True, random_state=42)"
      ]
     },
     "execution_count": 30,
     "metadata": {},
     "output_type": "execute_result"
    }
   ],
   "source": [
    "# weighted random forest classifier\n",
    "wrfc = RandomForestClassifier(n_estimators = 200, bootstrap = True, oob_score = True, \n",
    "                              max_features = \"sqrt\", class_weight = weight_dict, \n",
    "                              max_depth = 13, max_samples = 0.9, \n",
    "                              random_state = 42)\n",
    "wrfc.fit(scaled_X_train, y_train)"
   ]
  },
  {
   "cell_type": "code",
   "execution_count": 31,
   "id": "b0a81f25",
   "metadata": {
    "execution": {
     "iopub.execute_input": "2023-11-18T08:20:59.817398Z",
     "iopub.status.busy": "2023-11-18T08:20:59.816935Z",
     "iopub.status.idle": "2023-11-18T08:22:56.073479Z",
     "shell.execute_reply": "2023-11-18T08:22:56.072554Z"
    },
    "papermill": {
     "duration": 116.290047,
     "end_time": "2023-11-18T08:22:56.075760",
     "exception": false,
     "start_time": "2023-11-18T08:20:59.785713",
     "status": "completed"
    },
    "tags": []
   },
   "outputs": [
    {
     "name": "stdout",
     "output_type": "stream",
     "text": [
      "              precision    recall  f1-score   support\n",
      "\n",
      "        DDoS      0.997     0.965     0.981    679688\n",
      "         DoS      0.873     0.987     0.927    161818\n",
      "       Mirai      1.000     1.000     1.000     52680\n",
      "     pooled1      0.960     1.000     0.980     17580\n",
      "\n",
      "    accuracy                          0.972    911766\n",
      "   macro avg      0.958     0.988     0.972    911766\n",
      "weighted avg      0.974     0.972     0.972    911766\n",
      "\n"
     ]
    },
    {
     "data": {
      "text/plain": [
       "<Figure size 1000x500 with 0 Axes>"
      ]
     },
     "metadata": {},
     "output_type": "display_data"
    },
    {
     "data": {
      "image/png": "[encoded data removed]",
      "text/plain": [
       "<Figure size 640x480 with 2 Axes>"
      ]
     },
     "metadata": {},
     "output_type": "display_data"
    }
   ],
   "source": [
    "pred = wrfc.predict(scaled_X_test)\n",
    "print(classification_report(y_test, pred, target_names = target_names, digits = 3))\n",
    "\n",
    "plt.figure(figsize = (4, 2), dpi=250)\n",
    "ConfusionMatrixDisplay(np.round(confusion_matrix(y_test, pred, normalize=\"true\"), 3), \n",
    "                       display_labels = target_names).plot()\n",
    "plt.xticks(rotation=90);"
   ]
  },
  {
   "cell_type": "code",
   "execution_count": 32,
   "id": "9702ea17",
   "metadata": {
    "execution": {
     "iopub.execute_input": "2023-11-18T08:22:56.140231Z",
     "iopub.status.busy": "2023-11-18T08:22:56.139823Z",
     "iopub.status.idle": "2023-11-18T08:29:53.607275Z",
     "shell.execute_reply": "2023-11-18T08:29:53.606110Z"
    },
    "papermill": {
     "duration": 417.502855,
     "end_time": "2023-11-18T08:29:53.609969",
     "exception": false,
     "start_time": "2023-11-18T08:22:56.107114",
     "status": "completed"
    },
    "tags": []
   },
   "outputs": [
    {
     "name": "stderr",
     "output_type": "stream",
     "text": [
      "/opt/conda/lib/python3.10/site-packages/imblearn/ensemble/_forest.py:813: UserWarning: Some inputs do not have OOB scores. This probably means too few trees were used to compute any reliable OOB estimates.\n",
      "  warn(\n"
     ]
    },
    {
     "data": {
      "text/html": [
       "<style>#sk-container-id-8 {color: black;background-color: white;}#sk-container-id-8 pre{padding: 0;}#sk-container-id-8 div.sk-toggleable {background-color: white;}#sk-container-id-8 label.sk-toggleable__label {cursor: pointer;display: block;width: 100%;margin-bottom: 0;padding: 0.3em;box-sizing: border-box;text-align: center;}#sk-container-id-8 label.sk-toggleable__label-arrow:before {content: \"▸\";float: left;margin-right: 0.25em;color: #696969;}#sk-container-id-8 label.sk-toggleable__label-arrow:hover:before {color: black;}#sk-container-id-8 div.sk-estimator:hover label.sk-toggleable__label-arrow:before {color: black;}#sk-container-id-8 div.sk-toggleable__content {max-height: 0;max-width: 0;overflow: hidden;text-align: left;background-color: #f0f8ff;}#sk-container-id-8 div.sk-toggleable__content pre {margin: 0.2em;color: black;border-radius: 0.25em;background-color: #f0f8ff;}#sk-container-id-8 input.sk-toggleable__control:checked~div.sk-toggleable__content {max-height: 200px;max-width: 100%;overflow: auto;}#sk-container-id-8 input.sk-toggleable__control:checked~label.sk-toggleable__label-arrow:before {content: \"▾\";}#sk-container-id-8 div.sk-estimator input.sk-toggleable__control:checked~label.sk-toggleable__label {background-color: #d4ebff;}#sk-container-id-8 div.sk-label input.sk-toggleable__control:checked~label.sk-toggleable__label {background-color: #d4ebff;}#sk-container-id-8 input.sk-hidden--visually {border: 0;clip: rect(1px 1px 1px 1px);clip: rect(1px, 1px, 1px, 1px);height: 1px;margin: -1px;overflow: hidden;padding: 0;position: absolute;width: 1px;}#sk-container-id-8 div.sk-estimator {font-family: monospace;background-color: #f0f8ff;border: 1px dotted black;border-radius: 0.25em;box-sizing: border-box;margin-bottom: 0.5em;}#sk-container-id-8 div.sk-estimator:hover {background-color: #d4ebff;}#sk-container-id-8 div.sk-parallel-item::after {content: \"\";width: 100%;border-bottom: 1px solid gray;flex-grow: 1;}#sk-container-id-8 div.sk-label:hover label.sk-toggleable__label {background-color: #d4ebff;}#sk-container-id-8 div.sk-serial::before {content: \"\";position: absolute;border-left: 1px solid gray;box-sizing: border-box;top: 0;bottom: 0;left: 50%;z-index: 0;}#sk-container-id-8 div.sk-serial {display: flex;flex-direction: column;align-items: center;background-color: white;padding-right: 0.2em;padding-left: 0.2em;position: relative;}#sk-container-id-8 div.sk-item {position: relative;z-index: 1;}#sk-container-id-8 div.sk-parallel {display: flex;align-items: stretch;justify-content: center;background-color: white;position: relative;}#sk-container-id-8 div.sk-item::before, #sk-container-id-8 div.sk-parallel-item::before {content: \"\";position: absolute;border-left: 1px solid gray;box-sizing: border-box;top: 0;bottom: 0;left: 50%;z-index: -1;}#sk-container-id-8 div.sk-parallel-item {display: flex;flex-direction: column;z-index: 1;position: relative;background-color: white;}#sk-container-id-8 div.sk-parallel-item:first-child::after {align-self: flex-end;width: 50%;}#sk-container-id-8 div.sk-parallel-item:last-child::after {align-self: flex-start;width: 50%;}#sk-container-id-8 div.sk-parallel-item:only-child::after {width: 0;}#sk-container-id-8 div.sk-dashed-wrapped {border: 1px dashed gray;margin: 0 0.4em 0.5em 0.4em;box-sizing: border-box;padding-bottom: 0.4em;background-color: white;}#sk-container-id-8 div.sk-label label {font-family: monospace;font-weight: bold;display: inline-block;line-height: 1.2em;}#sk-container-id-8 div.sk-label-container {text-align: center;}#sk-container-id-8 div.sk-container {/* jupyter's `normalize.less` sets `[hidden] { display: none; }` but bootstrap.min.css set `[hidden] { display: none !important; }` so we also need the `!important` here to be able to override the default hidden behavior on the sphinx rendered scikit-learn.org. See: https://github.com/scikit-learn/scikit-learn/issues/21755 */display: inline-block !important;position: relative;}#sk-container-id-8 div.sk-text-repr-fallback {display: none;}</style><div id=\"sk-container-id-8\" class=\"sk-top-container\"><div class=\"sk-text-repr-fallback\"><pre>BalancedRandomForestClassifier(max_depth=13, max_samples=0.9, n_estimators=200,\n",
       "                               oob_score=True, random_state=42,\n",
       "                               replacement=True, sampling_strategy=&#x27;all&#x27;)</pre><b>In a Jupyter environment, please rerun this cell to show the HTML representation or trust the notebook. <br />On GitHub, the HTML representation is unable to render, please try loading this page with nbviewer.org.</b></div><div class=\"sk-container\" hidden><div class=\"sk-item\"><div class=\"sk-estimator sk-toggleable\"><input class=\"sk-toggleable__control sk-hidden--visually\" id=\"sk-estimator-id-8\" type=\"checkbox\" checked><label for=\"sk-estimator-id-8\" class=\"sk-toggleable__label sk-toggleable__label-arrow\">BalancedRandomForestClassifier</label><div class=\"sk-toggleable__content\"><pre>BalancedRandomForestClassifier(max_depth=13, max_samples=0.9, n_estimators=200,\n",
       "                               oob_score=True, random_state=42,\n",
       "                               replacement=True, sampling_strategy=&#x27;all&#x27;)</pre></div></div></div></div></div>"
      ],
      "text/plain": [
       "BalancedRandomForestClassifier(max_depth=13, max_samples=0.9, n_estimators=200,\n",
       "                               oob_score=True, random_state=42,\n",
       "                               replacement=True, sampling_strategy='all')"
      ]
     },
     "execution_count": 32,
     "metadata": {},
     "output_type": "execute_result"
    }
   ],
   "source": [
    "# balanced random forest classifier\n",
    "brfc = BalancedRandomForestClassifier(n_estimators = 200, bootstrap = True, oob_score = True, \n",
    "                                      max_features = \"sqrt\", sampling_strategy=\"all\", \n",
    "                                      max_depth = 13, max_samples = 0.9,\n",
    "                                      replacement=True, random_state = 42)\n",
    "brfc.fit(scaled_X_train, y_train)"
   ]
  },
  {
   "cell_type": "code",
   "execution_count": 33,
   "id": "e8631b20",
   "metadata": {
    "execution": {
     "iopub.execute_input": "2023-11-18T08:29:53.674668Z",
     "iopub.status.busy": "2023-11-18T08:29:53.674224Z",
     "iopub.status.idle": "2023-11-18T08:31:48.126739Z",
     "shell.execute_reply": "2023-11-18T08:31:48.125605Z"
    },
    "papermill": {
     "duration": 114.487525,
     "end_time": "2023-11-18T08:31:48.129712",
     "exception": false,
     "start_time": "2023-11-18T08:29:53.642187",
     "status": "completed"
    },
    "tags": []
   },
   "outputs": [
    {
     "name": "stdout",
     "output_type": "stream",
     "text": [
      "              precision    recall  f1-score   support\n",
      "\n",
      "        DDoS      1.000     0.964     0.981    679688\n",
      "         DoS      0.874     0.997     0.932    161818\n",
      "       Mirai      0.999     0.999     0.999     52680\n",
      "     pooled1      0.914     1.000     0.955     17580\n",
      "\n",
      "    accuracy                          0.972    911766\n",
      "   macro avg      0.947     0.990     0.967    911766\n",
      "weighted avg      0.976     0.972     0.973    911766\n",
      "\n"
     ]
    },
    {
     "data": {
      "text/plain": [
       "<Figure size 1000x500 with 0 Axes>"
      ]
     },
     "metadata": {},
     "output_type": "display_data"
    },
    {
     "data": {
      "image/png": "[encoded data removed]",
      "text/plain": [
       "<Figure size 640x480 with 2 Axes>"
      ]
     },
     "metadata": {},
     "output_type": "display_data"
    }
   ],
   "source": [
    "pred = brfc.predict(scaled_X_test)\n",
    "print(classification_report(y_test, pred, target_names = target_names, digits = 3))\n",
    "\n",
    "plt.figure(figsize = (4, 2), dpi=250)\n",
    "ConfusionMatrixDisplay(np.round(confusion_matrix(y_test, pred, normalize=\"true\"), 3), \n",
    "                       display_labels = target_names).plot();\n",
    "plt.xticks(rotation=90);"
   ]
  },
  {
   "cell_type": "markdown",
   "id": "32bbc0ac",
   "metadata": {
    "papermill": {
     "duration": 0.032015,
     "end_time": "2023-11-18T08:31:48.197871",
     "exception": false,
     "start_time": "2023-11-18T08:31:48.165856",
     "status": "completed"
    },
    "tags": []
   },
   "source": [
    "# Spoofing vs Recon vs pooled2\n",
    "pooled2: Web, BruteForce"
   ]
  },
  {
   "cell_type": "code",
   "execution_count": 34,
   "id": "239bdb4f",
   "metadata": {
    "execution": {
     "iopub.execute_input": "2023-11-18T08:31:48.264429Z",
     "iopub.status.busy": "2023-11-18T08:31:48.263536Z",
     "iopub.status.idle": "2023-11-18T08:31:48.294307Z",
     "shell.execute_reply": "2023-11-18T08:31:48.293090Z"
    },
    "papermill": {
     "duration": 0.066584,
     "end_time": "2023-11-18T08:31:48.297199",
     "exception": false,
     "start_time": "2023-11-18T08:31:48.230615",
     "status": "completed"
    },
    "tags": []
   },
   "outputs": [
    {
     "data": {
      "text/html": [
       "<div>\n",
       "<style scoped>\n",
       "    .dataframe tbody tr th:only-of-type {\n",
       "        vertical-align: middle;\n",
       "    }\n",
       "\n",
       "    .dataframe tbody tr th {\n",
       "        vertical-align: top;\n",
       "    }\n",
       "\n",
       "    .dataframe thead th {\n",
       "        text-align: right;\n",
       "    }\n",
       "</style>\n",
       "<table border=\"1\" class=\"dataframe\">\n",
       "  <thead>\n",
       "    <tr style=\"text-align: right;\">\n",
       "      <th></th>\n",
       "      <th>duration</th>\n",
       "      <th>srate</th>\n",
       "      <th>drate</th>\n",
       "      <th>syn_flag_number</th>\n",
       "      <th>psh_flag_number</th>\n",
       "      <th>ack_flag_number</th>\n",
       "      <th>ack_count</th>\n",
       "      <th>syn_count</th>\n",
       "      <th>rst_count</th>\n",
       "      <th>header_length</th>\n",
       "      <th>...</th>\n",
       "      <th>flow_duration</th>\n",
       "      <th>avg</th>\n",
       "      <th>max</th>\n",
       "      <th>tot_sum</th>\n",
       "      <th>min</th>\n",
       "      <th>iat</th>\n",
       "      <th>magnitude</th>\n",
       "      <th>radius</th>\n",
       "      <th>variance</th>\n",
       "      <th>label</th>\n",
       "    </tr>\n",
       "  </thead>\n",
       "  <tbody>\n",
       "    <tr>\n",
       "      <th>28</th>\n",
       "      <td>61.2</td>\n",
       "      <td>15</td>\n",
       "      <td>0.0</td>\n",
       "      <td>False</td>\n",
       "      <td>False</td>\n",
       "      <td>True</td>\n",
       "      <td>0.2</td>\n",
       "      <td>3.0</td>\n",
       "      <td>18</td>\n",
       "      <td>19451</td>\n",
       "      <td>...</td>\n",
       "      <td>1.585993</td>\n",
       "      <td>141.53027</td>\n",
       "      <td>648.0</td>\n",
       "      <td>2168.5</td>\n",
       "      <td>57.0</td>\n",
       "      <td>1.664289e+08</td>\n",
       "      <td>16.837660</td>\n",
       "      <td>240.52281</td>\n",
       "      <td>1.0</td>\n",
       "      <td>Recon</td>\n",
       "    </tr>\n",
       "    <tr>\n",
       "      <th>54</th>\n",
       "      <td>59.2</td>\n",
       "      <td>91</td>\n",
       "      <td>0.0</td>\n",
       "      <td>False</td>\n",
       "      <td>False</td>\n",
       "      <td>True</td>\n",
       "      <td>0.0</td>\n",
       "      <td>1.8</td>\n",
       "      <td>220</td>\n",
       "      <td>148832</td>\n",
       "      <td>...</td>\n",
       "      <td>6.285090</td>\n",
       "      <td>1172.37930</td>\n",
       "      <td>2962.0</td>\n",
       "      <td>18109.4</td>\n",
       "      <td>66.0</td>\n",
       "      <td>1.666123e+08</td>\n",
       "      <td>48.183727</td>\n",
       "      <td>1968.81290</td>\n",
       "      <td>1.0</td>\n",
       "      <td>Spoofing</td>\n",
       "    </tr>\n",
       "    <tr>\n",
       "      <th>68</th>\n",
       "      <td>60.5</td>\n",
       "      <td>311</td>\n",
       "      <td>0.0</td>\n",
       "      <td>False</td>\n",
       "      <td>False</td>\n",
       "      <td>True</td>\n",
       "      <td>0.0</td>\n",
       "      <td>0.0</td>\n",
       "      <td>2529</td>\n",
       "      <td>2840113</td>\n",
       "      <td>...</td>\n",
       "      <td>8.126129</td>\n",
       "      <td>385.70920</td>\n",
       "      <td>1224.4</td>\n",
       "      <td>3114.2</td>\n",
       "      <td>66.0</td>\n",
       "      <td>2.575159e-04</td>\n",
       "      <td>24.115310</td>\n",
       "      <td>613.82214</td>\n",
       "      <td>0.5</td>\n",
       "      <td>Spoofing</td>\n",
       "    </tr>\n",
       "    <tr>\n",
       "      <th>203</th>\n",
       "      <td>192.0</td>\n",
       "      <td>60</td>\n",
       "      <td>0.0</td>\n",
       "      <td>False</td>\n",
       "      <td>False</td>\n",
       "      <td>True</td>\n",
       "      <td>0.0</td>\n",
       "      <td>0.0</td>\n",
       "      <td>941</td>\n",
       "      <td>827634</td>\n",
       "      <td>...</td>\n",
       "      <td>15.624565</td>\n",
       "      <td>488.95720</td>\n",
       "      <td>1514.0</td>\n",
       "      <td>1805.6</td>\n",
       "      <td>205.4</td>\n",
       "      <td>4.868031e-04</td>\n",
       "      <td>29.563864</td>\n",
       "      <td>712.04270</td>\n",
       "      <td>0.9</td>\n",
       "      <td>Recon</td>\n",
       "    </tr>\n",
       "    <tr>\n",
       "      <th>244</th>\n",
       "      <td>247.0</td>\n",
       "      <td>4275</td>\n",
       "      <td>0.0</td>\n",
       "      <td>False</td>\n",
       "      <td>False</td>\n",
       "      <td>True</td>\n",
       "      <td>0.0</td>\n",
       "      <td>0.0</td>\n",
       "      <td>829</td>\n",
       "      <td>803480</td>\n",
       "      <td>...</td>\n",
       "      <td>0.194001</td>\n",
       "      <td>2192.23300</td>\n",
       "      <td>4350.0</td>\n",
       "      <td>33724.2</td>\n",
       "      <td>1494.0</td>\n",
       "      <td>1.666038e+08</td>\n",
       "      <td>66.134380</td>\n",
       "      <td>1444.88060</td>\n",
       "      <td>1.0</td>\n",
       "      <td>Spoofing</td>\n",
       "    </tr>\n",
       "  </tbody>\n",
       "</table>\n",
       "<p>5 rows × 22 columns</p>\n",
       "</div>"
      ],
      "text/plain": [
       "     duration  srate  drate  syn_flag_number  psh_flag_number  \\\n",
       "28       61.2     15    0.0            False            False   \n",
       "54       59.2     91    0.0            False            False   \n",
       "68       60.5    311    0.0            False            False   \n",
       "203     192.0     60    0.0            False            False   \n",
       "244     247.0   4275    0.0            False            False   \n",
       "\n",
       "     ack_flag_number  ack_count  syn_count  rst_count  header_length  ...  \\\n",
       "28              True        0.2        3.0         18          19451  ...   \n",
       "54              True        0.0        1.8        220         148832  ...   \n",
       "68              True        0.0        0.0       2529        2840113  ...   \n",
       "203             True        0.0        0.0        941         827634  ...   \n",
       "244             True        0.0        0.0        829         803480  ...   \n",
       "\n",
       "     flow_duration         avg     max  tot_sum     min           iat  \\\n",
       "28        1.585993   141.53027   648.0   2168.5    57.0  1.664289e+08   \n",
       "54        6.285090  1172.37930  2962.0  18109.4    66.0  1.666123e+08   \n",
       "68        8.126129   385.70920  1224.4   3114.2    66.0  2.575159e-04   \n",
       "203      15.624565   488.95720  1514.0   1805.6   205.4  4.868031e-04   \n",
       "244       0.194001  2192.23300  4350.0  33724.2  1494.0  1.666038e+08   \n",
       "\n",
       "     magnitude      radius  variance     label  \n",
       "28   16.837660   240.52281       1.0     Recon  \n",
       "54   48.183727  1968.81290       1.0  Spoofing  \n",
       "68   24.115310   613.82214       0.5  Spoofing  \n",
       "203  29.563864   712.04270       0.9     Recon  \n",
       "244  66.134380  1444.88060       1.0  Spoofing  \n",
       "\n",
       "[5 rows x 22 columns]"
      ]
     },
     "execution_count": 34,
     "metadata": {},
     "output_type": "execute_result"
    }
   ],
   "source": [
    "# dataset used is df_SpRe\n",
    "df_SpRe.head()"
   ]
  },
  {
   "cell_type": "code",
   "execution_count": 35,
   "id": "93f36cb9",
   "metadata": {
    "execution": {
     "iopub.execute_input": "2023-11-18T08:31:48.362066Z",
     "iopub.status.busy": "2023-11-18T08:31:48.361639Z",
     "iopub.status.idle": "2023-11-18T08:31:48.390325Z",
     "shell.execute_reply": "2023-11-18T08:31:48.389448Z"
    },
    "papermill": {
     "duration": 0.063951,
     "end_time": "2023-11-18T08:31:48.392672",
     "exception": false,
     "start_time": "2023-11-18T08:31:48.328721",
     "status": "completed"
    },
    "tags": []
   },
   "outputs": [
    {
     "data": {
      "text/plain": [
       "label\n",
       "Spoofing    48659\n",
       "Recon       35453\n",
       "pooled2      3790\n",
       "Name: count, dtype: int64"
      ]
     },
     "execution_count": 35,
     "metadata": {},
     "output_type": "execute_result"
    }
   ],
   "source": [
    "df_SpRe[\"label\"].value_counts()"
   ]
  },
  {
   "cell_type": "code",
   "execution_count": 36,
   "id": "4ece25d6",
   "metadata": {
    "execution": {
     "iopub.execute_input": "2023-11-18T08:31:48.458100Z",
     "iopub.status.busy": "2023-11-18T08:31:48.457259Z",
     "iopub.status.idle": "2023-11-18T08:31:49.033512Z",
     "shell.execute_reply": "2023-11-18T08:31:49.032526Z"
    },
    "papermill": {
     "duration": 0.612064,
     "end_time": "2023-11-18T08:31:49.036227",
     "exception": false,
     "start_time": "2023-11-18T08:31:48.424163",
     "status": "completed"
    },
    "tags": []
   },
   "outputs": [],
   "source": [
    "# Preprocessing\n",
    "X = df_SpRe.drop(\"label\", axis=1)\n",
    "y = df_SpRe[\"label\"]\n",
    "\n",
    "# splitting out dataset to train and test\n",
    "X_train, X_test, y_train, y_test = train_test_split(X, y, test_size=0.2, stratify=y)\n",
    "\n",
    "# scaling features\n",
    "scaler = StandardScaler()\n",
    "scaled_X_train = scaler.fit_transform(X_train)\n",
    "scaled_X_test = scaler.fit_transform(X_test)\n",
    "\n",
    "# hot code \"label\" since xgboost only accepts number types\n",
    "label = LabelEncoder()\n",
    "encoded_y_train = label.fit_transform(y_train)\n",
    "encoded_y_test = label.fit_transform(y_test)"
   ]
  },
  {
   "cell_type": "code",
   "execution_count": 37,
   "id": "34b42a40",
   "metadata": {
    "execution": {
     "iopub.execute_input": "2023-11-18T08:31:49.100694Z",
     "iopub.status.busy": "2023-11-18T08:31:49.100002Z",
     "iopub.status.idle": "2023-11-18T08:31:49.105637Z",
     "shell.execute_reply": "2023-11-18T08:31:49.104403Z"
    },
    "papermill": {
     "duration": 0.041395,
     "end_time": "2023-11-18T08:31:49.108642",
     "exception": false,
     "start_time": "2023-11-18T08:31:49.067247",
     "status": "completed"
    },
    "tags": []
   },
   "outputs": [],
   "source": [
    "target_names = [\"Recon\", \"Spoofing\", \"pooled2\"]"
   ]
  },
  {
   "cell_type": "code",
   "execution_count": 38,
   "id": "bb35b9f1",
   "metadata": {
    "execution": {
     "iopub.execute_input": "2023-11-18T08:31:49.173807Z",
     "iopub.status.busy": "2023-11-18T08:31:49.173398Z",
     "iopub.status.idle": "2023-11-18T08:31:59.798171Z",
     "shell.execute_reply": "2023-11-18T08:31:59.796878Z"
    },
    "papermill": {
     "duration": 10.660306,
     "end_time": "2023-11-18T08:31:59.800691",
     "exception": false,
     "start_time": "2023-11-18T08:31:49.140385",
     "status": "completed"
    },
    "tags": []
   },
   "outputs": [
    {
     "name": "stderr",
     "output_type": "stream",
     "text": [
      "/opt/conda/lib/python3.10/site-packages/xgboost/core.py:160: UserWarning: [08:31:49] WARNING: /workspace/src/learner.cc:742: \n",
      "Parameters: { \"max_samples\" } are not used.\n",
      "\n",
      "  warnings.warn(smsg, UserWarning)\n"
     ]
    },
    {
     "data": {
      "text/html": [
       "<style>#sk-container-id-9 {color: black;background-color: white;}#sk-container-id-9 pre{padding: 0;}#sk-container-id-9 div.sk-toggleable {background-color: white;}#sk-container-id-9 label.sk-toggleable__label {cursor: pointer;display: block;width: 100%;margin-bottom: 0;padding: 0.3em;box-sizing: border-box;text-align: center;}#sk-container-id-9 label.sk-toggleable__label-arrow:before {content: \"▸\";float: left;margin-right: 0.25em;color: #696969;}#sk-container-id-9 label.sk-toggleable__label-arrow:hover:before {color: black;}#sk-container-id-9 div.sk-estimator:hover label.sk-toggleable__label-arrow:before {color: black;}#sk-container-id-9 div.sk-toggleable__content {max-height: 0;max-width: 0;overflow: hidden;text-align: left;background-color: #f0f8ff;}#sk-container-id-9 div.sk-toggleable__content pre {margin: 0.2em;color: black;border-radius: 0.25em;background-color: #f0f8ff;}#sk-container-id-9 input.sk-toggleable__control:checked~div.sk-toggleable__content {max-height: 200px;max-width: 100%;overflow: auto;}#sk-container-id-9 input.sk-toggleable__control:checked~label.sk-toggleable__label-arrow:before {content: \"▾\";}#sk-container-id-9 div.sk-estimator input.sk-toggleable__control:checked~label.sk-toggleable__label {background-color: #d4ebff;}#sk-container-id-9 div.sk-label input.sk-toggleable__control:checked~label.sk-toggleable__label {background-color: #d4ebff;}#sk-container-id-9 input.sk-hidden--visually {border: 0;clip: rect(1px 1px 1px 1px);clip: rect(1px, 1px, 1px, 1px);height: 1px;margin: -1px;overflow: hidden;padding: 0;position: absolute;width: 1px;}#sk-container-id-9 div.sk-estimator {font-family: monospace;background-color: #f0f8ff;border: 1px dotted black;border-radius: 0.25em;box-sizing: border-box;margin-bottom: 0.5em;}#sk-container-id-9 div.sk-estimator:hover {background-color: #d4ebff;}#sk-container-id-9 div.sk-parallel-item::after {content: \"\";width: 100%;border-bottom: 1px solid gray;flex-grow: 1;}#sk-container-id-9 div.sk-label:hover label.sk-toggleable__label {background-color: #d4ebff;}#sk-container-id-9 div.sk-serial::before {content: \"\";position: absolute;border-left: 1px solid gray;box-sizing: border-box;top: 0;bottom: 0;left: 50%;z-index: 0;}#sk-container-id-9 div.sk-serial {display: flex;flex-direction: column;align-items: center;background-color: white;padding-right: 0.2em;padding-left: 0.2em;position: relative;}#sk-container-id-9 div.sk-item {position: relative;z-index: 1;}#sk-container-id-9 div.sk-parallel {display: flex;align-items: stretch;justify-content: center;background-color: white;position: relative;}#sk-container-id-9 div.sk-item::before, #sk-container-id-9 div.sk-parallel-item::before {content: \"\";position: absolute;border-left: 1px solid gray;box-sizing: border-box;top: 0;bottom: 0;left: 50%;z-index: -1;}#sk-container-id-9 div.sk-parallel-item {display: flex;flex-direction: column;z-index: 1;position: relative;background-color: white;}#sk-container-id-9 div.sk-parallel-item:first-child::after {align-self: flex-end;width: 50%;}#sk-container-id-9 div.sk-parallel-item:last-child::after {align-self: flex-start;width: 50%;}#sk-container-id-9 div.sk-parallel-item:only-child::after {width: 0;}#sk-container-id-9 div.sk-dashed-wrapped {border: 1px dashed gray;margin: 0 0.4em 0.5em 0.4em;box-sizing: border-box;padding-bottom: 0.4em;background-color: white;}#sk-container-id-9 div.sk-label label {font-family: monospace;font-weight: bold;display: inline-block;line-height: 1.2em;}#sk-container-id-9 div.sk-label-container {text-align: center;}#sk-container-id-9 div.sk-container {/* jupyter's `normalize.less` sets `[hidden] { display: none; }` but bootstrap.min.css set `[hidden] { display: none !important; }` so we also need the `!important` here to be able to override the default hidden behavior on the sphinx rendered scikit-learn.org. See: https://github.com/scikit-learn/scikit-learn/issues/21755 */display: inline-block !important;position: relative;}#sk-container-id-9 div.sk-text-repr-fallback {display: none;}</style><div id=\"sk-container-id-9\" class=\"sk-top-container\"><div class=\"sk-text-repr-fallback\"><pre>XGBClassifier(base_score=None, booster=&#x27;gbtree&#x27;, callbacks=None,\n",
       "              colsample_bylevel=None, colsample_bynode=None,\n",
       "              colsample_bytree=None, device=None, early_stopping_rounds=None,\n",
       "              enable_categorical=False, eval_metric=None, feature_types=None,\n",
       "              gamma=None, grow_policy=None, importance_type=None,\n",
       "              interaction_constraints=None, learning_rate=None, max_bin=None,\n",
       "              max_cat_threshold=None, max_cat_to_onehot=None,\n",
       "              max_delta_step=None, max_depth=13, max_leaves=None,\n",
       "              max_samples=0.9, min_child_weight=None, missing=nan,\n",
       "              monotone_constraints=None, multi_strategy=None, n_estimators=200,\n",
       "              n_jobs=None, num_parallel_tree=None, ...)</pre><b>In a Jupyter environment, please rerun this cell to show the HTML representation or trust the notebook. <br />On GitHub, the HTML representation is unable to render, please try loading this page with nbviewer.org.</b></div><div class=\"sk-container\" hidden><div class=\"sk-item\"><div class=\"sk-estimator sk-toggleable\"><input class=\"sk-toggleable__control sk-hidden--visually\" id=\"sk-estimator-id-9\" type=\"checkbox\" checked><label for=\"sk-estimator-id-9\" class=\"sk-toggleable__label sk-toggleable__label-arrow\">XGBClassifier</label><div class=\"sk-toggleable__content\"><pre>XGBClassifier(base_score=None, booster=&#x27;gbtree&#x27;, callbacks=None,\n",
       "              colsample_bylevel=None, colsample_bynode=None,\n",
       "              colsample_bytree=None, device=None, early_stopping_rounds=None,\n",
       "              enable_categorical=False, eval_metric=None, feature_types=None,\n",
       "              gamma=None, grow_policy=None, importance_type=None,\n",
       "              interaction_constraints=None, learning_rate=None, max_bin=None,\n",
       "              max_cat_threshold=None, max_cat_to_onehot=None,\n",
       "              max_delta_step=None, max_depth=13, max_leaves=None,\n",
       "              max_samples=0.9, min_child_weight=None, missing=nan,\n",
       "              monotone_constraints=None, multi_strategy=None, n_estimators=200,\n",
       "              n_jobs=None, num_parallel_tree=None, ...)</pre></div></div></div></div></div>"
      ],
      "text/plain": [
       "XGBClassifier(base_score=None, booster='gbtree', callbacks=None,\n",
       "              colsample_bylevel=None, colsample_bynode=None,\n",
       "              colsample_bytree=None, device=None, early_stopping_rounds=None,\n",
       "              enable_categorical=False, eval_metric=None, feature_types=None,\n",
       "              gamma=None, grow_policy=None, importance_type=None,\n",
       "              interaction_constraints=None, learning_rate=None, max_bin=None,\n",
       "              max_cat_threshold=None, max_cat_to_onehot=None,\n",
       "              max_delta_step=None, max_depth=13, max_leaves=None,\n",
       "              max_samples=0.9, min_child_weight=None, missing=nan,\n",
       "              monotone_constraints=None, multi_strategy=None, n_estimators=200,\n",
       "              n_jobs=None, num_parallel_tree=None, ...)"
      ]
     },
     "execution_count": 38,
     "metadata": {},
     "output_type": "execute_result"
    }
   ],
   "source": [
    "# xgboost classifier\n",
    "xgc = xgb.XGBClassifier(n_estimators = 200, booster = \"gbtree\", random_state = 42,\n",
    "                       max_depth = 13, max_samples = 0.9)\n",
    "xgc.fit(scaled_X_train, encoded_y_train)"
   ]
  },
  {
   "cell_type": "code",
   "execution_count": 39,
   "id": "2579dc76",
   "metadata": {
    "execution": {
     "iopub.execute_input": "2023-11-18T08:31:59.867549Z",
     "iopub.status.busy": "2023-11-18T08:31:59.867115Z",
     "iopub.status.idle": "2023-11-18T08:32:00.474826Z",
     "shell.execute_reply": "2023-11-18T08:32:00.473673Z"
    },
    "papermill": {
     "duration": 0.644166,
     "end_time": "2023-11-18T08:32:00.477413",
     "exception": false,
     "start_time": "2023-11-18T08:31:59.833247",
     "status": "completed"
    },
    "tags": []
   },
   "outputs": [
    {
     "name": "stdout",
     "output_type": "stream",
     "text": [
      "              precision    recall  f1-score   support\n",
      "\n",
      "       Recon      0.528     0.891     0.663      7091\n",
      "    Spoofing      0.825     0.459     0.590      9732\n",
      "     pooled2      0.779     0.219     0.342       758\n",
      "\n",
      "    accuracy                          0.623     17581\n",
      "   macro avg      0.711     0.523     0.532     17581\n",
      "weighted avg      0.704     0.623     0.609     17581\n",
      "\n"
     ]
    },
    {
     "data": {
      "text/plain": [
       "<Figure size 1000x500 with 0 Axes>"
      ]
     },
     "metadata": {},
     "output_type": "display_data"
    },
    {
     "data": {
      "image/png": "[encoded data removed]",
      "text/plain": [
       "<Figure size 640x480 with 2 Axes>"
      ]
     },
     "metadata": {},
     "output_type": "display_data"
    }
   ],
   "source": [
    "pred = xgc.predict(scaled_X_test)\n",
    "print(classification_report(encoded_y_test, pred, target_names = target_names, digits = 3))\n",
    "\n",
    "plt.figure(figsize = (4, 2), dpi=250)\n",
    "ConfusionMatrixDisplay(np.round(confusion_matrix(encoded_y_test, pred, normalize=\"true\"), 3), \n",
    "                       display_labels = target_names).plot()\n",
    "plt.xticks(rotation=90);"
   ]
  },
  {
   "cell_type": "code",
   "execution_count": 40,
   "id": "3cd83f8e",
   "metadata": {
    "execution": {
     "iopub.execute_input": "2023-11-18T08:32:00.547482Z",
     "iopub.status.busy": "2023-11-18T08:32:00.547060Z",
     "iopub.status.idle": "2023-11-18T08:32:35.663059Z",
     "shell.execute_reply": "2023-11-18T08:32:35.661765Z"
    },
    "papermill": {
     "duration": 35.187159,
     "end_time": "2023-11-18T08:32:35.699245",
     "exception": false,
     "start_time": "2023-11-18T08:32:00.512086",
     "status": "completed"
    },
    "tags": []
   },
   "outputs": [
    {
     "data": {
      "text/html": [
       "<style>#sk-container-id-10 {color: black;background-color: white;}#sk-container-id-10 pre{padding: 0;}#sk-container-id-10 div.sk-toggleable {background-color: white;}#sk-container-id-10 label.sk-toggleable__label {cursor: pointer;display: block;width: 100%;margin-bottom: 0;padding: 0.3em;box-sizing: border-box;text-align: center;}#sk-container-id-10 label.sk-toggleable__label-arrow:before {content: \"▸\";float: left;margin-right: 0.25em;color: #696969;}#sk-container-id-10 label.sk-toggleable__label-arrow:hover:before {color: black;}#sk-container-id-10 div.sk-estimator:hover label.sk-toggleable__label-arrow:before {color: black;}#sk-container-id-10 div.sk-toggleable__content {max-height: 0;max-width: 0;overflow: hidden;text-align: left;background-color: #f0f8ff;}#sk-container-id-10 div.sk-toggleable__content pre {margin: 0.2em;color: black;border-radius: 0.25em;background-color: #f0f8ff;}#sk-container-id-10 input.sk-toggleable__control:checked~div.sk-toggleable__content {max-height: 200px;max-width: 100%;overflow: auto;}#sk-container-id-10 input.sk-toggleable__control:checked~label.sk-toggleable__label-arrow:before {content: \"▾\";}#sk-container-id-10 div.sk-estimator input.sk-toggleable__control:checked~label.sk-toggleable__label {background-color: #d4ebff;}#sk-container-id-10 div.sk-label input.sk-toggleable__control:checked~label.sk-toggleable__label {background-color: #d4ebff;}#sk-container-id-10 input.sk-hidden--visually {border: 0;clip: rect(1px 1px 1px 1px);clip: rect(1px, 1px, 1px, 1px);height: 1px;margin: -1px;overflow: hidden;padding: 0;position: absolute;width: 1px;}#sk-container-id-10 div.sk-estimator {font-family: monospace;background-color: #f0f8ff;border: 1px dotted black;border-radius: 0.25em;box-sizing: border-box;margin-bottom: 0.5em;}#sk-container-id-10 div.sk-estimator:hover {background-color: #d4ebff;}#sk-container-id-10 div.sk-parallel-item::after {content: \"\";width: 100%;border-bottom: 1px solid gray;flex-grow: 1;}#sk-container-id-10 div.sk-label:hover label.sk-toggleable__label {background-color: #d4ebff;}#sk-container-id-10 div.sk-serial::before {content: \"\";position: absolute;border-left: 1px solid gray;box-sizing: border-box;top: 0;bottom: 0;left: 50%;z-index: 0;}#sk-container-id-10 div.sk-serial {display: flex;flex-direction: column;align-items: center;background-color: white;padding-right: 0.2em;padding-left: 0.2em;position: relative;}#sk-container-id-10 div.sk-item {position: relative;z-index: 1;}#sk-container-id-10 div.sk-parallel {display: flex;align-items: stretch;justify-content: center;background-color: white;position: relative;}#sk-container-id-10 div.sk-item::before, #sk-container-id-10 div.sk-parallel-item::before {content: \"\";position: absolute;border-left: 1px solid gray;box-sizing: border-box;top: 0;bottom: 0;left: 50%;z-index: -1;}#sk-container-id-10 div.sk-parallel-item {display: flex;flex-direction: column;z-index: 1;position: relative;background-color: white;}#sk-container-id-10 div.sk-parallel-item:first-child::after {align-self: flex-end;width: 50%;}#sk-container-id-10 div.sk-parallel-item:last-child::after {align-self: flex-start;width: 50%;}#sk-container-id-10 div.sk-parallel-item:only-child::after {width: 0;}#sk-container-id-10 div.sk-dashed-wrapped {border: 1px dashed gray;margin: 0 0.4em 0.5em 0.4em;box-sizing: border-box;padding-bottom: 0.4em;background-color: white;}#sk-container-id-10 div.sk-label label {font-family: monospace;font-weight: bold;display: inline-block;line-height: 1.2em;}#sk-container-id-10 div.sk-label-container {text-align: center;}#sk-container-id-10 div.sk-container {/* jupyter's `normalize.less` sets `[hidden] { display: none; }` but bootstrap.min.css set `[hidden] { display: none !important; }` so we also need the `!important` here to be able to override the default hidden behavior on the sphinx rendered scikit-learn.org. See: https://github.com/scikit-learn/scikit-learn/issues/21755 */display: inline-block !important;position: relative;}#sk-container-id-10 div.sk-text-repr-fallback {display: none;}</style><div id=\"sk-container-id-10\" class=\"sk-top-container\"><div class=\"sk-text-repr-fallback\"><pre>RandomForestClassifier(class_weight=&#x27;balanced&#x27;, max_depth=13, max_samples=0.9,\n",
       "                       n_estimators=200, oob_score=True, random_state=42)</pre><b>In a Jupyter environment, please rerun this cell to show the HTML representation or trust the notebook. <br />On GitHub, the HTML representation is unable to render, please try loading this page with nbviewer.org.</b></div><div class=\"sk-container\" hidden><div class=\"sk-item\"><div class=\"sk-estimator sk-toggleable\"><input class=\"sk-toggleable__control sk-hidden--visually\" id=\"sk-estimator-id-10\" type=\"checkbox\" checked><label for=\"sk-estimator-id-10\" class=\"sk-toggleable__label sk-toggleable__label-arrow\">RandomForestClassifier</label><div class=\"sk-toggleable__content\"><pre>RandomForestClassifier(class_weight=&#x27;balanced&#x27;, max_depth=13, max_samples=0.9,\n",
       "                       n_estimators=200, oob_score=True, random_state=42)</pre></div></div></div></div></div>"
      ],
      "text/plain": [
       "RandomForestClassifier(class_weight='balanced', max_depth=13, max_samples=0.9,\n",
       "                       n_estimators=200, oob_score=True, random_state=42)"
      ]
     },
     "execution_count": 40,
     "metadata": {},
     "output_type": "execute_result"
    }
   ],
   "source": [
    "# traditional balanced random forest classifier\n",
    "tbrfc = RandomForestClassifier(n_estimators = 200, bootstrap = True, oob_score = True, \n",
    "                               max_features = \"sqrt\", class_weight = \"balanced\",\n",
    "                               max_depth = 13, max_samples = 0.9,\n",
    "                               random_state = 42)\n",
    "tbrfc.fit(scaled_X_train, y_train)"
   ]
  },
  {
   "cell_type": "code",
   "execution_count": 41,
   "id": "95b60232",
   "metadata": {
    "execution": {
     "iopub.execute_input": "2023-11-18T08:32:35.766843Z",
     "iopub.status.busy": "2023-11-18T08:32:35.766414Z",
     "iopub.status.idle": "2023-11-18T08:32:37.956787Z",
     "shell.execute_reply": "2023-11-18T08:32:37.955593Z"
    },
    "papermill": {
     "duration": 2.2273,
     "end_time": "2023-11-18T08:32:37.959433",
     "exception": false,
     "start_time": "2023-11-18T08:32:35.732133",
     "status": "completed"
    },
    "tags": []
   },
   "outputs": [
    {
     "name": "stdout",
     "output_type": "stream",
     "text": [
      "              precision    recall  f1-score   support\n",
      "\n",
      "       Recon      0.631     0.870     0.731      7091\n",
      "    Spoofing      0.924     0.585     0.717      9732\n",
      "     pooled2      0.158     0.340     0.216       758\n",
      "\n",
      "    accuracy                          0.690     17581\n",
      "   macro avg      0.571     0.599     0.555     17581\n",
      "weighted avg      0.773     0.690     0.701     17581\n",
      "\n"
     ]
    },
    {
     "data": {
      "text/plain": [
       "<Figure size 1000x500 with 0 Axes>"
      ]
     },
     "metadata": {},
     "output_type": "display_data"
    },
    {
     "data": {
      "image/png": "[encoded data removed]",
      "text/plain": [
       "<Figure size 640x480 with 2 Axes>"
      ]
     },
     "metadata": {},
     "output_type": "display_data"
    }
   ],
   "source": [
    "pred = tbrfc.predict(scaled_X_test)\n",
    "print(classification_report(y_test, pred, target_names = target_names, digits = 3))\n",
    "\n",
    "plt.figure(figsize = (4, 2), dpi=250)\n",
    "ConfusionMatrixDisplay(np.round(confusion_matrix(y_test, pred, normalize=\"true\"), 3), \n",
    "                       display_labels = target_names).plot()\n",
    "plt.xticks(rotation=90);"
   ]
  },
  {
   "cell_type": "code",
   "execution_count": 42,
   "id": "4f7f042d",
   "metadata": {
    "execution": {
     "iopub.execute_input": "2023-11-18T08:32:38.034775Z",
     "iopub.status.busy": "2023-11-18T08:32:38.034339Z",
     "iopub.status.idle": "2023-11-18T08:32:38.059332Z",
     "shell.execute_reply": "2023-11-18T08:32:38.058062Z"
    },
    "papermill": {
     "duration": 0.063711,
     "end_time": "2023-11-18T08:32:38.061860",
     "exception": false,
     "start_time": "2023-11-18T08:32:37.998149",
     "status": "completed"
    },
    "tags": []
   },
   "outputs": [
    {
     "data": {
      "text/plain": [
       "{'Spoofing': 1.0, 'Recon': 1.3725054650588826, 'pooled2': 12.838720316622704}"
      ]
     },
     "execution_count": 42,
     "metadata": {},
     "output_type": "execute_result"
    }
   ],
   "source": [
    "# inspired from Zach\n",
    "# Have to play around with\n",
    "import math\n",
    "\n",
    "# Get counts in log10\n",
    "y_train_count = y_train.value_counts()\n",
    "y_log = y_train_count.apply(lambda x: math.log10(x))\n",
    "\n",
    "# Find the factor needed to bring minority classes to majority\n",
    "y_log_max = y_log.max()\n",
    "y_log = y_log.apply(lambda x: math.pow(10,y_log_max - x))\n",
    "\n",
    "weight_dict = y_log.to_dict()\n",
    "weight_dict"
   ]
  },
  {
   "cell_type": "code",
   "execution_count": 43,
   "id": "8903f7a4",
   "metadata": {
    "execution": {
     "iopub.execute_input": "2023-11-18T08:32:38.131568Z",
     "iopub.status.busy": "2023-11-18T08:32:38.131124Z",
     "iopub.status.idle": "2023-11-18T08:33:13.329625Z",
     "shell.execute_reply": "2023-11-18T08:33:13.328354Z"
    },
    "papermill": {
     "duration": 35.272916,
     "end_time": "2023-11-18T08:33:13.368963",
     "exception": false,
     "start_time": "2023-11-18T08:32:38.096047",
     "status": "completed"
    },
    "tags": []
   },
   "outputs": [
    {
     "data": {
      "text/html": [
       "<style>#sk-container-id-11 {color: black;background-color: white;}#sk-container-id-11 pre{padding: 0;}#sk-container-id-11 div.sk-toggleable {background-color: white;}#sk-container-id-11 label.sk-toggleable__label {cursor: pointer;display: block;width: 100%;margin-bottom: 0;padding: 0.3em;box-sizing: border-box;text-align: center;}#sk-container-id-11 label.sk-toggleable__label-arrow:before {content: \"▸\";float: left;margin-right: 0.25em;color: #696969;}#sk-container-id-11 label.sk-toggleable__label-arrow:hover:before {color: black;}#sk-container-id-11 div.sk-estimator:hover label.sk-toggleable__label-arrow:before {color: black;}#sk-container-id-11 div.sk-toggleable__content {max-height: 0;max-width: 0;overflow: hidden;text-align: left;background-color: #f0f8ff;}#sk-container-id-11 div.sk-toggleable__content pre {margin: 0.2em;color: black;border-radius: 0.25em;background-color: #f0f8ff;}#sk-container-id-11 input.sk-toggleable__control:checked~div.sk-toggleable__content {max-height: 200px;max-width: 100%;overflow: auto;}#sk-container-id-11 input.sk-toggleable__control:checked~label.sk-toggleable__label-arrow:before {content: \"▾\";}#sk-container-id-11 div.sk-estimator input.sk-toggleable__control:checked~label.sk-toggleable__label {background-color: #d4ebff;}#sk-container-id-11 div.sk-label input.sk-toggleable__control:checked~label.sk-toggleable__label {background-color: #d4ebff;}#sk-container-id-11 input.sk-hidden--visually {border: 0;clip: rect(1px 1px 1px 1px);clip: rect(1px, 1px, 1px, 1px);height: 1px;margin: -1px;overflow: hidden;padding: 0;position: absolute;width: 1px;}#sk-container-id-11 div.sk-estimator {font-family: monospace;background-color: #f0f8ff;border: 1px dotted black;border-radius: 0.25em;box-sizing: border-box;margin-bottom: 0.5em;}#sk-container-id-11 div.sk-estimator:hover {background-color: #d4ebff;}#sk-container-id-11 div.sk-parallel-item::after {content: \"\";width: 100%;border-bottom: 1px solid gray;flex-grow: 1;}#sk-container-id-11 div.sk-label:hover label.sk-toggleable__label {background-color: #d4ebff;}#sk-container-id-11 div.sk-serial::before {content: \"\";position: absolute;border-left: 1px solid gray;box-sizing: border-box;top: 0;bottom: 0;left: 50%;z-index: 0;}#sk-container-id-11 div.sk-serial {display: flex;flex-direction: column;align-items: center;background-color: white;padding-right: 0.2em;padding-left: 0.2em;position: relative;}#sk-container-id-11 div.sk-item {position: relative;z-index: 1;}#sk-container-id-11 div.sk-parallel {display: flex;align-items: stretch;justify-content: center;background-color: white;position: relative;}#sk-container-id-11 div.sk-item::before, #sk-container-id-11 div.sk-parallel-item::before {content: \"\";position: absolute;border-left: 1px solid gray;box-sizing: border-box;top: 0;bottom: 0;left: 50%;z-index: -1;}#sk-container-id-11 div.sk-parallel-item {display: flex;flex-direction: column;z-index: 1;position: relative;background-color: white;}#sk-container-id-11 div.sk-parallel-item:first-child::after {align-self: flex-end;width: 50%;}#sk-container-id-11 div.sk-parallel-item:last-child::after {align-self: flex-start;width: 50%;}#sk-container-id-11 div.sk-parallel-item:only-child::after {width: 0;}#sk-container-id-11 div.sk-dashed-wrapped {border: 1px dashed gray;margin: 0 0.4em 0.5em 0.4em;box-sizing: border-box;padding-bottom: 0.4em;background-color: white;}#sk-container-id-11 div.sk-label label {font-family: monospace;font-weight: bold;display: inline-block;line-height: 1.2em;}#sk-container-id-11 div.sk-label-container {text-align: center;}#sk-container-id-11 div.sk-container {/* jupyter's `normalize.less` sets `[hidden] { display: none; }` but bootstrap.min.css set `[hidden] { display: none !important; }` so we also need the `!important` here to be able to override the default hidden behavior on the sphinx rendered scikit-learn.org. See: https://github.com/scikit-learn/scikit-learn/issues/21755 */display: inline-block !important;position: relative;}#sk-container-id-11 div.sk-text-repr-fallback {display: none;}</style><div id=\"sk-container-id-11\" class=\"sk-top-container\"><div class=\"sk-text-repr-fallback\"><pre>RandomForestClassifier(class_weight={&#x27;Recon&#x27;: 1.3725054650588826,\n",
       "                                     &#x27;Spoofing&#x27;: 1.0,\n",
       "                                     &#x27;pooled2&#x27;: 12.838720316622704},\n",
       "                       max_depth=13, max_samples=0.9, n_estimators=200,\n",
       "                       oob_score=True, random_state=42)</pre><b>In a Jupyter environment, please rerun this cell to show the HTML representation or trust the notebook. <br />On GitHub, the HTML representation is unable to render, please try loading this page with nbviewer.org.</b></div><div class=\"sk-container\" hidden><div class=\"sk-item\"><div class=\"sk-estimator sk-toggleable\"><input class=\"sk-toggleable__control sk-hidden--visually\" id=\"sk-estimator-id-11\" type=\"checkbox\" checked><label for=\"sk-estimator-id-11\" class=\"sk-toggleable__label sk-toggleable__label-arrow\">RandomForestClassifier</label><div class=\"sk-toggleable__content\"><pre>RandomForestClassifier(class_weight={&#x27;Recon&#x27;: 1.3725054650588826,\n",
       "                                     &#x27;Spoofing&#x27;: 1.0,\n",
       "                                     &#x27;pooled2&#x27;: 12.838720316622704},\n",
       "                       max_depth=13, max_samples=0.9, n_estimators=200,\n",
       "                       oob_score=True, random_state=42)</pre></div></div></div></div></div>"
      ],
      "text/plain": [
       "RandomForestClassifier(class_weight={'Recon': 1.3725054650588826,\n",
       "                                     'Spoofing': 1.0,\n",
       "                                     'pooled2': 12.838720316622704},\n",
       "                       max_depth=13, max_samples=0.9, n_estimators=200,\n",
       "                       oob_score=True, random_state=42)"
      ]
     },
     "execution_count": 43,
     "metadata": {},
     "output_type": "execute_result"
    }
   ],
   "source": [
    "# weighted random forest classifier\n",
    "wrfc = RandomForestClassifier(n_estimators = 200, bootstrap = True, oob_score = True, \n",
    "                              max_features = \"sqrt\", class_weight = weight_dict, \n",
    "                              max_depth = 13, max_samples = 0.9, \n",
    "                              random_state = 42)\n",
    "wrfc.fit(scaled_X_train, y_train)"
   ]
  },
  {
   "cell_type": "code",
   "execution_count": 44,
   "id": "1e7d297a",
   "metadata": {
    "execution": {
     "iopub.execute_input": "2023-11-18T08:33:13.440404Z",
     "iopub.status.busy": "2023-11-18T08:33:13.439999Z",
     "iopub.status.idle": "2023-11-18T08:33:15.644428Z",
     "shell.execute_reply": "2023-11-18T08:33:15.643257Z"
    },
    "papermill": {
     "duration": 2.244563,
     "end_time": "2023-11-18T08:33:15.647194",
     "exception": false,
     "start_time": "2023-11-18T08:33:13.402631",
     "status": "completed"
    },
    "tags": []
   },
   "outputs": [
    {
     "name": "stdout",
     "output_type": "stream",
     "text": [
      "              precision    recall  f1-score   support\n",
      "\n",
      "       Recon      0.639     0.867     0.736      7091\n",
      "    Spoofing      0.926     0.596     0.725      9732\n",
      "     pooled2      0.158     0.354     0.219       758\n",
      "\n",
      "    accuracy                          0.695     17581\n",
      "   macro avg      0.574     0.606     0.560     17581\n",
      "weighted avg      0.777     0.695     0.708     17581\n",
      "\n"
     ]
    },
    {
     "data": {
      "text/plain": [
       "<Figure size 1000x500 with 0 Axes>"
      ]
     },
     "metadata": {},
     "output_type": "display_data"
    },
    {
     "data": {
      "image/png": "[encoded data removed]",
      "text/plain": [
       "<Figure size 640x480 with 2 Axes>"
      ]
     },
     "metadata": {},
     "output_type": "display_data"
    }
   ],
   "source": [
    "pred = wrfc.predict(scaled_X_test)\n",
    "print(classification_report(y_test, pred, target_names = target_names, digits = 3))\n",
    "\n",
    "plt.figure(figsize = (4, 2), dpi=250)\n",
    "ConfusionMatrixDisplay(np.round(confusion_matrix(y_test, pred, normalize=\"true\"), 3), \n",
    "                       display_labels = target_names).plot()\n",
    "plt.xticks(rotation=90);"
   ]
  },
  {
   "cell_type": "code",
   "execution_count": 45,
   "id": "cd9449a9",
   "metadata": {
    "execution": {
     "iopub.execute_input": "2023-11-18T08:33:15.722809Z",
     "iopub.status.busy": "2023-11-18T08:33:15.721366Z",
     "iopub.status.idle": "2023-11-18T08:33:25.645063Z",
     "shell.execute_reply": "2023-11-18T08:33:25.643780Z"
    },
    "papermill": {
     "duration": 9.963738,
     "end_time": "2023-11-18T08:33:25.648290",
     "exception": false,
     "start_time": "2023-11-18T08:33:15.684552",
     "status": "completed"
    },
    "tags": []
   },
   "outputs": [
    {
     "name": "stderr",
     "output_type": "stream",
     "text": [
      "/opt/conda/lib/python3.10/site-packages/imblearn/ensemble/_forest.py:813: UserWarning: Some inputs do not have OOB scores. This probably means too few trees were used to compute any reliable OOB estimates.\n",
      "  warn(\n"
     ]
    },
    {
     "data": {
      "text/html": [
       "<style>#sk-container-id-12 {color: black;background-color: white;}#sk-container-id-12 pre{padding: 0;}#sk-container-id-12 div.sk-toggleable {background-color: white;}#sk-container-id-12 label.sk-toggleable__label {cursor: pointer;display: block;width: 100%;margin-bottom: 0;padding: 0.3em;box-sizing: border-box;text-align: center;}#sk-container-id-12 label.sk-toggleable__label-arrow:before {content: \"▸\";float: left;margin-right: 0.25em;color: #696969;}#sk-container-id-12 label.sk-toggleable__label-arrow:hover:before {color: black;}#sk-container-id-12 div.sk-estimator:hover label.sk-toggleable__label-arrow:before {color: black;}#sk-container-id-12 div.sk-toggleable__content {max-height: 0;max-width: 0;overflow: hidden;text-align: left;background-color: #f0f8ff;}#sk-container-id-12 div.sk-toggleable__content pre {margin: 0.2em;color: black;border-radius: 0.25em;background-color: #f0f8ff;}#sk-container-id-12 input.sk-toggleable__control:checked~div.sk-toggleable__content {max-height: 200px;max-width: 100%;overflow: auto;}#sk-container-id-12 input.sk-toggleable__control:checked~label.sk-toggleable__label-arrow:before {content: \"▾\";}#sk-container-id-12 div.sk-estimator input.sk-toggleable__control:checked~label.sk-toggleable__label {background-color: #d4ebff;}#sk-container-id-12 div.sk-label input.sk-toggleable__control:checked~label.sk-toggleable__label {background-color: #d4ebff;}#sk-container-id-12 input.sk-hidden--visually {border: 0;clip: rect(1px 1px 1px 1px);clip: rect(1px, 1px, 1px, 1px);height: 1px;margin: -1px;overflow: hidden;padding: 0;position: absolute;width: 1px;}#sk-container-id-12 div.sk-estimator {font-family: monospace;background-color: #f0f8ff;border: 1px dotted black;border-radius: 0.25em;box-sizing: border-box;margin-bottom: 0.5em;}#sk-container-id-12 div.sk-estimator:hover {background-color: #d4ebff;}#sk-container-id-12 div.sk-parallel-item::after {content: \"\";width: 100%;border-bottom: 1px solid gray;flex-grow: 1;}#sk-container-id-12 div.sk-label:hover label.sk-toggleable__label {background-color: #d4ebff;}#sk-container-id-12 div.sk-serial::before {content: \"\";position: absolute;border-left: 1px solid gray;box-sizing: border-box;top: 0;bottom: 0;left: 50%;z-index: 0;}#sk-container-id-12 div.sk-serial {display: flex;flex-direction: column;align-items: center;background-color: white;padding-right: 0.2em;padding-left: 0.2em;position: relative;}#sk-container-id-12 div.sk-item {position: relative;z-index: 1;}#sk-container-id-12 div.sk-parallel {display: flex;align-items: stretch;justify-content: center;background-color: white;position: relative;}#sk-container-id-12 div.sk-item::before, #sk-container-id-12 div.sk-parallel-item::before {content: \"\";position: absolute;border-left: 1px solid gray;box-sizing: border-box;top: 0;bottom: 0;left: 50%;z-index: -1;}#sk-container-id-12 div.sk-parallel-item {display: flex;flex-direction: column;z-index: 1;position: relative;background-color: white;}#sk-container-id-12 div.sk-parallel-item:first-child::after {align-self: flex-end;width: 50%;}#sk-container-id-12 div.sk-parallel-item:last-child::after {align-self: flex-start;width: 50%;}#sk-container-id-12 div.sk-parallel-item:only-child::after {width: 0;}#sk-container-id-12 div.sk-dashed-wrapped {border: 1px dashed gray;margin: 0 0.4em 0.5em 0.4em;box-sizing: border-box;padding-bottom: 0.4em;background-color: white;}#sk-container-id-12 div.sk-label label {font-family: monospace;font-weight: bold;display: inline-block;line-height: 1.2em;}#sk-container-id-12 div.sk-label-container {text-align: center;}#sk-container-id-12 div.sk-container {/* jupyter's `normalize.less` sets `[hidden] { display: none; }` but bootstrap.min.css set `[hidden] { display: none !important; }` so we also need the `!important` here to be able to override the default hidden behavior on the sphinx rendered scikit-learn.org. See: https://github.com/scikit-learn/scikit-learn/issues/21755 */display: inline-block !important;position: relative;}#sk-container-id-12 div.sk-text-repr-fallback {display: none;}</style><div id=\"sk-container-id-12\" class=\"sk-top-container\"><div class=\"sk-text-repr-fallback\"><pre>BalancedRandomForestClassifier(max_depth=13, max_samples=0.9, n_estimators=200,\n",
       "                               oob_score=True, random_state=42,\n",
       "                               replacement=True, sampling_strategy=&#x27;all&#x27;)</pre><b>In a Jupyter environment, please rerun this cell to show the HTML representation or trust the notebook. <br />On GitHub, the HTML representation is unable to render, please try loading this page with nbviewer.org.</b></div><div class=\"sk-container\" hidden><div class=\"sk-item\"><div class=\"sk-estimator sk-toggleable\"><input class=\"sk-toggleable__control sk-hidden--visually\" id=\"sk-estimator-id-12\" type=\"checkbox\" checked><label for=\"sk-estimator-id-12\" class=\"sk-toggleable__label sk-toggleable__label-arrow\">BalancedRandomForestClassifier</label><div class=\"sk-toggleable__content\"><pre>BalancedRandomForestClassifier(max_depth=13, max_samples=0.9, n_estimators=200,\n",
       "                               oob_score=True, random_state=42,\n",
       "                               replacement=True, sampling_strategy=&#x27;all&#x27;)</pre></div></div></div></div></div>"
      ],
      "text/plain": [
       "BalancedRandomForestClassifier(max_depth=13, max_samples=0.9, n_estimators=200,\n",
       "                               oob_score=True, random_state=42,\n",
       "                               replacement=True, sampling_strategy='all')"
      ]
     },
     "execution_count": 45,
     "metadata": {},
     "output_type": "execute_result"
    }
   ],
   "source": [
    "# balanced random forest classifier\n",
    "brfc = BalancedRandomForestClassifier(n_estimators = 200, bootstrap = True, oob_score = True, \n",
    "                                      max_features = \"sqrt\", sampling_strategy=\"all\", \n",
    "                                      max_depth = 13, max_samples = 0.9,\n",
    "                                      replacement=True, random_state = 42)\n",
    "brfc.fit(scaled_X_train, y_train)"
   ]
  },
  {
   "cell_type": "code",
   "execution_count": 46,
   "id": "ff59f0d8",
   "metadata": {
    "execution": {
     "iopub.execute_input": "2023-11-18T08:33:25.721331Z",
     "iopub.status.busy": "2023-11-18T08:33:25.720907Z",
     "iopub.status.idle": "2023-11-18T08:33:27.836285Z",
     "shell.execute_reply": "2023-11-18T08:33:27.835447Z"
    },
    "papermill": {
     "duration": 2.154805,
     "end_time": "2023-11-18T08:33:27.838688",
     "exception": false,
     "start_time": "2023-11-18T08:33:25.683883",
     "status": "completed"
    },
    "tags": []
   },
   "outputs": [
    {
     "name": "stdout",
     "output_type": "stream",
     "text": [
      "              precision    recall  f1-score   support\n",
      "\n",
      "       Recon      0.703     0.817     0.756      7091\n",
      "    Spoofing      0.941     0.654     0.772      9732\n",
      "     pooled2      0.132     0.447     0.204       758\n",
      "\n",
      "    accuracy                          0.711     17581\n",
      "   macro avg      0.592     0.640     0.577     17581\n",
      "weighted avg      0.810     0.711     0.741     17581\n",
      "\n"
     ]
    },
    {
     "data": {
      "text/plain": [
       "<Figure size 1000x500 with 0 Axes>"
      ]
     },
     "metadata": {},
     "output_type": "display_data"
    },
    {
     "data": {
      "image/png": "[encoded data removed]",
      "text/plain": [
       "<Figure size 640x480 with 2 Axes>"
      ]
     },
     "metadata": {},
     "output_type": "display_data"
    }
   ],
   "source": [
    "pred = brfc.predict(scaled_X_test)\n",
    "print(classification_report(y_test, pred, target_names = target_names, digits = 3))\n",
    "\n",
    "plt.figure(figsize = (4, 2), dpi=250)\n",
    "ConfusionMatrixDisplay(np.round(confusion_matrix(y_test, pred, normalize=\"true\"), 3), \n",
    "                       display_labels = target_names).plot();\n",
    "plt.xticks(rotation=90);"
   ]
  },
  {
   "cell_type": "markdown",
   "id": "fd751e29",
   "metadata": {
    "papermill": {
     "duration": 0.03581,
     "end_time": "2023-11-18T08:33:27.913883",
     "exception": false,
     "start_time": "2023-11-18T08:33:27.878073",
     "status": "completed"
    },
    "tags": []
   },
   "source": [
    "# Web vs BruteForce"
   ]
  },
  {
   "cell_type": "code",
   "execution_count": 47,
   "id": "a9feba48",
   "metadata": {
    "execution": {
     "iopub.execute_input": "2023-11-18T08:33:27.988121Z",
     "iopub.status.busy": "2023-11-18T08:33:27.987399Z",
     "iopub.status.idle": "2023-11-18T08:33:28.018660Z",
     "shell.execute_reply": "2023-11-18T08:33:28.017261Z"
    },
    "papermill": {
     "duration": 0.07175,
     "end_time": "2023-11-18T08:33:28.021782",
     "exception": false,
     "start_time": "2023-11-18T08:33:27.950032",
     "status": "completed"
    },
    "tags": []
   },
   "outputs": [
    {
     "data": {
      "text/html": [
       "<div>\n",
       "<style scoped>\n",
       "    .dataframe tbody tr th:only-of-type {\n",
       "        vertical-align: middle;\n",
       "    }\n",
       "\n",
       "    .dataframe tbody tr th {\n",
       "        vertical-align: top;\n",
       "    }\n",
       "\n",
       "    .dataframe thead th {\n",
       "        text-align: right;\n",
       "    }\n",
       "</style>\n",
       "<table border=\"1\" class=\"dataframe\">\n",
       "  <thead>\n",
       "    <tr style=\"text-align: right;\">\n",
       "      <th></th>\n",
       "      <th>duration</th>\n",
       "      <th>srate</th>\n",
       "      <th>drate</th>\n",
       "      <th>syn_flag_number</th>\n",
       "      <th>psh_flag_number</th>\n",
       "      <th>ack_flag_number</th>\n",
       "      <th>ack_count</th>\n",
       "      <th>syn_count</th>\n",
       "      <th>rst_count</th>\n",
       "      <th>header_length</th>\n",
       "      <th>...</th>\n",
       "      <th>flow_duration</th>\n",
       "      <th>avg</th>\n",
       "      <th>max</th>\n",
       "      <th>tot_sum</th>\n",
       "      <th>min</th>\n",
       "      <th>iat</th>\n",
       "      <th>magnitude</th>\n",
       "      <th>radius</th>\n",
       "      <th>variance</th>\n",
       "      <th>label</th>\n",
       "    </tr>\n",
       "  </thead>\n",
       "  <tbody>\n",
       "    <tr>\n",
       "      <th>2090</th>\n",
       "      <td>201.2</td>\n",
       "      <td>9</td>\n",
       "      <td>0.0</td>\n",
       "      <td>False</td>\n",
       "      <td>False</td>\n",
       "      <td>True</td>\n",
       "      <td>0.4</td>\n",
       "      <td>3.6</td>\n",
       "      <td>65</td>\n",
       "      <td>40801</td>\n",
       "      <td>...</td>\n",
       "      <td>18.170023</td>\n",
       "      <td>102.08329</td>\n",
       "      <td>306.6</td>\n",
       "      <td>648.2</td>\n",
       "      <td>54.0</td>\n",
       "      <td>1.410642e-02</td>\n",
       "      <td>13.976114</td>\n",
       "      <td>124.982990</td>\n",
       "      <td>0.6</td>\n",
       "      <td>BruteForce</td>\n",
       "    </tr>\n",
       "    <tr>\n",
       "      <th>4651</th>\n",
       "      <td>102.2</td>\n",
       "      <td>2</td>\n",
       "      <td>0.0</td>\n",
       "      <td>False</td>\n",
       "      <td>False</td>\n",
       "      <td>False</td>\n",
       "      <td>0.0</td>\n",
       "      <td>0.0</td>\n",
       "      <td>10</td>\n",
       "      <td>11273</td>\n",
       "      <td>...</td>\n",
       "      <td>75.592316</td>\n",
       "      <td>75.72852</td>\n",
       "      <td>208.6</td>\n",
       "      <td>1180.8</td>\n",
       "      <td>50.0</td>\n",
       "      <td>1.666014e+08</td>\n",
       "      <td>12.310367</td>\n",
       "      <td>61.137756</td>\n",
       "      <td>1.0</td>\n",
       "      <td>BruteForce</td>\n",
       "    </tr>\n",
       "    <tr>\n",
       "      <th>4996</th>\n",
       "      <td>57.6</td>\n",
       "      <td>422</td>\n",
       "      <td>0.0</td>\n",
       "      <td>False</td>\n",
       "      <td>False</td>\n",
       "      <td>True</td>\n",
       "      <td>0.0</td>\n",
       "      <td>1.2</td>\n",
       "      <td>1</td>\n",
       "      <td>185</td>\n",
       "      <td>...</td>\n",
       "      <td>0.007006</td>\n",
       "      <td>73.31754</td>\n",
       "      <td>82.4</td>\n",
       "      <td>404.0</td>\n",
       "      <td>65.2</td>\n",
       "      <td>2.261019e-03</td>\n",
       "      <td>12.108622</td>\n",
       "      <td>8.790977</td>\n",
       "      <td>0.8</td>\n",
       "      <td>BruteForce</td>\n",
       "    </tr>\n",
       "    <tr>\n",
       "      <th>5456</th>\n",
       "      <td>183.7</td>\n",
       "      <td>8</td>\n",
       "      <td>0.0</td>\n",
       "      <td>False</td>\n",
       "      <td>False</td>\n",
       "      <td>True</td>\n",
       "      <td>0.0</td>\n",
       "      <td>1.4</td>\n",
       "      <td>4</td>\n",
       "      <td>3338</td>\n",
       "      <td>...</td>\n",
       "      <td>6.665868</td>\n",
       "      <td>332.18076</td>\n",
       "      <td>1240.0</td>\n",
       "      <td>5532.2</td>\n",
       "      <td>46.0</td>\n",
       "      <td>1.676297e+08</td>\n",
       "      <td>25.019814</td>\n",
       "      <td>631.782400</td>\n",
       "      <td>1.0</td>\n",
       "      <td>Web</td>\n",
       "    </tr>\n",
       "    <tr>\n",
       "      <th>9576</th>\n",
       "      <td>64.0</td>\n",
       "      <td>180</td>\n",
       "      <td>0.0</td>\n",
       "      <td>False</td>\n",
       "      <td>False</td>\n",
       "      <td>True</td>\n",
       "      <td>0.0</td>\n",
       "      <td>2.0</td>\n",
       "      <td>173</td>\n",
       "      <td>175475</td>\n",
       "      <td>...</td>\n",
       "      <td>0.967932</td>\n",
       "      <td>78.00000</td>\n",
       "      <td>78.0</td>\n",
       "      <td>429.0</td>\n",
       "      <td>78.0</td>\n",
       "      <td>4.100800e-06</td>\n",
       "      <td>12.489996</td>\n",
       "      <td>0.000000</td>\n",
       "      <td>0.0</td>\n",
       "      <td>Web</td>\n",
       "    </tr>\n",
       "  </tbody>\n",
       "</table>\n",
       "<p>5 rows × 22 columns</p>\n",
       "</div>"
      ],
      "text/plain": [
       "      duration  srate  drate  syn_flag_number  psh_flag_number  \\\n",
       "2090     201.2      9    0.0            False            False   \n",
       "4651     102.2      2    0.0            False            False   \n",
       "4996      57.6    422    0.0            False            False   \n",
       "5456     183.7      8    0.0            False            False   \n",
       "9576      64.0    180    0.0            False            False   \n",
       "\n",
       "      ack_flag_number  ack_count  syn_count  rst_count  header_length  ...  \\\n",
       "2090             True        0.4        3.6         65          40801  ...   \n",
       "4651            False        0.0        0.0         10          11273  ...   \n",
       "4996             True        0.0        1.2          1            185  ...   \n",
       "5456             True        0.0        1.4          4           3338  ...   \n",
       "9576             True        0.0        2.0        173         175475  ...   \n",
       "\n",
       "      flow_duration        avg     max  tot_sum   min           iat  \\\n",
       "2090      18.170023  102.08329   306.6    648.2  54.0  1.410642e-02   \n",
       "4651      75.592316   75.72852   208.6   1180.8  50.0  1.666014e+08   \n",
       "4996       0.007006   73.31754    82.4    404.0  65.2  2.261019e-03   \n",
       "5456       6.665868  332.18076  1240.0   5532.2  46.0  1.676297e+08   \n",
       "9576       0.967932   78.00000    78.0    429.0  78.0  4.100800e-06   \n",
       "\n",
       "      magnitude      radius  variance       label  \n",
       "2090  13.976114  124.982990       0.6  BruteForce  \n",
       "4651  12.310367   61.137756       1.0  BruteForce  \n",
       "4996  12.108622    8.790977       0.8  BruteForce  \n",
       "5456  25.019814  631.782400       1.0         Web  \n",
       "9576  12.489996    0.000000       0.0         Web  \n",
       "\n",
       "[5 rows x 22 columns]"
      ]
     },
     "execution_count": 47,
     "metadata": {},
     "output_type": "execute_result"
    }
   ],
   "source": [
    "# dataset used is df_WeBr\n",
    "df_WeBr.head()"
   ]
  },
  {
   "cell_type": "code",
   "execution_count": 48,
   "id": "ee22b466",
   "metadata": {
    "execution": {
     "iopub.execute_input": "2023-11-18T08:33:28.098897Z",
     "iopub.status.busy": "2023-11-18T08:33:28.098104Z",
     "iopub.status.idle": "2023-11-18T08:33:28.108474Z",
     "shell.execute_reply": "2023-11-18T08:33:28.107152Z"
    },
    "papermill": {
     "duration": 0.052163,
     "end_time": "2023-11-18T08:33:28.110917",
     "exception": false,
     "start_time": "2023-11-18T08:33:28.058754",
     "status": "completed"
    },
    "tags": []
   },
   "outputs": [
    {
     "data": {
      "text/plain": [
       "label\n",
       "Web           2487\n",
       "BruteForce    1303\n",
       "Name: count, dtype: int64"
      ]
     },
     "execution_count": 48,
     "metadata": {},
     "output_type": "execute_result"
    }
   ],
   "source": [
    "df_WeBr[\"label\"].value_counts()"
   ]
  },
  {
   "cell_type": "code",
   "execution_count": 49,
   "id": "3e859f3d",
   "metadata": {
    "execution": {
     "iopub.execute_input": "2023-11-18T08:33:28.187928Z",
     "iopub.status.busy": "2023-11-18T08:33:28.187477Z",
     "iopub.status.idle": "2023-11-18T08:33:28.221631Z",
     "shell.execute_reply": "2023-11-18T08:33:28.220600Z"
    },
    "papermill": {
     "duration": 0.075675,
     "end_time": "2023-11-18T08:33:28.224390",
     "exception": false,
     "start_time": "2023-11-18T08:33:28.148715",
     "status": "completed"
    },
    "tags": []
   },
   "outputs": [],
   "source": [
    "# Preprocessing\n",
    "X = df_WeBr.drop(\"label\", axis=1)\n",
    "y = df_WeBr[\"label\"]\n",
    "\n",
    "# splitting out dataset to train and test\n",
    "X_train, X_test, y_train, y_test = train_test_split(X, y, test_size=0.2, stratify=y)\n",
    "\n",
    "# scaling features\n",
    "scaler = StandardScaler()\n",
    "scaled_X_train = scaler.fit_transform(X_train)\n",
    "scaled_X_test = scaler.fit_transform(X_test)\n",
    "\n",
    "# hot code \"label\" since xgboost only accepts number types\n",
    "label = LabelEncoder()\n",
    "encoded_y_train = label.fit_transform(y_train)\n",
    "encoded_y_test = label.fit_transform(y_test)"
   ]
  },
  {
   "cell_type": "code",
   "execution_count": 50,
   "id": "e45b42e3",
   "metadata": {
    "execution": {
     "iopub.execute_input": "2023-11-18T08:33:28.301375Z",
     "iopub.status.busy": "2023-11-18T08:33:28.300507Z",
     "iopub.status.idle": "2023-11-18T08:33:28.305642Z",
     "shell.execute_reply": "2023-11-18T08:33:28.304571Z"
    },
    "papermill": {
     "duration": 0.046372,
     "end_time": "2023-11-18T08:33:28.308078",
     "exception": false,
     "start_time": "2023-11-18T08:33:28.261706",
     "status": "completed"
    },
    "tags": []
   },
   "outputs": [],
   "source": [
    "target_names = [\"Web\", \"BruteForce\"]"
   ]
  },
  {
   "cell_type": "code",
   "execution_count": 51,
   "id": "46b0634f",
   "metadata": {
    "execution": {
     "iopub.execute_input": "2023-11-18T08:33:28.385609Z",
     "iopub.status.busy": "2023-11-18T08:33:28.384896Z",
     "iopub.status.idle": "2023-11-18T08:33:28.764167Z",
     "shell.execute_reply": "2023-11-18T08:33:28.763124Z"
    },
    "papermill": {
     "duration": 0.421292,
     "end_time": "2023-11-18T08:33:28.767008",
     "exception": false,
     "start_time": "2023-11-18T08:33:28.345716",
     "status": "completed"
    },
    "tags": []
   },
   "outputs": [
    {
     "name": "stderr",
     "output_type": "stream",
     "text": [
      "/opt/conda/lib/python3.10/site-packages/xgboost/core.py:160: UserWarning: [08:33:28] WARNING: /workspace/src/learner.cc:742: \n",
      "Parameters: { \"max_samples\" } are not used.\n",
      "\n",
      "  warnings.warn(smsg, UserWarning)\n"
     ]
    },
    {
     "data": {
      "text/html": [
       "<style>#sk-container-id-13 {color: black;background-color: white;}#sk-container-id-13 pre{padding: 0;}#sk-container-id-13 div.sk-toggleable {background-color: white;}#sk-container-id-13 label.sk-toggleable__label {cursor: pointer;display: block;width: 100%;margin-bottom: 0;padding: 0.3em;box-sizing: border-box;text-align: center;}#sk-container-id-13 label.sk-toggleable__label-arrow:before {content: \"▸\";float: left;margin-right: 0.25em;color: #696969;}#sk-container-id-13 label.sk-toggleable__label-arrow:hover:before {color: black;}#sk-container-id-13 div.sk-estimator:hover label.sk-toggleable__label-arrow:before {color: black;}#sk-container-id-13 div.sk-toggleable__content {max-height: 0;max-width: 0;overflow: hidden;text-align: left;background-color: #f0f8ff;}#sk-container-id-13 div.sk-toggleable__content pre {margin: 0.2em;color: black;border-radius: 0.25em;background-color: #f0f8ff;}#sk-container-id-13 input.sk-toggleable__control:checked~div.sk-toggleable__content {max-height: 200px;max-width: 100%;overflow: auto;}#sk-container-id-13 input.sk-toggleable__control:checked~label.sk-toggleable__label-arrow:before {content: \"▾\";}#sk-container-id-13 div.sk-estimator input.sk-toggleable__control:checked~label.sk-toggleable__label {background-color: #d4ebff;}#sk-container-id-13 div.sk-label input.sk-toggleable__control:checked~label.sk-toggleable__label {background-color: #d4ebff;}#sk-container-id-13 input.sk-hidden--visually {border: 0;clip: rect(1px 1px 1px 1px);clip: rect(1px, 1px, 1px, 1px);height: 1px;margin: -1px;overflow: hidden;padding: 0;position: absolute;width: 1px;}#sk-container-id-13 div.sk-estimator {font-family: monospace;background-color: #f0f8ff;border: 1px dotted black;border-radius: 0.25em;box-sizing: border-box;margin-bottom: 0.5em;}#sk-container-id-13 div.sk-estimator:hover {background-color: #d4ebff;}#sk-container-id-13 div.sk-parallel-item::after {content: \"\";width: 100%;border-bottom: 1px solid gray;flex-grow: 1;}#sk-container-id-13 div.sk-label:hover label.sk-toggleable__label {background-color: #d4ebff;}#sk-container-id-13 div.sk-serial::before {content: \"\";position: absolute;border-left: 1px solid gray;box-sizing: border-box;top: 0;bottom: 0;left: 50%;z-index: 0;}#sk-container-id-13 div.sk-serial {display: flex;flex-direction: column;align-items: center;background-color: white;padding-right: 0.2em;padding-left: 0.2em;position: relative;}#sk-container-id-13 div.sk-item {position: relative;z-index: 1;}#sk-container-id-13 div.sk-parallel {display: flex;align-items: stretch;justify-content: center;background-color: white;position: relative;}#sk-container-id-13 div.sk-item::before, #sk-container-id-13 div.sk-parallel-item::before {content: \"\";position: absolute;border-left: 1px solid gray;box-sizing: border-box;top: 0;bottom: 0;left: 50%;z-index: -1;}#sk-container-id-13 div.sk-parallel-item {display: flex;flex-direction: column;z-index: 1;position: relative;background-color: white;}#sk-container-id-13 div.sk-parallel-item:first-child::after {align-self: flex-end;width: 50%;}#sk-container-id-13 div.sk-parallel-item:last-child::after {align-self: flex-start;width: 50%;}#sk-container-id-13 div.sk-parallel-item:only-child::after {width: 0;}#sk-container-id-13 div.sk-dashed-wrapped {border: 1px dashed gray;margin: 0 0.4em 0.5em 0.4em;box-sizing: border-box;padding-bottom: 0.4em;background-color: white;}#sk-container-id-13 div.sk-label label {font-family: monospace;font-weight: bold;display: inline-block;line-height: 1.2em;}#sk-container-id-13 div.sk-label-container {text-align: center;}#sk-container-id-13 div.sk-container {/* jupyter's `normalize.less` sets `[hidden] { display: none; }` but bootstrap.min.css set `[hidden] { display: none !important; }` so we also need the `!important` here to be able to override the default hidden behavior on the sphinx rendered scikit-learn.org. See: https://github.com/scikit-learn/scikit-learn/issues/21755 */display: inline-block !important;position: relative;}#sk-container-id-13 div.sk-text-repr-fallback {display: none;}</style><div id=\"sk-container-id-13\" class=\"sk-top-container\"><div class=\"sk-text-repr-fallback\"><pre>XGBClassifier(base_score=None, booster=&#x27;gbtree&#x27;, callbacks=None,\n",
       "              colsample_bylevel=None, colsample_bynode=None,\n",
       "              colsample_bytree=None, device=None, early_stopping_rounds=None,\n",
       "              enable_categorical=False, eval_metric=None, feature_types=None,\n",
       "              gamma=None, grow_policy=None, importance_type=None,\n",
       "              interaction_constraints=None, learning_rate=None, max_bin=None,\n",
       "              max_cat_threshold=None, max_cat_to_onehot=None,\n",
       "              max_delta_step=None, max_depth=13, max_leaves=None,\n",
       "              max_samples=0.9, min_child_weight=None, missing=nan,\n",
       "              monotone_constraints=None, multi_strategy=None, n_estimators=200,\n",
       "              n_jobs=None, num_parallel_tree=None, ...)</pre><b>In a Jupyter environment, please rerun this cell to show the HTML representation or trust the notebook. <br />On GitHub, the HTML representation is unable to render, please try loading this page with nbviewer.org.</b></div><div class=\"sk-container\" hidden><div class=\"sk-item\"><div class=\"sk-estimator sk-toggleable\"><input class=\"sk-toggleable__control sk-hidden--visually\" id=\"sk-estimator-id-13\" type=\"checkbox\" checked><label for=\"sk-estimator-id-13\" class=\"sk-toggleable__label sk-toggleable__label-arrow\">XGBClassifier</label><div class=\"sk-toggleable__content\"><pre>XGBClassifier(base_score=None, booster=&#x27;gbtree&#x27;, callbacks=None,\n",
       "              colsample_bylevel=None, colsample_bynode=None,\n",
       "              colsample_bytree=None, device=None, early_stopping_rounds=None,\n",
       "              enable_categorical=False, eval_metric=None, feature_types=None,\n",
       "              gamma=None, grow_policy=None, importance_type=None,\n",
       "              interaction_constraints=None, learning_rate=None, max_bin=None,\n",
       "              max_cat_threshold=None, max_cat_to_onehot=None,\n",
       "              max_delta_step=None, max_depth=13, max_leaves=None,\n",
       "              max_samples=0.9, min_child_weight=None, missing=nan,\n",
       "              monotone_constraints=None, multi_strategy=None, n_estimators=200,\n",
       "              n_jobs=None, num_parallel_tree=None, ...)</pre></div></div></div></div></div>"
      ],
      "text/plain": [
       "XGBClassifier(base_score=None, booster='gbtree', callbacks=None,\n",
       "              colsample_bylevel=None, colsample_bynode=None,\n",
       "              colsample_bytree=None, device=None, early_stopping_rounds=None,\n",
       "              enable_categorical=False, eval_metric=None, feature_types=None,\n",
       "              gamma=None, grow_policy=None, importance_type=None,\n",
       "              interaction_constraints=None, learning_rate=None, max_bin=None,\n",
       "              max_cat_threshold=None, max_cat_to_onehot=None,\n",
       "              max_delta_step=None, max_depth=13, max_leaves=None,\n",
       "              max_samples=0.9, min_child_weight=None, missing=nan,\n",
       "              monotone_constraints=None, multi_strategy=None, n_estimators=200,\n",
       "              n_jobs=None, num_parallel_tree=None, ...)"
      ]
     },
     "execution_count": 51,
     "metadata": {},
     "output_type": "execute_result"
    }
   ],
   "source": [
    "# xgboost classifier\n",
    "xgc = xgb.XGBClassifier(n_estimators = 200, booster = \"gbtree\", random_state = 42,\n",
    "                       max_depth = 13, max_samples = 0.9)\n",
    "xgc.fit(scaled_X_train, encoded_y_train)"
   ]
  },
  {
   "cell_type": "code",
   "execution_count": 52,
   "id": "590d6ff7",
   "metadata": {
    "execution": {
     "iopub.execute_input": "2023-11-18T08:33:28.847408Z",
     "iopub.status.busy": "2023-11-18T08:33:28.846229Z",
     "iopub.status.idle": "2023-11-18T08:33:29.133364Z",
     "shell.execute_reply": "2023-11-18T08:33:29.132112Z"
    },
    "papermill": {
     "duration": 0.329266,
     "end_time": "2023-11-18T08:33:29.135761",
     "exception": false,
     "start_time": "2023-11-18T08:33:28.806495",
     "status": "completed"
    },
    "tags": []
   },
   "outputs": [
    {
     "name": "stdout",
     "output_type": "stream",
     "text": [
      "              precision    recall  f1-score   support\n",
      "\n",
      "         Web      0.857     0.092     0.166       261\n",
      "  BruteForce      0.675     0.992     0.804       497\n",
      "\n",
      "    accuracy                          0.682       758\n",
      "   macro avg      0.766     0.542     0.485       758\n",
      "weighted avg      0.738     0.682     0.584       758\n",
      "\n"
     ]
    },
    {
     "data": {
      "text/plain": [
       "<Figure size 1000x500 with 0 Axes>"
      ]
     },
     "metadata": {},
     "output_type": "display_data"
    },
    {
     "data": {
      "image/png": "[encoded data removed]",
      "text/plain": [
       "<Figure size 640x480 with 2 Axes>"
      ]
     },
     "metadata": {},
     "output_type": "display_data"
    }
   ],
   "source": [
    "pred = xgc.predict(scaled_X_test)\n",
    "print(classification_report(encoded_y_test, pred, target_names = target_names, digits = 3))\n",
    "\n",
    "plt.figure(figsize = (4, 2), dpi=250)\n",
    "ConfusionMatrixDisplay(np.round(confusion_matrix(encoded_y_test, pred, normalize=\"true\"), 3), \n",
    "                       display_labels = target_names).plot()\n",
    "plt.xticks(rotation=90);"
   ]
  },
  {
   "cell_type": "code",
   "execution_count": 53,
   "id": "ac757959",
   "metadata": {
    "execution": {
     "iopub.execute_input": "2023-11-18T08:33:29.214655Z",
     "iopub.status.busy": "2023-11-18T08:33:29.214251Z",
     "iopub.status.idle": "2023-11-18T08:33:30.787034Z",
     "shell.execute_reply": "2023-11-18T08:33:30.786177Z"
    },
    "papermill": {
     "duration": 1.614732,
     "end_time": "2023-11-18T08:33:30.789356",
     "exception": false,
     "start_time": "2023-11-18T08:33:29.174624",
     "status": "completed"
    },
    "tags": []
   },
   "outputs": [
    {
     "data": {
      "text/html": [
       "<style>#sk-container-id-14 {color: black;background-color: white;}#sk-container-id-14 pre{padding: 0;}#sk-container-id-14 div.sk-toggleable {background-color: white;}#sk-container-id-14 label.sk-toggleable__label {cursor: pointer;display: block;width: 100%;margin-bottom: 0;padding: 0.3em;box-sizing: border-box;text-align: center;}#sk-container-id-14 label.sk-toggleable__label-arrow:before {content: \"▸\";float: left;margin-right: 0.25em;color: #696969;}#sk-container-id-14 label.sk-toggleable__label-arrow:hover:before {color: black;}#sk-container-id-14 div.sk-estimator:hover label.sk-toggleable__label-arrow:before {color: black;}#sk-container-id-14 div.sk-toggleable__content {max-height: 0;max-width: 0;overflow: hidden;text-align: left;background-color: #f0f8ff;}#sk-container-id-14 div.sk-toggleable__content pre {margin: 0.2em;color: black;border-radius: 0.25em;background-color: #f0f8ff;}#sk-container-id-14 input.sk-toggleable__control:checked~div.sk-toggleable__content {max-height: 200px;max-width: 100%;overflow: auto;}#sk-container-id-14 input.sk-toggleable__control:checked~label.sk-toggleable__label-arrow:before {content: \"▾\";}#sk-container-id-14 div.sk-estimator input.sk-toggleable__control:checked~label.sk-toggleable__label {background-color: #d4ebff;}#sk-container-id-14 div.sk-label input.sk-toggleable__control:checked~label.sk-toggleable__label {background-color: #d4ebff;}#sk-container-id-14 input.sk-hidden--visually {border: 0;clip: rect(1px 1px 1px 1px);clip: rect(1px, 1px, 1px, 1px);height: 1px;margin: -1px;overflow: hidden;padding: 0;position: absolute;width: 1px;}#sk-container-id-14 div.sk-estimator {font-family: monospace;background-color: #f0f8ff;border: 1px dotted black;border-radius: 0.25em;box-sizing: border-box;margin-bottom: 0.5em;}#sk-container-id-14 div.sk-estimator:hover {background-color: #d4ebff;}#sk-container-id-14 div.sk-parallel-item::after {content: \"\";width: 100%;border-bottom: 1px solid gray;flex-grow: 1;}#sk-container-id-14 div.sk-label:hover label.sk-toggleable__label {background-color: #d4ebff;}#sk-container-id-14 div.sk-serial::before {content: \"\";position: absolute;border-left: 1px solid gray;box-sizing: border-box;top: 0;bottom: 0;left: 50%;z-index: 0;}#sk-container-id-14 div.sk-serial {display: flex;flex-direction: column;align-items: center;background-color: white;padding-right: 0.2em;padding-left: 0.2em;position: relative;}#sk-container-id-14 div.sk-item {position: relative;z-index: 1;}#sk-container-id-14 div.sk-parallel {display: flex;align-items: stretch;justify-content: center;background-color: white;position: relative;}#sk-container-id-14 div.sk-item::before, #sk-container-id-14 div.sk-parallel-item::before {content: \"\";position: absolute;border-left: 1px solid gray;box-sizing: border-box;top: 0;bottom: 0;left: 50%;z-index: -1;}#sk-container-id-14 div.sk-parallel-item {display: flex;flex-direction: column;z-index: 1;position: relative;background-color: white;}#sk-container-id-14 div.sk-parallel-item:first-child::after {align-self: flex-end;width: 50%;}#sk-container-id-14 div.sk-parallel-item:last-child::after {align-self: flex-start;width: 50%;}#sk-container-id-14 div.sk-parallel-item:only-child::after {width: 0;}#sk-container-id-14 div.sk-dashed-wrapped {border: 1px dashed gray;margin: 0 0.4em 0.5em 0.4em;box-sizing: border-box;padding-bottom: 0.4em;background-color: white;}#sk-container-id-14 div.sk-label label {font-family: monospace;font-weight: bold;display: inline-block;line-height: 1.2em;}#sk-container-id-14 div.sk-label-container {text-align: center;}#sk-container-id-14 div.sk-container {/* jupyter's `normalize.less` sets `[hidden] { display: none; }` but bootstrap.min.css set `[hidden] { display: none !important; }` so we also need the `!important` here to be able to override the default hidden behavior on the sphinx rendered scikit-learn.org. See: https://github.com/scikit-learn/scikit-learn/issues/21755 */display: inline-block !important;position: relative;}#sk-container-id-14 div.sk-text-repr-fallback {display: none;}</style><div id=\"sk-container-id-14\" class=\"sk-top-container\"><div class=\"sk-text-repr-fallback\"><pre>RandomForestClassifier(class_weight=&#x27;balanced&#x27;, max_depth=13, max_samples=0.9,\n",
       "                       n_estimators=200, oob_score=True, random_state=42)</pre><b>In a Jupyter environment, please rerun this cell to show the HTML representation or trust the notebook. <br />On GitHub, the HTML representation is unable to render, please try loading this page with nbviewer.org.</b></div><div class=\"sk-container\" hidden><div class=\"sk-item\"><div class=\"sk-estimator sk-toggleable\"><input class=\"sk-toggleable__control sk-hidden--visually\" id=\"sk-estimator-id-14\" type=\"checkbox\" checked><label for=\"sk-estimator-id-14\" class=\"sk-toggleable__label sk-toggleable__label-arrow\">RandomForestClassifier</label><div class=\"sk-toggleable__content\"><pre>RandomForestClassifier(class_weight=&#x27;balanced&#x27;, max_depth=13, max_samples=0.9,\n",
       "                       n_estimators=200, oob_score=True, random_state=42)</pre></div></div></div></div></div>"
      ],
      "text/plain": [
       "RandomForestClassifier(class_weight='balanced', max_depth=13, max_samples=0.9,\n",
       "                       n_estimators=200, oob_score=True, random_state=42)"
      ]
     },
     "execution_count": 53,
     "metadata": {},
     "output_type": "execute_result"
    }
   ],
   "source": [
    "# traditional balanced random forest classifier\n",
    "tbrfc = RandomForestClassifier(n_estimators = 200, bootstrap = True, oob_score = True, \n",
    "                               max_features = \"sqrt\", class_weight = \"balanced\",\n",
    "                               max_depth = 13, max_samples = 0.9,\n",
    "                               random_state = 42)\n",
    "tbrfc.fit(scaled_X_train, y_train)"
   ]
  },
  {
   "cell_type": "code",
   "execution_count": 54,
   "id": "5f00c95c",
   "metadata": {
    "execution": {
     "iopub.execute_input": "2023-11-18T08:33:30.870134Z",
     "iopub.status.busy": "2023-11-18T08:33:30.869370Z",
     "iopub.status.idle": "2023-11-18T08:33:31.305796Z",
     "shell.execute_reply": "2023-11-18T08:33:31.304952Z"
    },
    "papermill": {
     "duration": 0.478153,
     "end_time": "2023-11-18T08:33:31.307828",
     "exception": false,
     "start_time": "2023-11-18T08:33:30.829675",
     "status": "completed"
    },
    "tags": []
   },
   "outputs": [
    {
     "name": "stdout",
     "output_type": "stream",
     "text": [
      "              precision    recall  f1-score   support\n",
      "\n",
      "         Web      1.000     0.199     0.332       261\n",
      "  BruteForce      0.704     1.000     0.826       497\n",
      "\n",
      "    accuracy                          0.724       758\n",
      "   macro avg      0.852     0.600     0.579       758\n",
      "weighted avg      0.806     0.724     0.656       758\n",
      "\n"
     ]
    },
    {
     "data": {
      "text/plain": [
       "<Figure size 1000x500 with 0 Axes>"
      ]
     },
     "metadata": {},
     "output_type": "display_data"
    },
    {
     "data": {
      "image/png": "[encoded data removed]",
      "text/plain": [
       "<Figure size 640x480 with 2 Axes>"
      ]
     },
     "metadata": {},
     "output_type": "display_data"
    }
   ],
   "source": [
    "pred = tbrfc.predict(scaled_X_test)\n",
    "print(classification_report(y_test, pred, target_names = target_names, digits = 3))\n",
    "\n",
    "plt.figure(figsize = (4, 2), dpi=250)\n",
    "ConfusionMatrixDisplay(np.round(confusion_matrix(y_test, pred, normalize=\"true\"), 3), \n",
    "                       display_labels = target_names).plot()\n",
    "plt.xticks(rotation=90);"
   ]
  },
  {
   "cell_type": "code",
   "execution_count": 55,
   "id": "ddd75630",
   "metadata": {
    "execution": {
     "iopub.execute_input": "2023-11-18T08:33:31.388538Z",
     "iopub.status.busy": "2023-11-18T08:33:31.388072Z",
     "iopub.status.idle": "2023-11-18T08:33:31.399096Z",
     "shell.execute_reply": "2023-11-18T08:33:31.398048Z"
    },
    "papermill": {
     "duration": 0.053966,
     "end_time": "2023-11-18T08:33:31.401338",
     "exception": false,
     "start_time": "2023-11-18T08:33:31.347372",
     "status": "completed"
    },
    "tags": []
   },
   "outputs": [
    {
     "data": {
      "text/plain": [
       "{'Web': 1.0, 'BruteForce': 1.9097888675623798}"
      ]
     },
     "execution_count": 55,
     "metadata": {},
     "output_type": "execute_result"
    }
   ],
   "source": [
    "# inspired from Zach\n",
    "# Have to play around with\n",
    "import math\n",
    "\n",
    "# Get counts in log10\n",
    "y_train_count = y_train.value_counts()\n",
    "y_log = y_train_count.apply(lambda x: math.log10(x))\n",
    "\n",
    "# Find the factor needed to bring minority classes to majority\n",
    "y_log_max = y_log.max()\n",
    "y_log = y_log.apply(lambda x: math.pow(10,y_log_max - x))\n",
    "\n",
    "weight_dict = y_log.to_dict()\n",
    "weight_dict"
   ]
  },
  {
   "cell_type": "code",
   "execution_count": 56,
   "id": "f3bf1473",
   "metadata": {
    "execution": {
     "iopub.execute_input": "2023-11-18T08:33:31.480002Z",
     "iopub.status.busy": "2023-11-18T08:33:31.479555Z",
     "iopub.status.idle": "2023-11-18T08:33:33.034103Z",
     "shell.execute_reply": "2023-11-18T08:33:33.032973Z"
    },
    "papermill": {
     "duration": 1.596682,
     "end_time": "2023-11-18T08:33:33.036558",
     "exception": false,
     "start_time": "2023-11-18T08:33:31.439876",
     "status": "completed"
    },
    "tags": []
   },
   "outputs": [
    {
     "data": {
      "text/html": [
       "<style>#sk-container-id-15 {color: black;background-color: white;}#sk-container-id-15 pre{padding: 0;}#sk-container-id-15 div.sk-toggleable {background-color: white;}#sk-container-id-15 label.sk-toggleable__label {cursor: pointer;display: block;width: 100%;margin-bottom: 0;padding: 0.3em;box-sizing: border-box;text-align: center;}#sk-container-id-15 label.sk-toggleable__label-arrow:before {content: \"▸\";float: left;margin-right: 0.25em;color: #696969;}#sk-container-id-15 label.sk-toggleable__label-arrow:hover:before {color: black;}#sk-container-id-15 div.sk-estimator:hover label.sk-toggleable__label-arrow:before {color: black;}#sk-container-id-15 div.sk-toggleable__content {max-height: 0;max-width: 0;overflow: hidden;text-align: left;background-color: #f0f8ff;}#sk-container-id-15 div.sk-toggleable__content pre {margin: 0.2em;color: black;border-radius: 0.25em;background-color: #f0f8ff;}#sk-container-id-15 input.sk-toggleable__control:checked~div.sk-toggleable__content {max-height: 200px;max-width: 100%;overflow: auto;}#sk-container-id-15 input.sk-toggleable__control:checked~label.sk-toggleable__label-arrow:before {content: \"▾\";}#sk-container-id-15 div.sk-estimator input.sk-toggleable__control:checked~label.sk-toggleable__label {background-color: #d4ebff;}#sk-container-id-15 div.sk-label input.sk-toggleable__control:checked~label.sk-toggleable__label {background-color: #d4ebff;}#sk-container-id-15 input.sk-hidden--visually {border: 0;clip: rect(1px 1px 1px 1px);clip: rect(1px, 1px, 1px, 1px);height: 1px;margin: -1px;overflow: hidden;padding: 0;position: absolute;width: 1px;}#sk-container-id-15 div.sk-estimator {font-family: monospace;background-color: #f0f8ff;border: 1px dotted black;border-radius: 0.25em;box-sizing: border-box;margin-bottom: 0.5em;}#sk-container-id-15 div.sk-estimator:hover {background-color: #d4ebff;}#sk-container-id-15 div.sk-parallel-item::after {content: \"\";width: 100%;border-bottom: 1px solid gray;flex-grow: 1;}#sk-container-id-15 div.sk-label:hover label.sk-toggleable__label {background-color: #d4ebff;}#sk-container-id-15 div.sk-serial::before {content: \"\";position: absolute;border-left: 1px solid gray;box-sizing: border-box;top: 0;bottom: 0;left: 50%;z-index: 0;}#sk-container-id-15 div.sk-serial {display: flex;flex-direction: column;align-items: center;background-color: white;padding-right: 0.2em;padding-left: 0.2em;position: relative;}#sk-container-id-15 div.sk-item {position: relative;z-index: 1;}#sk-container-id-15 div.sk-parallel {display: flex;align-items: stretch;justify-content: center;background-color: white;position: relative;}#sk-container-id-15 div.sk-item::before, #sk-container-id-15 div.sk-parallel-item::before {content: \"\";position: absolute;border-left: 1px solid gray;box-sizing: border-box;top: 0;bottom: 0;left: 50%;z-index: -1;}#sk-container-id-15 div.sk-parallel-item {display: flex;flex-direction: column;z-index: 1;position: relative;background-color: white;}#sk-container-id-15 div.sk-parallel-item:first-child::after {align-self: flex-end;width: 50%;}#sk-container-id-15 div.sk-parallel-item:last-child::after {align-self: flex-start;width: 50%;}#sk-container-id-15 div.sk-parallel-item:only-child::after {width: 0;}#sk-container-id-15 div.sk-dashed-wrapped {border: 1px dashed gray;margin: 0 0.4em 0.5em 0.4em;box-sizing: border-box;padding-bottom: 0.4em;background-color: white;}#sk-container-id-15 div.sk-label label {font-family: monospace;font-weight: bold;display: inline-block;line-height: 1.2em;}#sk-container-id-15 div.sk-label-container {text-align: center;}#sk-container-id-15 div.sk-container {/* jupyter's `normalize.less` sets `[hidden] { display: none; }` but bootstrap.min.css set `[hidden] { display: none !important; }` so we also need the `!important` here to be able to override the default hidden behavior on the sphinx rendered scikit-learn.org. See: https://github.com/scikit-learn/scikit-learn/issues/21755 */display: inline-block !important;position: relative;}#sk-container-id-15 div.sk-text-repr-fallback {display: none;}</style><div id=\"sk-container-id-15\" class=\"sk-top-container\"><div class=\"sk-text-repr-fallback\"><pre>RandomForestClassifier(class_weight={&#x27;BruteForce&#x27;: 1.9097888675623798,\n",
       "                                     &#x27;Web&#x27;: 1.0},\n",
       "                       max_depth=13, max_samples=0.9, n_estimators=200,\n",
       "                       oob_score=True, random_state=42)</pre><b>In a Jupyter environment, please rerun this cell to show the HTML representation or trust the notebook. <br />On GitHub, the HTML representation is unable to render, please try loading this page with nbviewer.org.</b></div><div class=\"sk-container\" hidden><div class=\"sk-item\"><div class=\"sk-estimator sk-toggleable\"><input class=\"sk-toggleable__control sk-hidden--visually\" id=\"sk-estimator-id-15\" type=\"checkbox\" checked><label for=\"sk-estimator-id-15\" class=\"sk-toggleable__label sk-toggleable__label-arrow\">RandomForestClassifier</label><div class=\"sk-toggleable__content\"><pre>RandomForestClassifier(class_weight={&#x27;BruteForce&#x27;: 1.9097888675623798,\n",
       "                                     &#x27;Web&#x27;: 1.0},\n",
       "                       max_depth=13, max_samples=0.9, n_estimators=200,\n",
       "                       oob_score=True, random_state=42)</pre></div></div></div></div></div>"
      ],
      "text/plain": [
       "RandomForestClassifier(class_weight={'BruteForce': 1.9097888675623798,\n",
       "                                     'Web': 1.0},\n",
       "                       max_depth=13, max_samples=0.9, n_estimators=200,\n",
       "                       oob_score=True, random_state=42)"
      ]
     },
     "execution_count": 56,
     "metadata": {},
     "output_type": "execute_result"
    }
   ],
   "source": [
    "# weighted random forest classifier\n",
    "wrfc = RandomForestClassifier(n_estimators = 200, bootstrap = True, oob_score = True, \n",
    "                              max_features = \"sqrt\", class_weight = weight_dict, \n",
    "                              max_depth = 13, max_samples = 0.9, \n",
    "                              random_state = 42)\n",
    "wrfc.fit(scaled_X_train, y_train)"
   ]
  },
  {
   "cell_type": "code",
   "execution_count": 57,
   "id": "ea3cbada",
   "metadata": {
    "execution": {
     "iopub.execute_input": "2023-11-18T08:33:33.121200Z",
     "iopub.status.busy": "2023-11-18T08:33:33.120816Z",
     "iopub.status.idle": "2023-11-18T08:33:33.544405Z",
     "shell.execute_reply": "2023-11-18T08:33:33.543282Z"
    },
    "papermill": {
     "duration": 0.470135,
     "end_time": "2023-11-18T08:33:33.547322",
     "exception": false,
     "start_time": "2023-11-18T08:33:33.077187",
     "status": "completed"
    },
    "tags": []
   },
   "outputs": [
    {
     "name": "stdout",
     "output_type": "stream",
     "text": [
      "              precision    recall  f1-score   support\n",
      "\n",
      "         Web      1.000     0.188     0.316       261\n",
      "  BruteForce      0.701     1.000     0.824       497\n",
      "\n",
      "    accuracy                          0.720       758\n",
      "   macro avg      0.850     0.594     0.570       758\n",
      "weighted avg      0.804     0.720     0.649       758\n",
      "\n"
     ]
    },
    {
     "data": {
      "text/plain": [
       "<Figure size 1000x500 with 0 Axes>"
      ]
     },
     "metadata": {},
     "output_type": "display_data"
    },
    {
     "data": {
      "image/png": "[encoded data removed]",
      "text/plain": [
       "<Figure size 640x480 with 2 Axes>"
      ]
     },
     "metadata": {},
     "output_type": "display_data"
    }
   ],
   "source": [
    "pred = wrfc.predict(scaled_X_test)\n",
    "print(classification_report(y_test, pred, target_names = target_names, digits = 3))\n",
    "\n",
    "plt.figure(figsize = (4, 2), dpi=250)\n",
    "ConfusionMatrixDisplay(np.round(confusion_matrix(y_test, pred, normalize=\"true\"), 3), \n",
    "                       display_labels = target_names).plot()\n",
    "plt.xticks(rotation=90);"
   ]
  },
  {
   "cell_type": "code",
   "execution_count": 58,
   "id": "9e9e5a03",
   "metadata": {
    "execution": {
     "iopub.execute_input": "2023-11-18T08:33:33.632789Z",
     "iopub.status.busy": "2023-11-18T08:33:33.632349Z",
     "iopub.status.idle": "2023-11-18T08:33:35.422198Z",
     "shell.execute_reply": "2023-11-18T08:33:35.421056Z"
    },
    "papermill": {
     "duration": 1.836244,
     "end_time": "2023-11-18T08:33:35.424843",
     "exception": false,
     "start_time": "2023-11-18T08:33:33.588599",
     "status": "completed"
    },
    "tags": []
   },
   "outputs": [
    {
     "data": {
      "text/html": [
       "<style>#sk-container-id-16 {color: black;background-color: white;}#sk-container-id-16 pre{padding: 0;}#sk-container-id-16 div.sk-toggleable {background-color: white;}#sk-container-id-16 label.sk-toggleable__label {cursor: pointer;display: block;width: 100%;margin-bottom: 0;padding: 0.3em;box-sizing: border-box;text-align: center;}#sk-container-id-16 label.sk-toggleable__label-arrow:before {content: \"▸\";float: left;margin-right: 0.25em;color: #696969;}#sk-container-id-16 label.sk-toggleable__label-arrow:hover:before {color: black;}#sk-container-id-16 div.sk-estimator:hover label.sk-toggleable__label-arrow:before {color: black;}#sk-container-id-16 div.sk-toggleable__content {max-height: 0;max-width: 0;overflow: hidden;text-align: left;background-color: #f0f8ff;}#sk-container-id-16 div.sk-toggleable__content pre {margin: 0.2em;color: black;border-radius: 0.25em;background-color: #f0f8ff;}#sk-container-id-16 input.sk-toggleable__control:checked~div.sk-toggleable__content {max-height: 200px;max-width: 100%;overflow: auto;}#sk-container-id-16 input.sk-toggleable__control:checked~label.sk-toggleable__label-arrow:before {content: \"▾\";}#sk-container-id-16 div.sk-estimator input.sk-toggleable__control:checked~label.sk-toggleable__label {background-color: #d4ebff;}#sk-container-id-16 div.sk-label input.sk-toggleable__control:checked~label.sk-toggleable__label {background-color: #d4ebff;}#sk-container-id-16 input.sk-hidden--visually {border: 0;clip: rect(1px 1px 1px 1px);clip: rect(1px, 1px, 1px, 1px);height: 1px;margin: -1px;overflow: hidden;padding: 0;position: absolute;width: 1px;}#sk-container-id-16 div.sk-estimator {font-family: monospace;background-color: #f0f8ff;border: 1px dotted black;border-radius: 0.25em;box-sizing: border-box;margin-bottom: 0.5em;}#sk-container-id-16 div.sk-estimator:hover {background-color: #d4ebff;}#sk-container-id-16 div.sk-parallel-item::after {content: \"\";width: 100%;border-bottom: 1px solid gray;flex-grow: 1;}#sk-container-id-16 div.sk-label:hover label.sk-toggleable__label {background-color: #d4ebff;}#sk-container-id-16 div.sk-serial::before {content: \"\";position: absolute;border-left: 1px solid gray;box-sizing: border-box;top: 0;bottom: 0;left: 50%;z-index: 0;}#sk-container-id-16 div.sk-serial {display: flex;flex-direction: column;align-items: center;background-color: white;padding-right: 0.2em;padding-left: 0.2em;position: relative;}#sk-container-id-16 div.sk-item {position: relative;z-index: 1;}#sk-container-id-16 div.sk-parallel {display: flex;align-items: stretch;justify-content: center;background-color: white;position: relative;}#sk-container-id-16 div.sk-item::before, #sk-container-id-16 div.sk-parallel-item::before {content: \"\";position: absolute;border-left: 1px solid gray;box-sizing: border-box;top: 0;bottom: 0;left: 50%;z-index: -1;}#sk-container-id-16 div.sk-parallel-item {display: flex;flex-direction: column;z-index: 1;position: relative;background-color: white;}#sk-container-id-16 div.sk-parallel-item:first-child::after {align-self: flex-end;width: 50%;}#sk-container-id-16 div.sk-parallel-item:last-child::after {align-self: flex-start;width: 50%;}#sk-container-id-16 div.sk-parallel-item:only-child::after {width: 0;}#sk-container-id-16 div.sk-dashed-wrapped {border: 1px dashed gray;margin: 0 0.4em 0.5em 0.4em;box-sizing: border-box;padding-bottom: 0.4em;background-color: white;}#sk-container-id-16 div.sk-label label {font-family: monospace;font-weight: bold;display: inline-block;line-height: 1.2em;}#sk-container-id-16 div.sk-label-container {text-align: center;}#sk-container-id-16 div.sk-container {/* jupyter's `normalize.less` sets `[hidden] { display: none; }` but bootstrap.min.css set `[hidden] { display: none !important; }` so we also need the `!important` here to be able to override the default hidden behavior on the sphinx rendered scikit-learn.org. See: https://github.com/scikit-learn/scikit-learn/issues/21755 */display: inline-block !important;position: relative;}#sk-container-id-16 div.sk-text-repr-fallback {display: none;}</style><div id=\"sk-container-id-16\" class=\"sk-top-container\"><div class=\"sk-text-repr-fallback\"><pre>BalancedRandomForestClassifier(max_depth=13, max_samples=0.9, n_estimators=200,\n",
       "                               oob_score=True, random_state=42,\n",
       "                               replacement=True, sampling_strategy=&#x27;all&#x27;)</pre><b>In a Jupyter environment, please rerun this cell to show the HTML representation or trust the notebook. <br />On GitHub, the HTML representation is unable to render, please try loading this page with nbviewer.org.</b></div><div class=\"sk-container\" hidden><div class=\"sk-item\"><div class=\"sk-estimator sk-toggleable\"><input class=\"sk-toggleable__control sk-hidden--visually\" id=\"sk-estimator-id-16\" type=\"checkbox\" checked><label for=\"sk-estimator-id-16\" class=\"sk-toggleable__label sk-toggleable__label-arrow\">BalancedRandomForestClassifier</label><div class=\"sk-toggleable__content\"><pre>BalancedRandomForestClassifier(max_depth=13, max_samples=0.9, n_estimators=200,\n",
       "                               oob_score=True, random_state=42,\n",
       "                               replacement=True, sampling_strategy=&#x27;all&#x27;)</pre></div></div></div></div></div>"
      ],
      "text/plain": [
       "BalancedRandomForestClassifier(max_depth=13, max_samples=0.9, n_estimators=200,\n",
       "                               oob_score=True, random_state=42,\n",
       "                               replacement=True, sampling_strategy='all')"
      ]
     },
     "execution_count": 58,
     "metadata": {},
     "output_type": "execute_result"
    }
   ],
   "source": [
    "# balanced random forest classifier\n",
    "brfc = BalancedRandomForestClassifier(n_estimators = 200, bootstrap = True, oob_score = True, \n",
    "                                      max_features = \"sqrt\", sampling_strategy=\"all\", \n",
    "                                      max_depth = 13, max_samples = 0.9,\n",
    "                                      replacement=True, random_state = 42)\n",
    "brfc.fit(scaled_X_train, y_train)"
   ]
  },
  {
   "cell_type": "code",
   "execution_count": 59,
   "id": "75068a54",
   "metadata": {
    "execution": {
     "iopub.execute_input": "2023-11-18T08:33:35.511424Z",
     "iopub.status.busy": "2023-11-18T08:33:35.511013Z",
     "iopub.status.idle": "2023-11-18T08:33:35.934217Z",
     "shell.execute_reply": "2023-11-18T08:33:35.933060Z"
    },
    "papermill": {
     "duration": 0.467564,
     "end_time": "2023-11-18T08:33:35.936943",
     "exception": false,
     "start_time": "2023-11-18T08:33:35.469379",
     "status": "completed"
    },
    "tags": []
   },
   "outputs": [
    {
     "name": "stdout",
     "output_type": "stream",
     "text": [
      "              precision    recall  f1-score   support\n",
      "\n",
      "         Web      0.890     0.280     0.426       261\n",
      "  BruteForce      0.722     0.982     0.832       497\n",
      "\n",
      "    accuracy                          0.740       758\n",
      "   macro avg      0.806     0.631     0.629       758\n",
      "weighted avg      0.780     0.740     0.692       758\n",
      "\n"
     ]
    },
    {
     "data": {
      "text/plain": [
       "<Figure size 1000x500 with 0 Axes>"
      ]
     },
     "metadata": {},
     "output_type": "display_data"
    },
    {
     "data": {
      "image/png": "[encoded data removed]",
      "text/plain": [
       "<Figure size 640x480 with 2 Axes>"
      ]
     },
     "metadata": {},
     "output_type": "display_data"
    }
   ],
   "source": [
    "pred = brfc.predict(scaled_X_test)\n",
    "print(classification_report(y_test, pred, target_names = target_names, digits = 3))\n",
    "\n",
    "plt.figure(figsize = (4, 2), dpi=250)\n",
    "ConfusionMatrixDisplay(np.round(confusion_matrix(y_test, pred, normalize=\"true\"), 3), \n",
    "                       display_labels = target_names).plot();\n",
    "plt.xticks(rotation=90);"
   ]
  },
  {
   "cell_type": "code",
   "execution_count": null,
   "id": "1f59056f",
   "metadata": {
    "papermill": {
     "duration": 0.040102,
     "end_time": "2023-11-18T08:33:36.023087",
     "exception": false,
     "start_time": "2023-11-18T08:33:35.982985",
     "status": "completed"
    },
    "tags": []
   },
   "outputs": [],
   "source": []
  }
 ],
 "metadata": {
  "kaggle": {
   "accelerator": "none",
   "dataSources": [
    {
     "datasetId": 3706998,
     "sourceId": 6425404,
     "sourceType": "datasetVersion"
    },
    {
     "sourceId": 147704369,
     "sourceType": "kernelVersion"
    }
   ],
   "dockerImageVersionId": 30579,
   "isGpuEnabled": false,
   "isInternetEnabled": true,
   "language": "python",
   "sourceType": "notebook"
  },
  "kernelspec": {
   "display_name": "Python 3",
   "language": "python",
   "name": "python3"
  },
  "language_info": {
   "codemirror_mode": {
    "name": "ipython",
    "version": 3
   },
   "file_extension": ".py",
   "mimetype": "text/x-python",
   "name": "python",
   "nbconvert_exporter": "python",
   "pygments_lexer": "ipython3",
   "version": "3.10.12"
  },
  "papermill": {
   "default_parameters": {},
   "duration": 9444.043882,
   "end_time": "2023-11-18T08:33:37.612695",
   "environment_variables": {},
   "exception": null,
   "input_path": "__notebook__.ipynb",
   "output_path": "__notebook__.ipynb",
   "parameters": {},
   "start_time": "2023-11-18T05:56:13.568813",
   "version": "2.4.0"
  }
 },
 "nbformat": 4,
 "nbformat_minor": 5
}
